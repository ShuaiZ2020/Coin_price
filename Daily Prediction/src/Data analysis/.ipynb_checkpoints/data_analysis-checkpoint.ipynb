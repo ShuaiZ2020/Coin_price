{
 "cells": [
  {
   "cell_type": "code",
   "execution_count": 1,
   "id": "dddbed08",
   "metadata": {},
   "outputs": [],
   "source": [
    "import pandas as pd\n",
    "import calendar\n",
    "import datetime\n",
    "import plotly.express as px\n",
    "import plotly.graph_objects as go\n",
    "import warnings\n",
    "warnings.filterwarnings('ignore')"
   ]
  },
  {
   "cell_type": "markdown",
   "id": "6f3ae0f4",
   "metadata": {},
   "source": [
    "## real price data cleaning"
   ]
  },
  {
   "cell_type": "code",
   "execution_count": 2,
   "id": "2ddaf853",
   "metadata": {},
   "outputs": [],
   "source": [
    "df_real_price = pd.read_csv(r'D:\\Shuai-Jingbo-Pei-yu\\CoinMarketCap_CoinPrice_data\\Coin_real_price\\merged\\2021-2022.csv')"
   ]
  },
  {
   "cell_type": "code",
   "execution_count": 3,
   "id": "f397b72c",
   "metadata": {
    "scrolled": false
   },
   "outputs": [],
   "source": [
    "def get_real_price(coin_symbol,start_date = None,end_date = None):\n",
    "    df_real_price_cleaned = df_real_price.drop(df_real_price[df_real_price.loc[:,'Date'].str.split('-',expand= True)[1].isna()].index)\n",
    "    df_real_price_cleaned.loc[:,'Date'] = pd.to_datetime(df_real_price_cleaned.loc[:,'Date'],format = \"%d-%b-%y\")\n",
    "    df_btc_daily = df_real_price_cleaned[df_real_price_cleaned.loc[:,'Symbol'] == coin_symbol]\n",
    "    if end_date == None:\n",
    "        df_return = df_btc_daily[df_btc_daily.loc[:,'Date'] >= start_date]\n",
    "    elif start_date == None:\n",
    "        df_return = df_btc_daily[df_btc_daily.loc[:,'Date'] <= end_date]\n",
    "    else:\n",
    "        df_return = df_btc_daily[(df_btc_daily.loc[:,'Date'] >= start_date) & (df_btc_daily.loc[:,'Date'] <= end_date)]\n",
    "    df_return.loc[:,'Price'] = pd.to_numeric(df_return.loc[:,'Price'])\n",
    "    return df_return\n",
    "# get_real_price('BTC',start_date = '2022-01-01')"
   ]
  },
  {
   "cell_type": "code",
   "execution_count": 4,
   "id": "e711fce1",
   "metadata": {},
   "outputs": [],
   "source": [
    "# fig = px.line(df_btc,x = 'Date',y ='Price',text = 'Price',title = \"Price of BTC from Jan 2021 to May 2022\")\n",
    "# fig.update_traces(textposition=\"top right\")\n"
   ]
  },
  {
   "cell_type": "markdown",
   "id": "9b687777",
   "metadata": {},
   "source": [
    "## predication data cleaning"
   ]
  },
  {
   "cell_type": "code",
   "execution_count": 5,
   "id": "8d9ecb63",
   "metadata": {},
   "outputs": [],
   "source": [
    "df_predication_before_jun = pd.read_csv(r'D:\\Shuai-Jingbo-Pei-yu\\CoinMarketCap_CoinPrice_data\\Daily Prediction\\src\\to_one_&_to_week\\total-before-jun.csv')\n",
    "df_predication_after_jun = pd.read_csv(r'D:\\Shuai-Jingbo-Pei-yu\\CoinMarketCap_CoinPrice_data\\Daily Prediction\\src\\to_one_&_to_week\\total-after-jun.csv')\n",
    "df_predication_total = pd.concat([df_predication_before_jun,df_predication_after_jun])"
   ]
  },
  {
   "cell_type": "code",
   "execution_count": 6,
   "id": "73d746e3",
   "metadata": {
    "scrolled": false
   },
   "outputs": [],
   "source": [
    "df_predication_total_date_formated = df_predication_total.copy()\n",
    "df_predication_total_date_formated.loc[:,'Predication_month_year'] = pd.to_datetime(df_predication_total.loc[:,'Predication_month_year'],format = '%b-%y') + pd.offsets.MonthEnd()\n",
    "df_predication_total_date_formated.loc[:,'Date'] = pd.to_datetime(df_predication_total_date_formated.loc[:,'Date'],format = '%d-%b-%y')\n",
    "def get_predication(symbol,predication_date):   \n",
    "    df_predication_symbol = df_predication_total_date_formated[df_predication_total_date_formated.loc[:,'Crypto_symbol']==symbol].sort_values(by = ['Date','Predication_month_year'])\n",
    "#     df_predication_symbol = df_predication_symbol[df_predication_symbol.loc[:,'Predication_month_year']]\n",
    "    df_real_price = get_real_price(symbol,start_date = '2021-11-01')\n",
    "    df_symbol_price = df_real_price.loc[:,['Price','Date']]\n",
    "#     display(df_symbol_price)\n",
    "#     display(df_predication_symbol)\n",
    "    df_merged = df_predication_symbol.merge(df_symbol_price,\n",
    "                             left_on = 'Predication_month_year',\n",
    "                             right_on ='Date').rename(columns = {'Date_x':'Predication_date',\n",
    "                                                                 'Date_y':'Price_date'})\n",
    "    df_merged_month = df_merged[df_merged.loc[:,'Price_date'] == predication_date]\n",
    "#     df_merged_month.loc[:,'Difference'] = df_merged_month.loc[:,'Values_median']-df_merged.loc[:,'Price']\n",
    "#     df_merged_month.loc[:,'Percentage_Difference'] = df_merged_month.loc[:,'Difference']/df_merged_month.loc[:,'Price']\n",
    "#     df_merged_month.sort_values(by = 'Predication_date',inplace = True)\n",
    "    return df_merged_month"
   ]
  },
  {
   "cell_type": "code",
   "execution_count": 16,
   "id": "d3bf28f7",
   "metadata": {},
   "outputs": [
    {
     "data": {
      "text/plain": [
       "['BTC', 'ETH', 'BNB', 'SOL', 'ADA']"
      ]
     },
     "execution_count": 16,
     "metadata": {},
     "output_type": "execute_result"
    }
   ],
   "source": [
    "symbol_list = df_predication_total.iloc[-600:,:].drop_duplicates(subset = ['Crypto_symbol']).loc[:,'Crypto_symbol'].to_list()\n",
    "symbol_list[:5]"
   ]
  },
  {
   "cell_type": "markdown",
   "id": "4a0d21a7",
   "metadata": {},
   "source": [
    "## visualization"
   ]
  },
  {
   "cell_type": "code",
   "execution_count": 20,
   "id": "598127ff",
   "metadata": {},
   "outputs": [],
   "source": [
    "def visualize(symbol,month):\n",
    "#     symbol = 'ETH'\n",
    "#     month = '2022-03-31'\n",
    "    df_merged = get_predication(symbol,month)\n",
    "    df_btc_daily = get_real_price(symbol,'2021-11-01',month)\n",
    "#     display(df_merged)\n",
    "#     display(df_btc_daily)\n",
    "    # visualization\n",
    "    fig = go.Figure()\n",
    "    # predication\n",
    "    fig.add_trace(go.Scatter(x = df_merged['Predication_date'], y = df_merged['Values_median'],\n",
    "                        name='Predication'))\n",
    "    # real price\n",
    "    text_list =  df_btc_daily['Price'].copy()\n",
    "    text_list[:-1] = None\n",
    "    fig.add_trace(go.Scatter(x = df_btc_daily['Date'], y = df_btc_daily['Price'],\n",
    "                        name='real price',\n",
    "                        text = text_list,\n",
    "                        textposition = 'bottom center'\n",
    "                            ))\n",
    "    fig.update_layout(title = 'Predication to '+month+' and real price of '+symbol,\n",
    "                     xaxis_title = 'Date',\n",
    "                     yaxis_title = 'Price')\n",
    "    return fig"
   ]
  },
  {
   "cell_type": "code",
   "execution_count": 38,
   "id": "dc70cae8",
   "metadata": {
    "scrolled": false
   },
   "outputs": [
    {
     "data": {
      "application/vnd.plotly.v1+json": {
       "config": {
        "plotlyServerURL": "https://plot.ly"
       },
       "data": [
        {
         "name": "Predication",
         "type": "scatter",
         "x": [
          "2021-11-19T00:00:00",
          "2021-11-20T00:00:00",
          "2021-11-21T00:00:00",
          "2021-11-22T00:00:00",
          "2021-11-23T00:00:00",
          "2021-11-24T00:00:00",
          "2021-11-26T00:00:00",
          "2021-11-27T00:00:00",
          "2021-11-28T00:00:00",
          "2021-11-29T00:00:00",
          "2021-11-30T00:00:00",
          "2021-12-01T00:00:00",
          "2021-12-02T00:00:00",
          "2021-12-03T00:00:00",
          "2021-12-04T00:00:00",
          "2021-12-05T00:00:00",
          "2021-12-06T00:00:00",
          "2021-12-07T00:00:00",
          "2021-12-08T00:00:00",
          "2021-12-09T00:00:00",
          "2021-12-10T00:00:00",
          "2021-12-11T00:00:00",
          "2021-12-12T00:00:00",
          "2021-12-13T00:00:00",
          "2021-12-14T00:00:00",
          "2021-12-15T00:00:00",
          "2021-12-16T00:00:00",
          "2021-12-17T00:00:00",
          "2021-12-18T00:00:00",
          "2021-12-19T00:00:00",
          "2021-12-20T00:00:00",
          "2021-12-21T00:00:00",
          "2021-12-22T00:00:00",
          "2021-12-22T00:00:00",
          "2021-12-24T00:00:00",
          "2021-12-25T00:00:00",
          "2021-12-26T00:00:00",
          "2021-12-27T00:00:00",
          "2021-12-28T00:00:00",
          "2021-12-29T00:00:00",
          "2021-12-31T00:00:00",
          "2022-01-01T00:00:00",
          "2022-01-02T00:00:00",
          "2022-01-03T00:00:00",
          "2022-01-04T00:00:00",
          "2022-01-05T00:00:00",
          "2022-01-06T00:00:00",
          "2022-01-07T00:00:00"
         ],
         "y": [
          490.04,
          490.68,
          490.68,
          491.47,
          492.26,
          492.41,
          494.24,
          494.85,
          495.15,
          495.25,
          495.25,
          497.03,
          497.22,
          498.61,
          499.66,
          500,
          500,
          500.35,
          505.38,
          507.56,
          500.170219999158,
          486.87450786830567,
          490.3572938532123,
          491.02989696808913,
          511.2946580779855,
          492.9731637487163,
          509.8528965352875,
          529.0822799946386,
          485.9895827615198,
          492.9606116886958,
          517.29,
          518.81,
          519,
          519,
          526.4549095194436,
          541.5851544460435,
          543.0080457037094,
          521.6910673531513,
          520.01,
          520.11,
          520.91,
          521.28,
          521.6,
          521.8,
          521.78,
          520.91,
          520.34,
          520.11
         ]
        },
        {
         "name": "real price",
         "text": [
          null,
          null,
          null,
          null,
          null,
          null,
          null,
          null,
          null,
          null,
          null,
          null,
          null,
          null,
          null,
          null,
          null,
          null,
          null,
          null,
          null,
          null,
          null,
          null,
          null,
          null,
          null,
          null,
          null,
          null,
          null,
          null,
          null,
          null,
          null,
          null,
          null,
          null,
          null,
          null,
          null,
          null,
          null,
          null,
          null,
          null,
          null,
          null,
          null,
          null,
          null,
          null,
          null,
          null,
          null,
          null,
          null,
          null,
          null,
          null,
          null,
          null,
          null,
          null,
          null,
          null,
          null,
          null,
          null,
          null,
          null,
          null,
          null,
          null,
          null,
          null,
          null,
          null,
          null,
          null,
          null,
          null,
          null,
          null,
          null,
          null,
          null,
          null,
          null,
          null,
          null,
          null,
          null,
          null,
          null,
          null,
          null,
          null,
          null,
          null,
          null,
          null,
          null,
          null,
          null,
          null,
          null,
          null,
          null,
          null,
          null,
          null,
          null,
          null,
          null,
          null,
          null,
          null,
          null,
          null,
          null,
          null,
          null,
          null,
          null,
          null,
          null,
          null,
          null,
          null,
          null,
          null,
          null,
          null,
          null,
          null,
          null,
          null,
          null,
          null,
          null,
          null,
          null,
          null,
          null,
          null,
          null,
          null,
          null,
          null,
          null,
          null,
          null,
          null,
          428.92
         ],
         "textposition": "bottom center",
         "type": "scatter",
         "x": [
          "2021-11-01T00:00:00",
          "2021-11-02T00:00:00",
          "2021-11-03T00:00:00",
          "2021-11-04T00:00:00",
          "2021-11-05T00:00:00",
          "2021-11-06T00:00:00",
          "2021-11-07T00:00:00",
          "2021-11-08T00:00:00",
          "2021-11-09T00:00:00",
          "2021-11-10T00:00:00",
          "2021-11-11T00:00:00",
          "2021-11-12T00:00:00",
          "2021-11-13T00:00:00",
          "2021-11-14T00:00:00",
          "2021-11-15T00:00:00",
          "2021-11-16T00:00:00",
          "2021-11-17T00:00:00",
          "2021-11-18T00:00:00",
          "2021-11-19T00:00:00",
          "2021-11-20T00:00:00",
          "2021-11-21T00:00:00",
          "2021-11-22T00:00:00",
          "2021-11-23T00:00:00",
          "2021-11-24T00:00:00",
          "2021-11-25T00:00:00",
          "2021-11-26T00:00:00",
          "2021-11-27T00:00:00",
          "2021-11-28T00:00:00",
          "2021-11-29T00:00:00",
          "2021-11-30T00:00:00",
          "2021-12-01T00:00:00",
          "2021-12-02T00:00:00",
          "2021-12-03T00:00:00",
          "2021-12-04T00:00:00",
          "2021-12-05T00:00:00",
          "2021-12-06T00:00:00",
          "2021-12-07T00:00:00",
          "2021-12-08T00:00:00",
          "2021-12-09T00:00:00",
          "2021-12-10T00:00:00",
          "2021-12-11T00:00:00",
          "2021-12-12T00:00:00",
          "2021-12-13T00:00:00",
          "2021-12-14T00:00:00",
          "2021-12-15T00:00:00",
          "2021-12-16T00:00:00",
          "2021-12-17T00:00:00",
          "2021-12-18T00:00:00",
          "2021-12-18T00:00:00",
          "2021-12-19T00:00:00",
          "2021-12-19T00:00:00",
          "2021-12-20T00:00:00",
          "2021-12-20T00:00:00",
          "2021-12-21T00:00:00",
          "2021-12-21T00:00:00",
          "2021-12-22T00:00:00",
          "2021-12-22T00:00:00",
          "2021-12-23T00:00:00",
          "2021-12-24T00:00:00",
          "2021-12-25T00:00:00",
          "2021-12-26T00:00:00",
          "2021-12-27T00:00:00",
          "2021-12-28T00:00:00",
          "2021-12-29T00:00:00",
          "2021-12-30T00:00:00",
          "2021-12-31T00:00:00",
          "2022-01-01T00:00:00",
          "2022-01-02T00:00:00",
          "2022-01-03T00:00:00",
          "2022-01-04T00:00:00",
          "2022-01-05T00:00:00",
          "2022-01-06T00:00:00",
          "2022-01-07T00:00:00",
          "2022-01-08T00:00:00",
          "2022-01-09T00:00:00",
          "2022-01-10T00:00:00",
          "2022-01-11T00:00:00",
          "2022-01-12T00:00:00",
          "2022-01-13T00:00:00",
          "2022-01-14T00:00:00",
          "2022-01-15T00:00:00",
          "2022-01-16T00:00:00",
          "2022-01-17T00:00:00",
          "2022-01-18T00:00:00",
          "2022-01-19T00:00:00",
          "2022-01-20T00:00:00",
          "2022-01-21T00:00:00",
          "2022-01-22T00:00:00",
          "2022-01-23T00:00:00",
          "2022-01-24T00:00:00",
          "2022-01-25T00:00:00",
          "2022-01-26T00:00:00",
          "2022-01-27T00:00:00",
          "2022-01-28T00:00:00",
          "2022-01-29T00:00:00",
          "2022-01-30T00:00:00",
          "2022-01-31T00:00:00",
          "2022-02-01T00:00:00",
          "2022-02-02T00:00:00",
          "2022-02-03T00:00:00",
          "2022-02-04T00:00:00",
          "2022-02-05T00:00:00",
          "2022-02-06T00:00:00",
          "2022-02-07T00:00:00",
          "2022-02-08T00:00:00",
          "2022-02-09T00:00:00",
          "2022-02-10T00:00:00",
          "2022-02-11T00:00:00",
          "2022-02-12T00:00:00",
          "2022-02-13T00:00:00",
          "2022-02-14T00:00:00",
          "2022-02-16T00:00:00",
          "2022-02-17T00:00:00",
          "2022-02-18T00:00:00",
          "2022-02-19T00:00:00",
          "2022-02-20T00:00:00",
          "2022-02-21T00:00:00",
          "2022-02-22T00:00:00",
          "2022-02-23T00:00:00",
          "2022-02-24T00:00:00",
          "2022-02-25T00:00:00",
          "2022-02-26T00:00:00",
          "2022-02-27T00:00:00",
          "2022-02-28T00:00:00",
          "2022-03-01T00:00:00",
          "2022-03-02T00:00:00",
          "2022-03-03T00:00:00",
          "2022-03-04T00:00:00",
          "2022-03-05T00:00:00",
          "2022-03-06T00:00:00",
          "2022-03-07T00:00:00",
          "2022-03-08T00:00:00",
          "2022-03-09T00:00:00",
          "2022-03-10T00:00:00",
          "2022-03-11T00:00:00",
          "2022-03-12T00:00:00",
          "2022-03-13T00:00:00",
          "2022-03-14T00:00:00",
          "2022-03-15T00:00:00",
          "2022-03-16T00:00:00",
          "2022-03-17T00:00:00",
          "2022-03-18T00:00:00",
          "2022-03-19T00:00:00",
          "2022-03-20T00:00:00",
          "2022-03-21T00:00:00",
          "2022-03-22T00:00:00",
          "2022-03-23T00:00:00",
          "2022-03-24T00:00:00",
          "2022-03-25T00:00:00",
          "2022-03-26T00:00:00",
          "2022-03-27T00:00:00",
          "2022-03-28T00:00:00",
          "2022-03-29T00:00:00",
          "2022-03-30T00:00:00",
          "2022-03-31T00:00:00"
         ],
         "y": [
          551.26,
          554.45,
          568.58,
          559.74,
          608.65,
          636.11,
          650.45,
          654.32,
          635.19,
          615.28,
          629.89,
          626.64,
          650.1,
          650.92,
          633.05,
          589.82,
          578.09,
          532.24,
          581.53,
          603.84,
          585.29,
          559.13,
          591.44,
          590.84,
          638.72,
          585.15,
          600.34,
          611.37,
          624.31,
          622.67,
          627.97,
          619.47,
          594.64,
          569.08,
          557.78,
          589.26,
          579.69,
          607.59,
          571.65,
          552.97,
          564.32,
          570.82,
          521.01,
          528.5,
          541.03,
          526.25,
          525.71,
          533.89,
          533.89,
          529.97,
          529.97,
          523.16,
          523.16,
          528.71,
          528.71,
          533.64,
          533.64,
          548.73,
          541.9,
          547.33,
          546.99,
          562.64,
          534.93,
          514,
          518.91,
          511.71,
          527.35,
          531.4,
          512.14,
          507.51,
          475.06,
          473.28,
          447.79,
          430.25,
          438.8,
          424.93,
          463.52,
          487.01,
          475.03,
          489.87,
          494.99,
          498.43,
          475.71,
          472.01,
          462.82,
          440.01,
          383.07,
          358.1,
          383.93,
          371.37,
          384.62,
          375.76,
          390.09,
          386.08,
          389.13,
          377.61,
          375.28,
          385.46,
          367.47,
          370.88,
          399.03,
          414.2,
          419.55,
          433.23,
          408.78,
          422.47,
          415.12,
          400.42,
          403.39,
          398.89,
          403.66,
          427.92,
          402.45,
          399.57,
          400.04,
          380.83,
          356.66,
          374.31,
          366.54,
          361.23,
          374.91,
          373.64,
          360.53,
          395.61,
          408.48,
          409,
          402.55,
          374.28,
          384.87,
          375.01,
          381.34,
          381.96,
          393.56,
          372.16,
          372.18,
          372.73,
          361.85,
          373.47,
          371.63,
          385.53,
          391.82,
          397.65,
          399.85,
          390.77,
          396.45,
          404.31,
          408.61,
          414.13,
          410.81,
          415.92,
          430.5,
          430.39,
          434.51,
          442.68,
          428.92
         ]
        }
       ],
       "layout": {
        "template": {
         "data": {
          "bar": [
           {
            "error_x": {
             "color": "#2a3f5f"
            },
            "error_y": {
             "color": "#2a3f5f"
            },
            "marker": {
             "line": {
              "color": "#E5ECF6",
              "width": 0.5
             },
             "pattern": {
              "fillmode": "overlay",
              "size": 10,
              "solidity": 0.2
             }
            },
            "type": "bar"
           }
          ],
          "barpolar": [
           {
            "marker": {
             "line": {
              "color": "#E5ECF6",
              "width": 0.5
             },
             "pattern": {
              "fillmode": "overlay",
              "size": 10,
              "solidity": 0.2
             }
            },
            "type": "barpolar"
           }
          ],
          "carpet": [
           {
            "aaxis": {
             "endlinecolor": "#2a3f5f",
             "gridcolor": "white",
             "linecolor": "white",
             "minorgridcolor": "white",
             "startlinecolor": "#2a3f5f"
            },
            "baxis": {
             "endlinecolor": "#2a3f5f",
             "gridcolor": "white",
             "linecolor": "white",
             "minorgridcolor": "white",
             "startlinecolor": "#2a3f5f"
            },
            "type": "carpet"
           }
          ],
          "choropleth": [
           {
            "colorbar": {
             "outlinewidth": 0,
             "ticks": ""
            },
            "type": "choropleth"
           }
          ],
          "contour": [
           {
            "colorbar": {
             "outlinewidth": 0,
             "ticks": ""
            },
            "colorscale": [
             [
              0,
              "#0d0887"
             ],
             [
              0.1111111111111111,
              "#46039f"
             ],
             [
              0.2222222222222222,
              "#7201a8"
             ],
             [
              0.3333333333333333,
              "#9c179e"
             ],
             [
              0.4444444444444444,
              "#bd3786"
             ],
             [
              0.5555555555555556,
              "#d8576b"
             ],
             [
              0.6666666666666666,
              "#ed7953"
             ],
             [
              0.7777777777777778,
              "#fb9f3a"
             ],
             [
              0.8888888888888888,
              "#fdca26"
             ],
             [
              1,
              "#f0f921"
             ]
            ],
            "type": "contour"
           }
          ],
          "contourcarpet": [
           {
            "colorbar": {
             "outlinewidth": 0,
             "ticks": ""
            },
            "type": "contourcarpet"
           }
          ],
          "heatmap": [
           {
            "colorbar": {
             "outlinewidth": 0,
             "ticks": ""
            },
            "colorscale": [
             [
              0,
              "#0d0887"
             ],
             [
              0.1111111111111111,
              "#46039f"
             ],
             [
              0.2222222222222222,
              "#7201a8"
             ],
             [
              0.3333333333333333,
              "#9c179e"
             ],
             [
              0.4444444444444444,
              "#bd3786"
             ],
             [
              0.5555555555555556,
              "#d8576b"
             ],
             [
              0.6666666666666666,
              "#ed7953"
             ],
             [
              0.7777777777777778,
              "#fb9f3a"
             ],
             [
              0.8888888888888888,
              "#fdca26"
             ],
             [
              1,
              "#f0f921"
             ]
            ],
            "type": "heatmap"
           }
          ],
          "heatmapgl": [
           {
            "colorbar": {
             "outlinewidth": 0,
             "ticks": ""
            },
            "colorscale": [
             [
              0,
              "#0d0887"
             ],
             [
              0.1111111111111111,
              "#46039f"
             ],
             [
              0.2222222222222222,
              "#7201a8"
             ],
             [
              0.3333333333333333,
              "#9c179e"
             ],
             [
              0.4444444444444444,
              "#bd3786"
             ],
             [
              0.5555555555555556,
              "#d8576b"
             ],
             [
              0.6666666666666666,
              "#ed7953"
             ],
             [
              0.7777777777777778,
              "#fb9f3a"
             ],
             [
              0.8888888888888888,
              "#fdca26"
             ],
             [
              1,
              "#f0f921"
             ]
            ],
            "type": "heatmapgl"
           }
          ],
          "histogram": [
           {
            "marker": {
             "pattern": {
              "fillmode": "overlay",
              "size": 10,
              "solidity": 0.2
             }
            },
            "type": "histogram"
           }
          ],
          "histogram2d": [
           {
            "colorbar": {
             "outlinewidth": 0,
             "ticks": ""
            },
            "colorscale": [
             [
              0,
              "#0d0887"
             ],
             [
              0.1111111111111111,
              "#46039f"
             ],
             [
              0.2222222222222222,
              "#7201a8"
             ],
             [
              0.3333333333333333,
              "#9c179e"
             ],
             [
              0.4444444444444444,
              "#bd3786"
             ],
             [
              0.5555555555555556,
              "#d8576b"
             ],
             [
              0.6666666666666666,
              "#ed7953"
             ],
             [
              0.7777777777777778,
              "#fb9f3a"
             ],
             [
              0.8888888888888888,
              "#fdca26"
             ],
             [
              1,
              "#f0f921"
             ]
            ],
            "type": "histogram2d"
           }
          ],
          "histogram2dcontour": [
           {
            "colorbar": {
             "outlinewidth": 0,
             "ticks": ""
            },
            "colorscale": [
             [
              0,
              "#0d0887"
             ],
             [
              0.1111111111111111,
              "#46039f"
             ],
             [
              0.2222222222222222,
              "#7201a8"
             ],
             [
              0.3333333333333333,
              "#9c179e"
             ],
             [
              0.4444444444444444,
              "#bd3786"
             ],
             [
              0.5555555555555556,
              "#d8576b"
             ],
             [
              0.6666666666666666,
              "#ed7953"
             ],
             [
              0.7777777777777778,
              "#fb9f3a"
             ],
             [
              0.8888888888888888,
              "#fdca26"
             ],
             [
              1,
              "#f0f921"
             ]
            ],
            "type": "histogram2dcontour"
           }
          ],
          "mesh3d": [
           {
            "colorbar": {
             "outlinewidth": 0,
             "ticks": ""
            },
            "type": "mesh3d"
           }
          ],
          "parcoords": [
           {
            "line": {
             "colorbar": {
              "outlinewidth": 0,
              "ticks": ""
             }
            },
            "type": "parcoords"
           }
          ],
          "pie": [
           {
            "automargin": true,
            "type": "pie"
           }
          ],
          "scatter": [
           {
            "fillpattern": {
             "fillmode": "overlay",
             "size": 10,
             "solidity": 0.2
            },
            "type": "scatter"
           }
          ],
          "scatter3d": [
           {
            "line": {
             "colorbar": {
              "outlinewidth": 0,
              "ticks": ""
             }
            },
            "marker": {
             "colorbar": {
              "outlinewidth": 0,
              "ticks": ""
             }
            },
            "type": "scatter3d"
           }
          ],
          "scattercarpet": [
           {
            "marker": {
             "colorbar": {
              "outlinewidth": 0,
              "ticks": ""
             }
            },
            "type": "scattercarpet"
           }
          ],
          "scattergeo": [
           {
            "marker": {
             "colorbar": {
              "outlinewidth": 0,
              "ticks": ""
             }
            },
            "type": "scattergeo"
           }
          ],
          "scattergl": [
           {
            "marker": {
             "colorbar": {
              "outlinewidth": 0,
              "ticks": ""
             }
            },
            "type": "scattergl"
           }
          ],
          "scattermapbox": [
           {
            "marker": {
             "colorbar": {
              "outlinewidth": 0,
              "ticks": ""
             }
            },
            "type": "scattermapbox"
           }
          ],
          "scatterpolar": [
           {
            "marker": {
             "colorbar": {
              "outlinewidth": 0,
              "ticks": ""
             }
            },
            "type": "scatterpolar"
           }
          ],
          "scatterpolargl": [
           {
            "marker": {
             "colorbar": {
              "outlinewidth": 0,
              "ticks": ""
             }
            },
            "type": "scatterpolargl"
           }
          ],
          "scatterternary": [
           {
            "marker": {
             "colorbar": {
              "outlinewidth": 0,
              "ticks": ""
             }
            },
            "type": "scatterternary"
           }
          ],
          "surface": [
           {
            "colorbar": {
             "outlinewidth": 0,
             "ticks": ""
            },
            "colorscale": [
             [
              0,
              "#0d0887"
             ],
             [
              0.1111111111111111,
              "#46039f"
             ],
             [
              0.2222222222222222,
              "#7201a8"
             ],
             [
              0.3333333333333333,
              "#9c179e"
             ],
             [
              0.4444444444444444,
              "#bd3786"
             ],
             [
              0.5555555555555556,
              "#d8576b"
             ],
             [
              0.6666666666666666,
              "#ed7953"
             ],
             [
              0.7777777777777778,
              "#fb9f3a"
             ],
             [
              0.8888888888888888,
              "#fdca26"
             ],
             [
              1,
              "#f0f921"
             ]
            ],
            "type": "surface"
           }
          ],
          "table": [
           {
            "cells": {
             "fill": {
              "color": "#EBF0F8"
             },
             "line": {
              "color": "white"
             }
            },
            "header": {
             "fill": {
              "color": "#C8D4E3"
             },
             "line": {
              "color": "white"
             }
            },
            "type": "table"
           }
          ]
         },
         "layout": {
          "annotationdefaults": {
           "arrowcolor": "#2a3f5f",
           "arrowhead": 0,
           "arrowwidth": 1
          },
          "autotypenumbers": "strict",
          "coloraxis": {
           "colorbar": {
            "outlinewidth": 0,
            "ticks": ""
           }
          },
          "colorscale": {
           "diverging": [
            [
             0,
             "#8e0152"
            ],
            [
             0.1,
             "#c51b7d"
            ],
            [
             0.2,
             "#de77ae"
            ],
            [
             0.3,
             "#f1b6da"
            ],
            [
             0.4,
             "#fde0ef"
            ],
            [
             0.5,
             "#f7f7f7"
            ],
            [
             0.6,
             "#e6f5d0"
            ],
            [
             0.7,
             "#b8e186"
            ],
            [
             0.8,
             "#7fbc41"
            ],
            [
             0.9,
             "#4d9221"
            ],
            [
             1,
             "#276419"
            ]
           ],
           "sequential": [
            [
             0,
             "#0d0887"
            ],
            [
             0.1111111111111111,
             "#46039f"
            ],
            [
             0.2222222222222222,
             "#7201a8"
            ],
            [
             0.3333333333333333,
             "#9c179e"
            ],
            [
             0.4444444444444444,
             "#bd3786"
            ],
            [
             0.5555555555555556,
             "#d8576b"
            ],
            [
             0.6666666666666666,
             "#ed7953"
            ],
            [
             0.7777777777777778,
             "#fb9f3a"
            ],
            [
             0.8888888888888888,
             "#fdca26"
            ],
            [
             1,
             "#f0f921"
            ]
           ],
           "sequentialminus": [
            [
             0,
             "#0d0887"
            ],
            [
             0.1111111111111111,
             "#46039f"
            ],
            [
             0.2222222222222222,
             "#7201a8"
            ],
            [
             0.3333333333333333,
             "#9c179e"
            ],
            [
             0.4444444444444444,
             "#bd3786"
            ],
            [
             0.5555555555555556,
             "#d8576b"
            ],
            [
             0.6666666666666666,
             "#ed7953"
            ],
            [
             0.7777777777777778,
             "#fb9f3a"
            ],
            [
             0.8888888888888888,
             "#fdca26"
            ],
            [
             1,
             "#f0f921"
            ]
           ]
          },
          "colorway": [
           "#636efa",
           "#EF553B",
           "#00cc96",
           "#ab63fa",
           "#FFA15A",
           "#19d3f3",
           "#FF6692",
           "#B6E880",
           "#FF97FF",
           "#FECB52"
          ],
          "font": {
           "color": "#2a3f5f"
          },
          "geo": {
           "bgcolor": "white",
           "lakecolor": "white",
           "landcolor": "#E5ECF6",
           "showlakes": true,
           "showland": true,
           "subunitcolor": "white"
          },
          "hoverlabel": {
           "align": "left"
          },
          "hovermode": "closest",
          "mapbox": {
           "style": "light"
          },
          "paper_bgcolor": "white",
          "plot_bgcolor": "#E5ECF6",
          "polar": {
           "angularaxis": {
            "gridcolor": "white",
            "linecolor": "white",
            "ticks": ""
           },
           "bgcolor": "#E5ECF6",
           "radialaxis": {
            "gridcolor": "white",
            "linecolor": "white",
            "ticks": ""
           }
          },
          "scene": {
           "xaxis": {
            "backgroundcolor": "#E5ECF6",
            "gridcolor": "white",
            "gridwidth": 2,
            "linecolor": "white",
            "showbackground": true,
            "ticks": "",
            "zerolinecolor": "white"
           },
           "yaxis": {
            "backgroundcolor": "#E5ECF6",
            "gridcolor": "white",
            "gridwidth": 2,
            "linecolor": "white",
            "showbackground": true,
            "ticks": "",
            "zerolinecolor": "white"
           },
           "zaxis": {
            "backgroundcolor": "#E5ECF6",
            "gridcolor": "white",
            "gridwidth": 2,
            "linecolor": "white",
            "showbackground": true,
            "ticks": "",
            "zerolinecolor": "white"
           }
          },
          "shapedefaults": {
           "line": {
            "color": "#2a3f5f"
           }
          },
          "ternary": {
           "aaxis": {
            "gridcolor": "white",
            "linecolor": "white",
            "ticks": ""
           },
           "baxis": {
            "gridcolor": "white",
            "linecolor": "white",
            "ticks": ""
           },
           "bgcolor": "#E5ECF6",
           "caxis": {
            "gridcolor": "white",
            "linecolor": "white",
            "ticks": ""
           }
          },
          "title": {
           "x": 0.05
          },
          "xaxis": {
           "automargin": true,
           "gridcolor": "white",
           "linecolor": "white",
           "ticks": "",
           "title": {
            "standoff": 15
           },
           "zerolinecolor": "white",
           "zerolinewidth": 2
          },
          "yaxis": {
           "automargin": true,
           "gridcolor": "white",
           "linecolor": "white",
           "ticks": "",
           "title": {
            "standoff": 15
           },
           "zerolinecolor": "white",
           "zerolinewidth": 2
          }
         }
        },
        "title": {
         "text": "Predication to 2022-03-31 and real price of BNB"
        },
        "xaxis": {
         "title": {
          "text": "Date"
         }
        },
        "yaxis": {
         "title": {
          "text": "Price"
         }
        }
       }
      },
      "text/html": [
       "<div>                            <div id=\"086e533c-14cb-416e-af32-a60d639ce1a0\" class=\"plotly-graph-div\" style=\"height:525px; width:100%;\"></div>            <script type=\"text/javascript\">                require([\"plotly\"], function(Plotly) {                    window.PLOTLYENV=window.PLOTLYENV || {};                                    if (document.getElementById(\"086e533c-14cb-416e-af32-a60d639ce1a0\")) {                    Plotly.newPlot(                        \"086e533c-14cb-416e-af32-a60d639ce1a0\",                        [{\"name\":\"Predication\",\"x\":[\"2021-11-19T00:00:00\",\"2021-11-20T00:00:00\",\"2021-11-21T00:00:00\",\"2021-11-22T00:00:00\",\"2021-11-23T00:00:00\",\"2021-11-24T00:00:00\",\"2021-11-26T00:00:00\",\"2021-11-27T00:00:00\",\"2021-11-28T00:00:00\",\"2021-11-29T00:00:00\",\"2021-11-30T00:00:00\",\"2021-12-01T00:00:00\",\"2021-12-02T00:00:00\",\"2021-12-03T00:00:00\",\"2021-12-04T00:00:00\",\"2021-12-05T00:00:00\",\"2021-12-06T00:00:00\",\"2021-12-07T00:00:00\",\"2021-12-08T00:00:00\",\"2021-12-09T00:00:00\",\"2021-12-10T00:00:00\",\"2021-12-11T00:00:00\",\"2021-12-12T00:00:00\",\"2021-12-13T00:00:00\",\"2021-12-14T00:00:00\",\"2021-12-15T00:00:00\",\"2021-12-16T00:00:00\",\"2021-12-17T00:00:00\",\"2021-12-18T00:00:00\",\"2021-12-19T00:00:00\",\"2021-12-20T00:00:00\",\"2021-12-21T00:00:00\",\"2021-12-22T00:00:00\",\"2021-12-22T00:00:00\",\"2021-12-24T00:00:00\",\"2021-12-25T00:00:00\",\"2021-12-26T00:00:00\",\"2021-12-27T00:00:00\",\"2021-12-28T00:00:00\",\"2021-12-29T00:00:00\",\"2021-12-31T00:00:00\",\"2022-01-01T00:00:00\",\"2022-01-02T00:00:00\",\"2022-01-03T00:00:00\",\"2022-01-04T00:00:00\",\"2022-01-05T00:00:00\",\"2022-01-06T00:00:00\",\"2022-01-07T00:00:00\"],\"y\":[490.04,490.68,490.68,491.47,492.26,492.41,494.24,494.85,495.15,495.25,495.25,497.03,497.22,498.61,499.66,500.0,500.0,500.35,505.38,507.56,500.170219999158,486.87450786830567,490.3572938532123,491.02989696808913,511.2946580779855,492.9731637487163,509.8528965352875,529.0822799946386,485.9895827615198,492.9606116886958,517.29,518.81,519.0,519.0,526.4549095194436,541.5851544460435,543.0080457037094,521.6910673531513,520.01,520.11,520.91,521.28,521.6,521.8,521.78,520.91,520.34,520.11],\"type\":\"scatter\"},{\"name\":\"real price\",\"text\":[null,null,null,null,null,null,null,null,null,null,null,null,null,null,null,null,null,null,null,null,null,null,null,null,null,null,null,null,null,null,null,null,null,null,null,null,null,null,null,null,null,null,null,null,null,null,null,null,null,null,null,null,null,null,null,null,null,null,null,null,null,null,null,null,null,null,null,null,null,null,null,null,null,null,null,null,null,null,null,null,null,null,null,null,null,null,null,null,null,null,null,null,null,null,null,null,null,null,null,null,null,null,null,null,null,null,null,null,null,null,null,null,null,null,null,null,null,null,null,null,null,null,null,null,null,null,null,null,null,null,null,null,null,null,null,null,null,null,null,null,null,null,null,null,null,null,null,null,null,null,null,null,null,null,428.92],\"textposition\":\"bottom center\",\"x\":[\"2021-11-01T00:00:00\",\"2021-11-02T00:00:00\",\"2021-11-03T00:00:00\",\"2021-11-04T00:00:00\",\"2021-11-05T00:00:00\",\"2021-11-06T00:00:00\",\"2021-11-07T00:00:00\",\"2021-11-08T00:00:00\",\"2021-11-09T00:00:00\",\"2021-11-10T00:00:00\",\"2021-11-11T00:00:00\",\"2021-11-12T00:00:00\",\"2021-11-13T00:00:00\",\"2021-11-14T00:00:00\",\"2021-11-15T00:00:00\",\"2021-11-16T00:00:00\",\"2021-11-17T00:00:00\",\"2021-11-18T00:00:00\",\"2021-11-19T00:00:00\",\"2021-11-20T00:00:00\",\"2021-11-21T00:00:00\",\"2021-11-22T00:00:00\",\"2021-11-23T00:00:00\",\"2021-11-24T00:00:00\",\"2021-11-25T00:00:00\",\"2021-11-26T00:00:00\",\"2021-11-27T00:00:00\",\"2021-11-28T00:00:00\",\"2021-11-29T00:00:00\",\"2021-11-30T00:00:00\",\"2021-12-01T00:00:00\",\"2021-12-02T00:00:00\",\"2021-12-03T00:00:00\",\"2021-12-04T00:00:00\",\"2021-12-05T00:00:00\",\"2021-12-06T00:00:00\",\"2021-12-07T00:00:00\",\"2021-12-08T00:00:00\",\"2021-12-09T00:00:00\",\"2021-12-10T00:00:00\",\"2021-12-11T00:00:00\",\"2021-12-12T00:00:00\",\"2021-12-13T00:00:00\",\"2021-12-14T00:00:00\",\"2021-12-15T00:00:00\",\"2021-12-16T00:00:00\",\"2021-12-17T00:00:00\",\"2021-12-18T00:00:00\",\"2021-12-18T00:00:00\",\"2021-12-19T00:00:00\",\"2021-12-19T00:00:00\",\"2021-12-20T00:00:00\",\"2021-12-20T00:00:00\",\"2021-12-21T00:00:00\",\"2021-12-21T00:00:00\",\"2021-12-22T00:00:00\",\"2021-12-22T00:00:00\",\"2021-12-23T00:00:00\",\"2021-12-24T00:00:00\",\"2021-12-25T00:00:00\",\"2021-12-26T00:00:00\",\"2021-12-27T00:00:00\",\"2021-12-28T00:00:00\",\"2021-12-29T00:00:00\",\"2021-12-30T00:00:00\",\"2021-12-31T00:00:00\",\"2022-01-01T00:00:00\",\"2022-01-02T00:00:00\",\"2022-01-03T00:00:00\",\"2022-01-04T00:00:00\",\"2022-01-05T00:00:00\",\"2022-01-06T00:00:00\",\"2022-01-07T00:00:00\",\"2022-01-08T00:00:00\",\"2022-01-09T00:00:00\",\"2022-01-10T00:00:00\",\"2022-01-11T00:00:00\",\"2022-01-12T00:00:00\",\"2022-01-13T00:00:00\",\"2022-01-14T00:00:00\",\"2022-01-15T00:00:00\",\"2022-01-16T00:00:00\",\"2022-01-17T00:00:00\",\"2022-01-18T00:00:00\",\"2022-01-19T00:00:00\",\"2022-01-20T00:00:00\",\"2022-01-21T00:00:00\",\"2022-01-22T00:00:00\",\"2022-01-23T00:00:00\",\"2022-01-24T00:00:00\",\"2022-01-25T00:00:00\",\"2022-01-26T00:00:00\",\"2022-01-27T00:00:00\",\"2022-01-28T00:00:00\",\"2022-01-29T00:00:00\",\"2022-01-30T00:00:00\",\"2022-01-31T00:00:00\",\"2022-02-01T00:00:00\",\"2022-02-02T00:00:00\",\"2022-02-03T00:00:00\",\"2022-02-04T00:00:00\",\"2022-02-05T00:00:00\",\"2022-02-06T00:00:00\",\"2022-02-07T00:00:00\",\"2022-02-08T00:00:00\",\"2022-02-09T00:00:00\",\"2022-02-10T00:00:00\",\"2022-02-11T00:00:00\",\"2022-02-12T00:00:00\",\"2022-02-13T00:00:00\",\"2022-02-14T00:00:00\",\"2022-02-16T00:00:00\",\"2022-02-17T00:00:00\",\"2022-02-18T00:00:00\",\"2022-02-19T00:00:00\",\"2022-02-20T00:00:00\",\"2022-02-21T00:00:00\",\"2022-02-22T00:00:00\",\"2022-02-23T00:00:00\",\"2022-02-24T00:00:00\",\"2022-02-25T00:00:00\",\"2022-02-26T00:00:00\",\"2022-02-27T00:00:00\",\"2022-02-28T00:00:00\",\"2022-03-01T00:00:00\",\"2022-03-02T00:00:00\",\"2022-03-03T00:00:00\",\"2022-03-04T00:00:00\",\"2022-03-05T00:00:00\",\"2022-03-06T00:00:00\",\"2022-03-07T00:00:00\",\"2022-03-08T00:00:00\",\"2022-03-09T00:00:00\",\"2022-03-10T00:00:00\",\"2022-03-11T00:00:00\",\"2022-03-12T00:00:00\",\"2022-03-13T00:00:00\",\"2022-03-14T00:00:00\",\"2022-03-15T00:00:00\",\"2022-03-16T00:00:00\",\"2022-03-17T00:00:00\",\"2022-03-18T00:00:00\",\"2022-03-19T00:00:00\",\"2022-03-20T00:00:00\",\"2022-03-21T00:00:00\",\"2022-03-22T00:00:00\",\"2022-03-23T00:00:00\",\"2022-03-24T00:00:00\",\"2022-03-25T00:00:00\",\"2022-03-26T00:00:00\",\"2022-03-27T00:00:00\",\"2022-03-28T00:00:00\",\"2022-03-29T00:00:00\",\"2022-03-30T00:00:00\",\"2022-03-31T00:00:00\"],\"y\":[551.26,554.45,568.58,559.74,608.65,636.11,650.45,654.32,635.19,615.28,629.89,626.64,650.1,650.92,633.05,589.82,578.09,532.24,581.53,603.84,585.29,559.13,591.44,590.84,638.72,585.15,600.34,611.37,624.31,622.67,627.97,619.47,594.64,569.08,557.78,589.26,579.69,607.59,571.65,552.97,564.32,570.82,521.01,528.5,541.03,526.25,525.71,533.89,533.89,529.97,529.97,523.16,523.16,528.71,528.71,533.64,533.64,548.73,541.9,547.33,546.99,562.64,534.93,514.0,518.91,511.71,527.35,531.4,512.14,507.51,475.06,473.28,447.79,430.25,438.8,424.93,463.52,487.01,475.03,489.87,494.99,498.43,475.71,472.01,462.82,440.01,383.07,358.1,383.93,371.37,384.62,375.76,390.09,386.08,389.13,377.61,375.28,385.46,367.47,370.88,399.03,414.2,419.55,433.23,408.78,422.47,415.12,400.42,403.39,398.89,403.66,427.92,402.45,399.57,400.04,380.83,356.66,374.31,366.54,361.23,374.91,373.64,360.53,395.61,408.48,409.0,402.55,374.28,384.87,375.01,381.34,381.96,393.56,372.16,372.18,372.73,361.85,373.47,371.63,385.53,391.82,397.65,399.85,390.77,396.45,404.31,408.61,414.13,410.81,415.92,430.5,430.39,434.51,442.68,428.92],\"type\":\"scatter\"}],                        {\"template\":{\"data\":{\"histogram2dcontour\":[{\"type\":\"histogram2dcontour\",\"colorbar\":{\"outlinewidth\":0,\"ticks\":\"\"},\"colorscale\":[[0.0,\"#0d0887\"],[0.1111111111111111,\"#46039f\"],[0.2222222222222222,\"#7201a8\"],[0.3333333333333333,\"#9c179e\"],[0.4444444444444444,\"#bd3786\"],[0.5555555555555556,\"#d8576b\"],[0.6666666666666666,\"#ed7953\"],[0.7777777777777778,\"#fb9f3a\"],[0.8888888888888888,\"#fdca26\"],[1.0,\"#f0f921\"]]}],\"choropleth\":[{\"type\":\"choropleth\",\"colorbar\":{\"outlinewidth\":0,\"ticks\":\"\"}}],\"histogram2d\":[{\"type\":\"histogram2d\",\"colorbar\":{\"outlinewidth\":0,\"ticks\":\"\"},\"colorscale\":[[0.0,\"#0d0887\"],[0.1111111111111111,\"#46039f\"],[0.2222222222222222,\"#7201a8\"],[0.3333333333333333,\"#9c179e\"],[0.4444444444444444,\"#bd3786\"],[0.5555555555555556,\"#d8576b\"],[0.6666666666666666,\"#ed7953\"],[0.7777777777777778,\"#fb9f3a\"],[0.8888888888888888,\"#fdca26\"],[1.0,\"#f0f921\"]]}],\"heatmap\":[{\"type\":\"heatmap\",\"colorbar\":{\"outlinewidth\":0,\"ticks\":\"\"},\"colorscale\":[[0.0,\"#0d0887\"],[0.1111111111111111,\"#46039f\"],[0.2222222222222222,\"#7201a8\"],[0.3333333333333333,\"#9c179e\"],[0.4444444444444444,\"#bd3786\"],[0.5555555555555556,\"#d8576b\"],[0.6666666666666666,\"#ed7953\"],[0.7777777777777778,\"#fb9f3a\"],[0.8888888888888888,\"#fdca26\"],[1.0,\"#f0f921\"]]}],\"heatmapgl\":[{\"type\":\"heatmapgl\",\"colorbar\":{\"outlinewidth\":0,\"ticks\":\"\"},\"colorscale\":[[0.0,\"#0d0887\"],[0.1111111111111111,\"#46039f\"],[0.2222222222222222,\"#7201a8\"],[0.3333333333333333,\"#9c179e\"],[0.4444444444444444,\"#bd3786\"],[0.5555555555555556,\"#d8576b\"],[0.6666666666666666,\"#ed7953\"],[0.7777777777777778,\"#fb9f3a\"],[0.8888888888888888,\"#fdca26\"],[1.0,\"#f0f921\"]]}],\"contourcarpet\":[{\"type\":\"contourcarpet\",\"colorbar\":{\"outlinewidth\":0,\"ticks\":\"\"}}],\"contour\":[{\"type\":\"contour\",\"colorbar\":{\"outlinewidth\":0,\"ticks\":\"\"},\"colorscale\":[[0.0,\"#0d0887\"],[0.1111111111111111,\"#46039f\"],[0.2222222222222222,\"#7201a8\"],[0.3333333333333333,\"#9c179e\"],[0.4444444444444444,\"#bd3786\"],[0.5555555555555556,\"#d8576b\"],[0.6666666666666666,\"#ed7953\"],[0.7777777777777778,\"#fb9f3a\"],[0.8888888888888888,\"#fdca26\"],[1.0,\"#f0f921\"]]}],\"surface\":[{\"type\":\"surface\",\"colorbar\":{\"outlinewidth\":0,\"ticks\":\"\"},\"colorscale\":[[0.0,\"#0d0887\"],[0.1111111111111111,\"#46039f\"],[0.2222222222222222,\"#7201a8\"],[0.3333333333333333,\"#9c179e\"],[0.4444444444444444,\"#bd3786\"],[0.5555555555555556,\"#d8576b\"],[0.6666666666666666,\"#ed7953\"],[0.7777777777777778,\"#fb9f3a\"],[0.8888888888888888,\"#fdca26\"],[1.0,\"#f0f921\"]]}],\"mesh3d\":[{\"type\":\"mesh3d\",\"colorbar\":{\"outlinewidth\":0,\"ticks\":\"\"}}],\"scatter\":[{\"fillpattern\":{\"fillmode\":\"overlay\",\"size\":10,\"solidity\":0.2},\"type\":\"scatter\"}],\"parcoords\":[{\"type\":\"parcoords\",\"line\":{\"colorbar\":{\"outlinewidth\":0,\"ticks\":\"\"}}}],\"scatterpolargl\":[{\"type\":\"scatterpolargl\",\"marker\":{\"colorbar\":{\"outlinewidth\":0,\"ticks\":\"\"}}}],\"bar\":[{\"error_x\":{\"color\":\"#2a3f5f\"},\"error_y\":{\"color\":\"#2a3f5f\"},\"marker\":{\"line\":{\"color\":\"#E5ECF6\",\"width\":0.5},\"pattern\":{\"fillmode\":\"overlay\",\"size\":10,\"solidity\":0.2}},\"type\":\"bar\"}],\"scattergeo\":[{\"type\":\"scattergeo\",\"marker\":{\"colorbar\":{\"outlinewidth\":0,\"ticks\":\"\"}}}],\"scatterpolar\":[{\"type\":\"scatterpolar\",\"marker\":{\"colorbar\":{\"outlinewidth\":0,\"ticks\":\"\"}}}],\"histogram\":[{\"marker\":{\"pattern\":{\"fillmode\":\"overlay\",\"size\":10,\"solidity\":0.2}},\"type\":\"histogram\"}],\"scattergl\":[{\"type\":\"scattergl\",\"marker\":{\"colorbar\":{\"outlinewidth\":0,\"ticks\":\"\"}}}],\"scatter3d\":[{\"type\":\"scatter3d\",\"line\":{\"colorbar\":{\"outlinewidth\":0,\"ticks\":\"\"}},\"marker\":{\"colorbar\":{\"outlinewidth\":0,\"ticks\":\"\"}}}],\"scattermapbox\":[{\"type\":\"scattermapbox\",\"marker\":{\"colorbar\":{\"outlinewidth\":0,\"ticks\":\"\"}}}],\"scatterternary\":[{\"type\":\"scatterternary\",\"marker\":{\"colorbar\":{\"outlinewidth\":0,\"ticks\":\"\"}}}],\"scattercarpet\":[{\"type\":\"scattercarpet\",\"marker\":{\"colorbar\":{\"outlinewidth\":0,\"ticks\":\"\"}}}],\"carpet\":[{\"aaxis\":{\"endlinecolor\":\"#2a3f5f\",\"gridcolor\":\"white\",\"linecolor\":\"white\",\"minorgridcolor\":\"white\",\"startlinecolor\":\"#2a3f5f\"},\"baxis\":{\"endlinecolor\":\"#2a3f5f\",\"gridcolor\":\"white\",\"linecolor\":\"white\",\"minorgridcolor\":\"white\",\"startlinecolor\":\"#2a3f5f\"},\"type\":\"carpet\"}],\"table\":[{\"cells\":{\"fill\":{\"color\":\"#EBF0F8\"},\"line\":{\"color\":\"white\"}},\"header\":{\"fill\":{\"color\":\"#C8D4E3\"},\"line\":{\"color\":\"white\"}},\"type\":\"table\"}],\"barpolar\":[{\"marker\":{\"line\":{\"color\":\"#E5ECF6\",\"width\":0.5},\"pattern\":{\"fillmode\":\"overlay\",\"size\":10,\"solidity\":0.2}},\"type\":\"barpolar\"}],\"pie\":[{\"automargin\":true,\"type\":\"pie\"}]},\"layout\":{\"autotypenumbers\":\"strict\",\"colorway\":[\"#636efa\",\"#EF553B\",\"#00cc96\",\"#ab63fa\",\"#FFA15A\",\"#19d3f3\",\"#FF6692\",\"#B6E880\",\"#FF97FF\",\"#FECB52\"],\"font\":{\"color\":\"#2a3f5f\"},\"hovermode\":\"closest\",\"hoverlabel\":{\"align\":\"left\"},\"paper_bgcolor\":\"white\",\"plot_bgcolor\":\"#E5ECF6\",\"polar\":{\"bgcolor\":\"#E5ECF6\",\"angularaxis\":{\"gridcolor\":\"white\",\"linecolor\":\"white\",\"ticks\":\"\"},\"radialaxis\":{\"gridcolor\":\"white\",\"linecolor\":\"white\",\"ticks\":\"\"}},\"ternary\":{\"bgcolor\":\"#E5ECF6\",\"aaxis\":{\"gridcolor\":\"white\",\"linecolor\":\"white\",\"ticks\":\"\"},\"baxis\":{\"gridcolor\":\"white\",\"linecolor\":\"white\",\"ticks\":\"\"},\"caxis\":{\"gridcolor\":\"white\",\"linecolor\":\"white\",\"ticks\":\"\"}},\"coloraxis\":{\"colorbar\":{\"outlinewidth\":0,\"ticks\":\"\"}},\"colorscale\":{\"sequential\":[[0.0,\"#0d0887\"],[0.1111111111111111,\"#46039f\"],[0.2222222222222222,\"#7201a8\"],[0.3333333333333333,\"#9c179e\"],[0.4444444444444444,\"#bd3786\"],[0.5555555555555556,\"#d8576b\"],[0.6666666666666666,\"#ed7953\"],[0.7777777777777778,\"#fb9f3a\"],[0.8888888888888888,\"#fdca26\"],[1.0,\"#f0f921\"]],\"sequentialminus\":[[0.0,\"#0d0887\"],[0.1111111111111111,\"#46039f\"],[0.2222222222222222,\"#7201a8\"],[0.3333333333333333,\"#9c179e\"],[0.4444444444444444,\"#bd3786\"],[0.5555555555555556,\"#d8576b\"],[0.6666666666666666,\"#ed7953\"],[0.7777777777777778,\"#fb9f3a\"],[0.8888888888888888,\"#fdca26\"],[1.0,\"#f0f921\"]],\"diverging\":[[0,\"#8e0152\"],[0.1,\"#c51b7d\"],[0.2,\"#de77ae\"],[0.3,\"#f1b6da\"],[0.4,\"#fde0ef\"],[0.5,\"#f7f7f7\"],[0.6,\"#e6f5d0\"],[0.7,\"#b8e186\"],[0.8,\"#7fbc41\"],[0.9,\"#4d9221\"],[1,\"#276419\"]]},\"xaxis\":{\"gridcolor\":\"white\",\"linecolor\":\"white\",\"ticks\":\"\",\"title\":{\"standoff\":15},\"zerolinecolor\":\"white\",\"automargin\":true,\"zerolinewidth\":2},\"yaxis\":{\"gridcolor\":\"white\",\"linecolor\":\"white\",\"ticks\":\"\",\"title\":{\"standoff\":15},\"zerolinecolor\":\"white\",\"automargin\":true,\"zerolinewidth\":2},\"scene\":{\"xaxis\":{\"backgroundcolor\":\"#E5ECF6\",\"gridcolor\":\"white\",\"linecolor\":\"white\",\"showbackground\":true,\"ticks\":\"\",\"zerolinecolor\":\"white\",\"gridwidth\":2},\"yaxis\":{\"backgroundcolor\":\"#E5ECF6\",\"gridcolor\":\"white\",\"linecolor\":\"white\",\"showbackground\":true,\"ticks\":\"\",\"zerolinecolor\":\"white\",\"gridwidth\":2},\"zaxis\":{\"backgroundcolor\":\"#E5ECF6\",\"gridcolor\":\"white\",\"linecolor\":\"white\",\"showbackground\":true,\"ticks\":\"\",\"zerolinecolor\":\"white\",\"gridwidth\":2}},\"shapedefaults\":{\"line\":{\"color\":\"#2a3f5f\"}},\"annotationdefaults\":{\"arrowcolor\":\"#2a3f5f\",\"arrowhead\":0,\"arrowwidth\":1},\"geo\":{\"bgcolor\":\"white\",\"landcolor\":\"#E5ECF6\",\"subunitcolor\":\"white\",\"showland\":true,\"showlakes\":true,\"lakecolor\":\"white\"},\"title\":{\"x\":0.05},\"mapbox\":{\"style\":\"light\"}}},\"title\":{\"text\":\"Predication to 2022-03-31 and real price of BNB\"},\"xaxis\":{\"title\":{\"text\":\"Date\"}},\"yaxis\":{\"title\":{\"text\":\"Price\"}}},                        {\"responsive\": true}                    ).then(function(){\n",
       "                            \n",
       "var gd = document.getElementById('086e533c-14cb-416e-af32-a60d639ce1a0');\n",
       "var x = new MutationObserver(function (mutations, observer) {{\n",
       "        var display = window.getComputedStyle(gd).display;\n",
       "        if (!display || display === 'none') {{\n",
       "            console.log([gd, 'removed!']);\n",
       "            Plotly.purge(gd);\n",
       "            observer.disconnect();\n",
       "        }}\n",
       "}});\n",
       "\n",
       "// Listen for the removal of the full notebook cells\n",
       "var notebookContainer = gd.closest('#notebook-container');\n",
       "if (notebookContainer) {{\n",
       "    x.observe(notebookContainer, {childList: true});\n",
       "}}\n",
       "\n",
       "// Listen for the clearing of the current output cell\n",
       "var outputEl = gd.closest('.output');\n",
       "if (outputEl) {{\n",
       "    x.observe(outputEl, {childList: true});\n",
       "}}\n",
       "\n",
       "                        })                };                });            </script>        </div>"
      ]
     },
     "metadata": {},
     "output_type": "display_data"
    },
    {
     "data": {
      "application/vnd.plotly.v1+json": {
       "config": {
        "plotlyServerURL": "https://plot.ly"
       },
       "data": [
        {
         "name": "Predication",
         "type": "scatter",
         "x": [
          "2021-11-19T00:00:00",
          "2021-11-20T00:00:00",
          "2021-11-21T00:00:00",
          "2021-11-22T00:00:00",
          "2021-11-23T00:00:00",
          "2021-11-24T00:00:00",
          "2021-11-26T00:00:00",
          "2021-11-27T00:00:00",
          "2021-11-28T00:00:00",
          "2021-11-29T00:00:00",
          "2021-11-30T00:00:00",
          "2021-12-01T00:00:00",
          "2021-12-02T00:00:00",
          "2021-12-03T00:00:00",
          "2021-12-04T00:00:00",
          "2021-12-05T00:00:00",
          "2021-12-06T00:00:00",
          "2021-12-07T00:00:00",
          "2021-12-08T00:00:00",
          "2021-12-09T00:00:00",
          "2021-12-10T00:00:00",
          "2021-12-11T00:00:00",
          "2021-12-12T00:00:00",
          "2021-12-13T00:00:00",
          "2021-12-14T00:00:00",
          "2021-12-15T00:00:00",
          "2021-12-16T00:00:00",
          "2021-12-17T00:00:00",
          "2021-12-18T00:00:00",
          "2021-12-19T00:00:00",
          "2021-12-20T00:00:00",
          "2021-12-21T00:00:00",
          "2021-12-22T00:00:00",
          "2021-12-22T00:00:00",
          "2021-12-24T00:00:00",
          "2021-12-25T00:00:00",
          "2021-12-26T00:00:00",
          "2021-12-27T00:00:00",
          "2021-12-28T00:00:00",
          "2021-12-29T00:00:00",
          "2021-12-31T00:00:00",
          "2022-01-01T00:00:00",
          "2022-01-02T00:00:00",
          "2022-01-03T00:00:00",
          "2022-01-04T00:00:00",
          "2022-01-05T00:00:00",
          "2022-01-06T00:00:00",
          "2022-01-07T00:00:00",
          "2022-01-08T00:00:00",
          "2022-01-09T00:00:00",
          "2022-01-10T00:00:00",
          "2022-01-11T00:00:00",
          "2022-01-12T00:00:00",
          "2022-01-13T00:00:00",
          "2022-01-14T00:00:00",
          "2022-01-15T00:00:00",
          "2022-01-16T00:00:00",
          "2022-01-17T00:00:00",
          "2022-01-17T00:00:00",
          "2022-01-19T00:00:00",
          "2022-01-20T00:00:00",
          "2022-01-21T00:00:00",
          "2022-01-22T00:00:00",
          "2022-01-23T00:00:00",
          "2022-01-24T00:00:00",
          "2022-01-25T00:00:00",
          "2022-01-26T00:00:00",
          "2022-01-27T00:00:00",
          "2022-01-27T00:00:00",
          "2022-01-29T00:00:00",
          "2022-01-30T00:00:00",
          "2022-01-31T00:00:00",
          "2022-02-01T00:00:00",
          "2022-02-02T00:00:00",
          "2022-02-03T00:00:00",
          "2022-02-04T00:00:00",
          "2022-02-05T00:00:00",
          "2022-02-06T00:00:00",
          "2022-02-07T00:00:00",
          "2022-02-08T00:00:00",
          "2022-02-09T00:00:00",
          "2022-02-10T00:00:00",
          "2022-02-11T00:00:00",
          "2022-02-12T00:00:00",
          "2022-02-13T00:00:00",
          "2022-02-14T00:00:00",
          "2022-02-15T00:00:00",
          "2022-02-16T00:00:00",
          "2022-02-17T00:00:00",
          "2022-02-18T00:00:00",
          "2022-02-19T00:00:00",
          "2022-02-20T00:00:00",
          "2022-02-21T00:00:00",
          "2022-02-22T00:00:00",
          "2022-02-23T00:00:00",
          "2022-02-24T00:00:00",
          "2022-02-25T00:00:00",
          "2022-02-26T00:00:00",
          "2022-02-27T00:00:00",
          "2022-03-06T00:00:00",
          "2022-03-07T00:00:00",
          "2022-03-08T00:00:00",
          "2022-03-09T00:00:00",
          "2022-03-10T00:00:00",
          "2022-03-11T00:00:00",
          "2022-03-12T00:00:00",
          "2022-03-13T00:00:00",
          "2022-03-14T00:00:00",
          "2022-03-15T00:00:00",
          "2022-03-16T00:00:00",
          "2022-03-17T00:00:00",
          "2022-03-18T00:00:00",
          "2022-03-19T00:00:00",
          "2022-03-20T00:00:00",
          "2022-03-21T00:00:00",
          "2022-03-22T00:00:00"
         ],
         "y": [
          3977.51,
          3991.23,
          4000,
          4006.3,
          4014.33,
          4031.8,
          4068.57,
          4073.53,
          4079.3,
          4100.65,
          4104.81,
          4114.68,
          4125.21,
          4130.59,
          4138.87,
          4149.18,
          4152.82,
          4163.59,
          4171.1,
          4171.71,
          4041.784216545401,
          4319.234771520648,
          4079.7023081576194,
          4095.9390901642832,
          4343.388964687515,
          4277.023667209578,
          4157.637395618057,
          4273.785270654962,
          4316.744782151585,
          4302.565582463596,
          4160,
          4164,
          4159.26,
          4159.26,
          4197.097742765914,
          4037.371300199926,
          4194.550587976735,
          4278.1817489595005,
          4161.37,
          4158.59,
          4150.73,
          4146.18,
          4141.43,
          4137.54,
          4134.94,
          4122.06,
          4116.98,
          4111.65,
          4104.59124035582,
          4048.676831019395,
          4106.53,
          4102.8,
          4096.67,
          4094.38,
          4085.2,
          3974.37735667239,
          4080.29,
          4047.434444329681,
          4076.97,
          4069.21,
          4064.9,
          4082.185985330169,
          4054.38,
          4048.22,
          4042.78,
          4031.84,
          4022.69,
          3827.188085542437,
          4013.88,
          4001.11,
          4099.288335418918,
          4000,
          3990,
          4140.816432947148,
          3800.001714159324,
          4050.179601376088,
          3977.030174587836,
          3981.360986334724,
          3905.0316161973706,
          4128.301971395777,
          4173.526749912257,
          3825.569776311247,
          3914.938838087365,
          3988.428328609214,
          4048.5914723212672,
          4076.493522731402,
          3866.0027696282978,
          3853.9975316814657,
          3999.047349694404,
          3848.279838642559,
          4000.157710926693,
          4064.74076489775,
          3857.6290863182776,
          3857.486293375364,
          4056.670443317453,
          4071.422245014841,
          4072.90986443806,
          3845.486969715895,
          3637.64,
          3502.68,
          3551.130304057452,
          3506.403240424894,
          3336.0785535094,
          3539.8079529038623,
          3511.588161324172,
          3426.783888313912,
          3549.5849143286496,
          3432.565815936138,
          3671.952092880051,
          3468.1766703625067,
          3360.099887217076,
          3665.809427666536,
          3640.285641280562,
          3509.948508777509,
          3582.786705147608,
          3539.98
         ]
        },
        {
         "name": "real price",
         "text": [
          null,
          null,
          null,
          null,
          null,
          null,
          null,
          null,
          null,
          null,
          null,
          null,
          null,
          null,
          null,
          null,
          null,
          null,
          null,
          null,
          null,
          null,
          null,
          null,
          null,
          null,
          null,
          null,
          null,
          null,
          null,
          null,
          null,
          null,
          null,
          null,
          null,
          null,
          null,
          null,
          null,
          null,
          null,
          null,
          null,
          null,
          null,
          null,
          null,
          null,
          null,
          null,
          null,
          null,
          null,
          null,
          null,
          null,
          null,
          null,
          null,
          null,
          null,
          null,
          null,
          null,
          null,
          null,
          null,
          null,
          null,
          null,
          null,
          null,
          null,
          null,
          null,
          null,
          null,
          null,
          null,
          null,
          null,
          null,
          null,
          null,
          null,
          null,
          null,
          null,
          null,
          null,
          null,
          null,
          null,
          null,
          null,
          null,
          null,
          null,
          null,
          null,
          null,
          null,
          null,
          null,
          null,
          null,
          null,
          null,
          null,
          null,
          null,
          null,
          null,
          null,
          null,
          null,
          null,
          null,
          null,
          null,
          null,
          null,
          null,
          null,
          null,
          null,
          null,
          null,
          null,
          null,
          null,
          null,
          null,
          null,
          null,
          null,
          null,
          null,
          null,
          null,
          null,
          null,
          null,
          null,
          null,
          null,
          null,
          null,
          null,
          null,
          null,
          null,
          3281.64
         ],
         "textposition": "bottom center",
         "type": "scatter",
         "x": [
          "2021-11-01T00:00:00",
          "2021-11-02T00:00:00",
          "2021-11-03T00:00:00",
          "2021-11-04T00:00:00",
          "2021-11-05T00:00:00",
          "2021-11-06T00:00:00",
          "2021-11-07T00:00:00",
          "2021-11-08T00:00:00",
          "2021-11-09T00:00:00",
          "2021-11-10T00:00:00",
          "2021-11-11T00:00:00",
          "2021-11-12T00:00:00",
          "2021-11-13T00:00:00",
          "2021-11-14T00:00:00",
          "2021-11-15T00:00:00",
          "2021-11-16T00:00:00",
          "2021-11-17T00:00:00",
          "2021-11-18T00:00:00",
          "2021-11-19T00:00:00",
          "2021-11-20T00:00:00",
          "2021-11-21T00:00:00",
          "2021-11-22T00:00:00",
          "2021-11-23T00:00:00",
          "2021-11-24T00:00:00",
          "2021-11-25T00:00:00",
          "2021-11-26T00:00:00",
          "2021-11-27T00:00:00",
          "2021-11-28T00:00:00",
          "2021-11-29T00:00:00",
          "2021-11-30T00:00:00",
          "2021-12-01T00:00:00",
          "2021-12-02T00:00:00",
          "2021-12-03T00:00:00",
          "2021-12-04T00:00:00",
          "2021-12-05T00:00:00",
          "2021-12-06T00:00:00",
          "2021-12-07T00:00:00",
          "2021-12-08T00:00:00",
          "2021-12-09T00:00:00",
          "2021-12-10T00:00:00",
          "2021-12-11T00:00:00",
          "2021-12-12T00:00:00",
          "2021-12-13T00:00:00",
          "2021-12-14T00:00:00",
          "2021-12-15T00:00:00",
          "2021-12-16T00:00:00",
          "2021-12-17T00:00:00",
          "2021-12-18T00:00:00",
          "2021-12-18T00:00:00",
          "2021-12-19T00:00:00",
          "2021-12-19T00:00:00",
          "2021-12-20T00:00:00",
          "2021-12-20T00:00:00",
          "2021-12-21T00:00:00",
          "2021-12-21T00:00:00",
          "2021-12-22T00:00:00",
          "2021-12-22T00:00:00",
          "2021-12-23T00:00:00",
          "2021-12-24T00:00:00",
          "2021-12-25T00:00:00",
          "2021-12-26T00:00:00",
          "2021-12-27T00:00:00",
          "2021-12-28T00:00:00",
          "2021-12-29T00:00:00",
          "2021-12-30T00:00:00",
          "2021-12-31T00:00:00",
          "2022-01-01T00:00:00",
          "2022-01-02T00:00:00",
          "2022-01-03T00:00:00",
          "2022-01-04T00:00:00",
          "2022-01-05T00:00:00",
          "2022-01-06T00:00:00",
          "2022-01-07T00:00:00",
          "2022-01-08T00:00:00",
          "2022-01-09T00:00:00",
          "2022-01-10T00:00:00",
          "2022-01-11T00:00:00",
          "2022-01-12T00:00:00",
          "2022-01-13T00:00:00",
          "2022-01-14T00:00:00",
          "2022-01-15T00:00:00",
          "2022-01-16T00:00:00",
          "2022-01-17T00:00:00",
          "2022-01-18T00:00:00",
          "2022-01-19T00:00:00",
          "2022-01-20T00:00:00",
          "2022-01-21T00:00:00",
          "2022-01-22T00:00:00",
          "2022-01-23T00:00:00",
          "2022-01-24T00:00:00",
          "2022-01-25T00:00:00",
          "2022-01-26T00:00:00",
          "2022-01-27T00:00:00",
          "2022-01-28T00:00:00",
          "2022-01-29T00:00:00",
          "2022-01-30T00:00:00",
          "2022-01-31T00:00:00",
          "2022-02-01T00:00:00",
          "2022-02-02T00:00:00",
          "2022-02-03T00:00:00",
          "2022-02-04T00:00:00",
          "2022-02-05T00:00:00",
          "2022-02-06T00:00:00",
          "2022-02-07T00:00:00",
          "2022-02-08T00:00:00",
          "2022-02-09T00:00:00",
          "2022-02-10T00:00:00",
          "2022-02-11T00:00:00",
          "2022-02-12T00:00:00",
          "2022-02-13T00:00:00",
          "2022-02-14T00:00:00",
          "2022-02-16T00:00:00",
          "2022-02-17T00:00:00",
          "2022-02-18T00:00:00",
          "2022-02-19T00:00:00",
          "2022-02-20T00:00:00",
          "2022-02-21T00:00:00",
          "2022-02-22T00:00:00",
          "2022-02-23T00:00:00",
          "2022-02-24T00:00:00",
          "2022-02-25T00:00:00",
          "2022-02-26T00:00:00",
          "2022-02-27T00:00:00",
          "2022-02-28T00:00:00",
          "2022-03-01T00:00:00",
          "2022-03-02T00:00:00",
          "2022-03-03T00:00:00",
          "2022-03-04T00:00:00",
          "2022-03-05T00:00:00",
          "2022-03-06T00:00:00",
          "2022-03-07T00:00:00",
          "2022-03-08T00:00:00",
          "2022-03-09T00:00:00",
          "2022-03-10T00:00:00",
          "2022-03-11T00:00:00",
          "2022-03-12T00:00:00",
          "2022-03-13T00:00:00",
          "2022-03-14T00:00:00",
          "2022-03-15T00:00:00",
          "2022-03-16T00:00:00",
          "2022-03-17T00:00:00",
          "2022-03-18T00:00:00",
          "2022-03-19T00:00:00",
          "2022-03-20T00:00:00",
          "2022-03-21T00:00:00",
          "2022-03-22T00:00:00",
          "2022-03-23T00:00:00",
          "2022-03-24T00:00:00",
          "2022-03-25T00:00:00",
          "2022-03-26T00:00:00",
          "2022-03-27T00:00:00",
          "2022-03-28T00:00:00",
          "2022-03-29T00:00:00",
          "2022-03-30T00:00:00",
          "2022-03-31T00:00:00"
         ],
         "y": [
          4324.63,
          4584.8,
          4607.19,
          4537.32,
          4486.24,
          4521.58,
          4620.55,
          4812.09,
          4735.07,
          4636.17,
          4730.38,
          4667.12,
          4651.46,
          4626.36,
          4557.5,
          4216.37,
          4287.59,
          4000.65,
          4298.31,
          4409.93,
          4269.73,
          4088.46,
          4340.76,
          4276.04,
          4519.46,
          4030.91,
          4096.91,
          4294.45,
          4445.11,
          4631.48,
          4586.99,
          4511.3,
          4220.71,
          4119.59,
          4198.32,
          4358.74,
          4315.06,
          4439.36,
          4119.82,
          3908.5,
          4084.45,
          4134.45,
          3784.23,
          3859.71,
          4018.39,
          3962.47,
          3879.49,
          3960.86,
          3960.86,
          3922.59,
          3922.59,
          3933.84,
          3933.84,
          4020.26,
          4020.26,
          3982.1,
          3982.1,
          4108.02,
          4047.98,
          4093.28,
          4067.33,
          4037.55,
          3800.89,
          3628.53,
          3713.85,
          3682.63,
          3769.7,
          3829.57,
          3761.38,
          3794.06,
          3550.39,
          3418.41,
          3193.21,
          3091.97,
          3157.75,
          3083.1,
          3238.11,
          3372.26,
          3248.29,
          3310,
          3330.53,
          3350.92,
          3212.3,
          3164.03,
          3095.83,
          3001.12,
          2557.93,
          2405.18,
          2535.04,
          2440.35,
          2455.93,
          2468.03,
          2423,
          2547.09,
          2597.08,
          2603.47,
          2688.28,
          2792.12,
          2682.85,
          2679.16,
          2983.59,
          3014.65,
          3057.48,
          3142.47,
          3122.61,
          3239.46,
          3077.48,
          2927.38,
          2917.36,
          2883.46,
          2933.48,
          3127.83,
          2881.48,
          2785.73,
          2763.7,
          2628.65,
          2573.82,
          2639.3,
          2590.36,
          2598.07,
          2764.54,
          2781.11,
          2621.8,
          2919.2,
          2972.49,
          2950.12,
          2834.47,
          2617.16,
          2664.83,
          2555.04,
          2497.77,
          2576.75,
          2729.78,
          2608.05,
          2559.56,
          2574.75,
          2518.94,
          2590.7,
          2620.15,
          2772.06,
          2814.85,
          2945.34,
          2946.26,
          2860.46,
          2897.98,
          2973.13,
          3031.07,
          3108.06,
          3106.67,
          3143.18,
          3291.58,
          3336.63,
          3401.99,
          3385.16,
          3281.64
         ]
        }
       ],
       "layout": {
        "template": {
         "data": {
          "bar": [
           {
            "error_x": {
             "color": "#2a3f5f"
            },
            "error_y": {
             "color": "#2a3f5f"
            },
            "marker": {
             "line": {
              "color": "#E5ECF6",
              "width": 0.5
             },
             "pattern": {
              "fillmode": "overlay",
              "size": 10,
              "solidity": 0.2
             }
            },
            "type": "bar"
           }
          ],
          "barpolar": [
           {
            "marker": {
             "line": {
              "color": "#E5ECF6",
              "width": 0.5
             },
             "pattern": {
              "fillmode": "overlay",
              "size": 10,
              "solidity": 0.2
             }
            },
            "type": "barpolar"
           }
          ],
          "carpet": [
           {
            "aaxis": {
             "endlinecolor": "#2a3f5f",
             "gridcolor": "white",
             "linecolor": "white",
             "minorgridcolor": "white",
             "startlinecolor": "#2a3f5f"
            },
            "baxis": {
             "endlinecolor": "#2a3f5f",
             "gridcolor": "white",
             "linecolor": "white",
             "minorgridcolor": "white",
             "startlinecolor": "#2a3f5f"
            },
            "type": "carpet"
           }
          ],
          "choropleth": [
           {
            "colorbar": {
             "outlinewidth": 0,
             "ticks": ""
            },
            "type": "choropleth"
           }
          ],
          "contour": [
           {
            "colorbar": {
             "outlinewidth": 0,
             "ticks": ""
            },
            "colorscale": [
             [
              0,
              "#0d0887"
             ],
             [
              0.1111111111111111,
              "#46039f"
             ],
             [
              0.2222222222222222,
              "#7201a8"
             ],
             [
              0.3333333333333333,
              "#9c179e"
             ],
             [
              0.4444444444444444,
              "#bd3786"
             ],
             [
              0.5555555555555556,
              "#d8576b"
             ],
             [
              0.6666666666666666,
              "#ed7953"
             ],
             [
              0.7777777777777778,
              "#fb9f3a"
             ],
             [
              0.8888888888888888,
              "#fdca26"
             ],
             [
              1,
              "#f0f921"
             ]
            ],
            "type": "contour"
           }
          ],
          "contourcarpet": [
           {
            "colorbar": {
             "outlinewidth": 0,
             "ticks": ""
            },
            "type": "contourcarpet"
           }
          ],
          "heatmap": [
           {
            "colorbar": {
             "outlinewidth": 0,
             "ticks": ""
            },
            "colorscale": [
             [
              0,
              "#0d0887"
             ],
             [
              0.1111111111111111,
              "#46039f"
             ],
             [
              0.2222222222222222,
              "#7201a8"
             ],
             [
              0.3333333333333333,
              "#9c179e"
             ],
             [
              0.4444444444444444,
              "#bd3786"
             ],
             [
              0.5555555555555556,
              "#d8576b"
             ],
             [
              0.6666666666666666,
              "#ed7953"
             ],
             [
              0.7777777777777778,
              "#fb9f3a"
             ],
             [
              0.8888888888888888,
              "#fdca26"
             ],
             [
              1,
              "#f0f921"
             ]
            ],
            "type": "heatmap"
           }
          ],
          "heatmapgl": [
           {
            "colorbar": {
             "outlinewidth": 0,
             "ticks": ""
            },
            "colorscale": [
             [
              0,
              "#0d0887"
             ],
             [
              0.1111111111111111,
              "#46039f"
             ],
             [
              0.2222222222222222,
              "#7201a8"
             ],
             [
              0.3333333333333333,
              "#9c179e"
             ],
             [
              0.4444444444444444,
              "#bd3786"
             ],
             [
              0.5555555555555556,
              "#d8576b"
             ],
             [
              0.6666666666666666,
              "#ed7953"
             ],
             [
              0.7777777777777778,
              "#fb9f3a"
             ],
             [
              0.8888888888888888,
              "#fdca26"
             ],
             [
              1,
              "#f0f921"
             ]
            ],
            "type": "heatmapgl"
           }
          ],
          "histogram": [
           {
            "marker": {
             "pattern": {
              "fillmode": "overlay",
              "size": 10,
              "solidity": 0.2
             }
            },
            "type": "histogram"
           }
          ],
          "histogram2d": [
           {
            "colorbar": {
             "outlinewidth": 0,
             "ticks": ""
            },
            "colorscale": [
             [
              0,
              "#0d0887"
             ],
             [
              0.1111111111111111,
              "#46039f"
             ],
             [
              0.2222222222222222,
              "#7201a8"
             ],
             [
              0.3333333333333333,
              "#9c179e"
             ],
             [
              0.4444444444444444,
              "#bd3786"
             ],
             [
              0.5555555555555556,
              "#d8576b"
             ],
             [
              0.6666666666666666,
              "#ed7953"
             ],
             [
              0.7777777777777778,
              "#fb9f3a"
             ],
             [
              0.8888888888888888,
              "#fdca26"
             ],
             [
              1,
              "#f0f921"
             ]
            ],
            "type": "histogram2d"
           }
          ],
          "histogram2dcontour": [
           {
            "colorbar": {
             "outlinewidth": 0,
             "ticks": ""
            },
            "colorscale": [
             [
              0,
              "#0d0887"
             ],
             [
              0.1111111111111111,
              "#46039f"
             ],
             [
              0.2222222222222222,
              "#7201a8"
             ],
             [
              0.3333333333333333,
              "#9c179e"
             ],
             [
              0.4444444444444444,
              "#bd3786"
             ],
             [
              0.5555555555555556,
              "#d8576b"
             ],
             [
              0.6666666666666666,
              "#ed7953"
             ],
             [
              0.7777777777777778,
              "#fb9f3a"
             ],
             [
              0.8888888888888888,
              "#fdca26"
             ],
             [
              1,
              "#f0f921"
             ]
            ],
            "type": "histogram2dcontour"
           }
          ],
          "mesh3d": [
           {
            "colorbar": {
             "outlinewidth": 0,
             "ticks": ""
            },
            "type": "mesh3d"
           }
          ],
          "parcoords": [
           {
            "line": {
             "colorbar": {
              "outlinewidth": 0,
              "ticks": ""
             }
            },
            "type": "parcoords"
           }
          ],
          "pie": [
           {
            "automargin": true,
            "type": "pie"
           }
          ],
          "scatter": [
           {
            "fillpattern": {
             "fillmode": "overlay",
             "size": 10,
             "solidity": 0.2
            },
            "type": "scatter"
           }
          ],
          "scatter3d": [
           {
            "line": {
             "colorbar": {
              "outlinewidth": 0,
              "ticks": ""
             }
            },
            "marker": {
             "colorbar": {
              "outlinewidth": 0,
              "ticks": ""
             }
            },
            "type": "scatter3d"
           }
          ],
          "scattercarpet": [
           {
            "marker": {
             "colorbar": {
              "outlinewidth": 0,
              "ticks": ""
             }
            },
            "type": "scattercarpet"
           }
          ],
          "scattergeo": [
           {
            "marker": {
             "colorbar": {
              "outlinewidth": 0,
              "ticks": ""
             }
            },
            "type": "scattergeo"
           }
          ],
          "scattergl": [
           {
            "marker": {
             "colorbar": {
              "outlinewidth": 0,
              "ticks": ""
             }
            },
            "type": "scattergl"
           }
          ],
          "scattermapbox": [
           {
            "marker": {
             "colorbar": {
              "outlinewidth": 0,
              "ticks": ""
             }
            },
            "type": "scattermapbox"
           }
          ],
          "scatterpolar": [
           {
            "marker": {
             "colorbar": {
              "outlinewidth": 0,
              "ticks": ""
             }
            },
            "type": "scatterpolar"
           }
          ],
          "scatterpolargl": [
           {
            "marker": {
             "colorbar": {
              "outlinewidth": 0,
              "ticks": ""
             }
            },
            "type": "scatterpolargl"
           }
          ],
          "scatterternary": [
           {
            "marker": {
             "colorbar": {
              "outlinewidth": 0,
              "ticks": ""
             }
            },
            "type": "scatterternary"
           }
          ],
          "surface": [
           {
            "colorbar": {
             "outlinewidth": 0,
             "ticks": ""
            },
            "colorscale": [
             [
              0,
              "#0d0887"
             ],
             [
              0.1111111111111111,
              "#46039f"
             ],
             [
              0.2222222222222222,
              "#7201a8"
             ],
             [
              0.3333333333333333,
              "#9c179e"
             ],
             [
              0.4444444444444444,
              "#bd3786"
             ],
             [
              0.5555555555555556,
              "#d8576b"
             ],
             [
              0.6666666666666666,
              "#ed7953"
             ],
             [
              0.7777777777777778,
              "#fb9f3a"
             ],
             [
              0.8888888888888888,
              "#fdca26"
             ],
             [
              1,
              "#f0f921"
             ]
            ],
            "type": "surface"
           }
          ],
          "table": [
           {
            "cells": {
             "fill": {
              "color": "#EBF0F8"
             },
             "line": {
              "color": "white"
             }
            },
            "header": {
             "fill": {
              "color": "#C8D4E3"
             },
             "line": {
              "color": "white"
             }
            },
            "type": "table"
           }
          ]
         },
         "layout": {
          "annotationdefaults": {
           "arrowcolor": "#2a3f5f",
           "arrowhead": 0,
           "arrowwidth": 1
          },
          "autotypenumbers": "strict",
          "coloraxis": {
           "colorbar": {
            "outlinewidth": 0,
            "ticks": ""
           }
          },
          "colorscale": {
           "diverging": [
            [
             0,
             "#8e0152"
            ],
            [
             0.1,
             "#c51b7d"
            ],
            [
             0.2,
             "#de77ae"
            ],
            [
             0.3,
             "#f1b6da"
            ],
            [
             0.4,
             "#fde0ef"
            ],
            [
             0.5,
             "#f7f7f7"
            ],
            [
             0.6,
             "#e6f5d0"
            ],
            [
             0.7,
             "#b8e186"
            ],
            [
             0.8,
             "#7fbc41"
            ],
            [
             0.9,
             "#4d9221"
            ],
            [
             1,
             "#276419"
            ]
           ],
           "sequential": [
            [
             0,
             "#0d0887"
            ],
            [
             0.1111111111111111,
             "#46039f"
            ],
            [
             0.2222222222222222,
             "#7201a8"
            ],
            [
             0.3333333333333333,
             "#9c179e"
            ],
            [
             0.4444444444444444,
             "#bd3786"
            ],
            [
             0.5555555555555556,
             "#d8576b"
            ],
            [
             0.6666666666666666,
             "#ed7953"
            ],
            [
             0.7777777777777778,
             "#fb9f3a"
            ],
            [
             0.8888888888888888,
             "#fdca26"
            ],
            [
             1,
             "#f0f921"
            ]
           ],
           "sequentialminus": [
            [
             0,
             "#0d0887"
            ],
            [
             0.1111111111111111,
             "#46039f"
            ],
            [
             0.2222222222222222,
             "#7201a8"
            ],
            [
             0.3333333333333333,
             "#9c179e"
            ],
            [
             0.4444444444444444,
             "#bd3786"
            ],
            [
             0.5555555555555556,
             "#d8576b"
            ],
            [
             0.6666666666666666,
             "#ed7953"
            ],
            [
             0.7777777777777778,
             "#fb9f3a"
            ],
            [
             0.8888888888888888,
             "#fdca26"
            ],
            [
             1,
             "#f0f921"
            ]
           ]
          },
          "colorway": [
           "#636efa",
           "#EF553B",
           "#00cc96",
           "#ab63fa",
           "#FFA15A",
           "#19d3f3",
           "#FF6692",
           "#B6E880",
           "#FF97FF",
           "#FECB52"
          ],
          "font": {
           "color": "#2a3f5f"
          },
          "geo": {
           "bgcolor": "white",
           "lakecolor": "white",
           "landcolor": "#E5ECF6",
           "showlakes": true,
           "showland": true,
           "subunitcolor": "white"
          },
          "hoverlabel": {
           "align": "left"
          },
          "hovermode": "closest",
          "mapbox": {
           "style": "light"
          },
          "paper_bgcolor": "white",
          "plot_bgcolor": "#E5ECF6",
          "polar": {
           "angularaxis": {
            "gridcolor": "white",
            "linecolor": "white",
            "ticks": ""
           },
           "bgcolor": "#E5ECF6",
           "radialaxis": {
            "gridcolor": "white",
            "linecolor": "white",
            "ticks": ""
           }
          },
          "scene": {
           "xaxis": {
            "backgroundcolor": "#E5ECF6",
            "gridcolor": "white",
            "gridwidth": 2,
            "linecolor": "white",
            "showbackground": true,
            "ticks": "",
            "zerolinecolor": "white"
           },
           "yaxis": {
            "backgroundcolor": "#E5ECF6",
            "gridcolor": "white",
            "gridwidth": 2,
            "linecolor": "white",
            "showbackground": true,
            "ticks": "",
            "zerolinecolor": "white"
           },
           "zaxis": {
            "backgroundcolor": "#E5ECF6",
            "gridcolor": "white",
            "gridwidth": 2,
            "linecolor": "white",
            "showbackground": true,
            "ticks": "",
            "zerolinecolor": "white"
           }
          },
          "shapedefaults": {
           "line": {
            "color": "#2a3f5f"
           }
          },
          "ternary": {
           "aaxis": {
            "gridcolor": "white",
            "linecolor": "white",
            "ticks": ""
           },
           "baxis": {
            "gridcolor": "white",
            "linecolor": "white",
            "ticks": ""
           },
           "bgcolor": "#E5ECF6",
           "caxis": {
            "gridcolor": "white",
            "linecolor": "white",
            "ticks": ""
           }
          },
          "title": {
           "x": 0.05
          },
          "xaxis": {
           "automargin": true,
           "gridcolor": "white",
           "linecolor": "white",
           "ticks": "",
           "title": {
            "standoff": 15
           },
           "zerolinecolor": "white",
           "zerolinewidth": 2
          },
          "yaxis": {
           "automargin": true,
           "gridcolor": "white",
           "linecolor": "white",
           "ticks": "",
           "title": {
            "standoff": 15
           },
           "zerolinecolor": "white",
           "zerolinewidth": 2
          }
         }
        },
        "title": {
         "text": "Predication to 2022-03-31 and real price of ETH"
        },
        "xaxis": {
         "title": {
          "text": "Date"
         }
        },
        "yaxis": {
         "title": {
          "text": "Price"
         }
        }
       }
      },
      "text/html": [
       "<div>                            <div id=\"40219b03-9c62-4ffe-a94c-2a40a5f96b92\" class=\"plotly-graph-div\" style=\"height:525px; width:100%;\"></div>            <script type=\"text/javascript\">                require([\"plotly\"], function(Plotly) {                    window.PLOTLYENV=window.PLOTLYENV || {};                                    if (document.getElementById(\"40219b03-9c62-4ffe-a94c-2a40a5f96b92\")) {                    Plotly.newPlot(                        \"40219b03-9c62-4ffe-a94c-2a40a5f96b92\",                        [{\"name\":\"Predication\",\"x\":[\"2021-11-19T00:00:00\",\"2021-11-20T00:00:00\",\"2021-11-21T00:00:00\",\"2021-11-22T00:00:00\",\"2021-11-23T00:00:00\",\"2021-11-24T00:00:00\",\"2021-11-26T00:00:00\",\"2021-11-27T00:00:00\",\"2021-11-28T00:00:00\",\"2021-11-29T00:00:00\",\"2021-11-30T00:00:00\",\"2021-12-01T00:00:00\",\"2021-12-02T00:00:00\",\"2021-12-03T00:00:00\",\"2021-12-04T00:00:00\",\"2021-12-05T00:00:00\",\"2021-12-06T00:00:00\",\"2021-12-07T00:00:00\",\"2021-12-08T00:00:00\",\"2021-12-09T00:00:00\",\"2021-12-10T00:00:00\",\"2021-12-11T00:00:00\",\"2021-12-12T00:00:00\",\"2021-12-13T00:00:00\",\"2021-12-14T00:00:00\",\"2021-12-15T00:00:00\",\"2021-12-16T00:00:00\",\"2021-12-17T00:00:00\",\"2021-12-18T00:00:00\",\"2021-12-19T00:00:00\",\"2021-12-20T00:00:00\",\"2021-12-21T00:00:00\",\"2021-12-22T00:00:00\",\"2021-12-22T00:00:00\",\"2021-12-24T00:00:00\",\"2021-12-25T00:00:00\",\"2021-12-26T00:00:00\",\"2021-12-27T00:00:00\",\"2021-12-28T00:00:00\",\"2021-12-29T00:00:00\",\"2021-12-31T00:00:00\",\"2022-01-01T00:00:00\",\"2022-01-02T00:00:00\",\"2022-01-03T00:00:00\",\"2022-01-04T00:00:00\",\"2022-01-05T00:00:00\",\"2022-01-06T00:00:00\",\"2022-01-07T00:00:00\",\"2022-01-08T00:00:00\",\"2022-01-09T00:00:00\",\"2022-01-10T00:00:00\",\"2022-01-11T00:00:00\",\"2022-01-12T00:00:00\",\"2022-01-13T00:00:00\",\"2022-01-14T00:00:00\",\"2022-01-15T00:00:00\",\"2022-01-16T00:00:00\",\"2022-01-17T00:00:00\",\"2022-01-17T00:00:00\",\"2022-01-19T00:00:00\",\"2022-01-20T00:00:00\",\"2022-01-21T00:00:00\",\"2022-01-22T00:00:00\",\"2022-01-23T00:00:00\",\"2022-01-24T00:00:00\",\"2022-01-25T00:00:00\",\"2022-01-26T00:00:00\",\"2022-01-27T00:00:00\",\"2022-01-27T00:00:00\",\"2022-01-29T00:00:00\",\"2022-01-30T00:00:00\",\"2022-01-31T00:00:00\",\"2022-02-01T00:00:00\",\"2022-02-02T00:00:00\",\"2022-02-03T00:00:00\",\"2022-02-04T00:00:00\",\"2022-02-05T00:00:00\",\"2022-02-06T00:00:00\",\"2022-02-07T00:00:00\",\"2022-02-08T00:00:00\",\"2022-02-09T00:00:00\",\"2022-02-10T00:00:00\",\"2022-02-11T00:00:00\",\"2022-02-12T00:00:00\",\"2022-02-13T00:00:00\",\"2022-02-14T00:00:00\",\"2022-02-15T00:00:00\",\"2022-02-16T00:00:00\",\"2022-02-17T00:00:00\",\"2022-02-18T00:00:00\",\"2022-02-19T00:00:00\",\"2022-02-20T00:00:00\",\"2022-02-21T00:00:00\",\"2022-02-22T00:00:00\",\"2022-02-23T00:00:00\",\"2022-02-24T00:00:00\",\"2022-02-25T00:00:00\",\"2022-02-26T00:00:00\",\"2022-02-27T00:00:00\",\"2022-03-06T00:00:00\",\"2022-03-07T00:00:00\",\"2022-03-08T00:00:00\",\"2022-03-09T00:00:00\",\"2022-03-10T00:00:00\",\"2022-03-11T00:00:00\",\"2022-03-12T00:00:00\",\"2022-03-13T00:00:00\",\"2022-03-14T00:00:00\",\"2022-03-15T00:00:00\",\"2022-03-16T00:00:00\",\"2022-03-17T00:00:00\",\"2022-03-18T00:00:00\",\"2022-03-19T00:00:00\",\"2022-03-20T00:00:00\",\"2022-03-21T00:00:00\",\"2022-03-22T00:00:00\"],\"y\":[3977.51,3991.23,4000.0,4006.3,4014.33,4031.8,4068.57,4073.53,4079.3,4100.65,4104.81,4114.68,4125.21,4130.59,4138.87,4149.18,4152.82,4163.59,4171.1,4171.71,4041.784216545401,4319.234771520648,4079.7023081576194,4095.9390901642832,4343.388964687515,4277.023667209578,4157.637395618057,4273.785270654962,4316.744782151585,4302.565582463596,4160.0,4164.0,4159.26,4159.26,4197.097742765914,4037.371300199926,4194.550587976735,4278.1817489595005,4161.37,4158.59,4150.73,4146.18,4141.43,4137.54,4134.94,4122.06,4116.98,4111.65,4104.59124035582,4048.676831019395,4106.53,4102.8,4096.67,4094.38,4085.2,3974.37735667239,4080.29,4047.434444329681,4076.97,4069.21,4064.9,4082.185985330169,4054.38,4048.22,4042.78,4031.84,4022.69,3827.188085542437,4013.88,4001.11,4099.288335418918,4000.0,3990.0,4140.816432947148,3800.001714159324,4050.179601376088,3977.030174587836,3981.360986334724,3905.0316161973706,4128.301971395777,4173.526749912257,3825.569776311247,3914.938838087365,3988.428328609214,4048.5914723212672,4076.493522731402,3866.0027696282978,3853.9975316814657,3999.047349694404,3848.279838642559,4000.157710926693,4064.74076489775,3857.6290863182776,3857.486293375364,4056.670443317453,4071.422245014841,4072.90986443806,3845.486969715895,3637.64,3502.68,3551.130304057452,3506.403240424894,3336.0785535094,3539.8079529038623,3511.588161324172,3426.783888313912,3549.5849143286496,3432.565815936138,3671.952092880051,3468.1766703625067,3360.099887217076,3665.809427666536,3640.285641280562,3509.948508777509,3582.786705147608,3539.98],\"type\":\"scatter\"},{\"name\":\"real price\",\"text\":[null,null,null,null,null,null,null,null,null,null,null,null,null,null,null,null,null,null,null,null,null,null,null,null,null,null,null,null,null,null,null,null,null,null,null,null,null,null,null,null,null,null,null,null,null,null,null,null,null,null,null,null,null,null,null,null,null,null,null,null,null,null,null,null,null,null,null,null,null,null,null,null,null,null,null,null,null,null,null,null,null,null,null,null,null,null,null,null,null,null,null,null,null,null,null,null,null,null,null,null,null,null,null,null,null,null,null,null,null,null,null,null,null,null,null,null,null,null,null,null,null,null,null,null,null,null,null,null,null,null,null,null,null,null,null,null,null,null,null,null,null,null,null,null,null,null,null,null,null,null,null,null,null,null,3281.64],\"textposition\":\"bottom center\",\"x\":[\"2021-11-01T00:00:00\",\"2021-11-02T00:00:00\",\"2021-11-03T00:00:00\",\"2021-11-04T00:00:00\",\"2021-11-05T00:00:00\",\"2021-11-06T00:00:00\",\"2021-11-07T00:00:00\",\"2021-11-08T00:00:00\",\"2021-11-09T00:00:00\",\"2021-11-10T00:00:00\",\"2021-11-11T00:00:00\",\"2021-11-12T00:00:00\",\"2021-11-13T00:00:00\",\"2021-11-14T00:00:00\",\"2021-11-15T00:00:00\",\"2021-11-16T00:00:00\",\"2021-11-17T00:00:00\",\"2021-11-18T00:00:00\",\"2021-11-19T00:00:00\",\"2021-11-20T00:00:00\",\"2021-11-21T00:00:00\",\"2021-11-22T00:00:00\",\"2021-11-23T00:00:00\",\"2021-11-24T00:00:00\",\"2021-11-25T00:00:00\",\"2021-11-26T00:00:00\",\"2021-11-27T00:00:00\",\"2021-11-28T00:00:00\",\"2021-11-29T00:00:00\",\"2021-11-30T00:00:00\",\"2021-12-01T00:00:00\",\"2021-12-02T00:00:00\",\"2021-12-03T00:00:00\",\"2021-12-04T00:00:00\",\"2021-12-05T00:00:00\",\"2021-12-06T00:00:00\",\"2021-12-07T00:00:00\",\"2021-12-08T00:00:00\",\"2021-12-09T00:00:00\",\"2021-12-10T00:00:00\",\"2021-12-11T00:00:00\",\"2021-12-12T00:00:00\",\"2021-12-13T00:00:00\",\"2021-12-14T00:00:00\",\"2021-12-15T00:00:00\",\"2021-12-16T00:00:00\",\"2021-12-17T00:00:00\",\"2021-12-18T00:00:00\",\"2021-12-18T00:00:00\",\"2021-12-19T00:00:00\",\"2021-12-19T00:00:00\",\"2021-12-20T00:00:00\",\"2021-12-20T00:00:00\",\"2021-12-21T00:00:00\",\"2021-12-21T00:00:00\",\"2021-12-22T00:00:00\",\"2021-12-22T00:00:00\",\"2021-12-23T00:00:00\",\"2021-12-24T00:00:00\",\"2021-12-25T00:00:00\",\"2021-12-26T00:00:00\",\"2021-12-27T00:00:00\",\"2021-12-28T00:00:00\",\"2021-12-29T00:00:00\",\"2021-12-30T00:00:00\",\"2021-12-31T00:00:00\",\"2022-01-01T00:00:00\",\"2022-01-02T00:00:00\",\"2022-01-03T00:00:00\",\"2022-01-04T00:00:00\",\"2022-01-05T00:00:00\",\"2022-01-06T00:00:00\",\"2022-01-07T00:00:00\",\"2022-01-08T00:00:00\",\"2022-01-09T00:00:00\",\"2022-01-10T00:00:00\",\"2022-01-11T00:00:00\",\"2022-01-12T00:00:00\",\"2022-01-13T00:00:00\",\"2022-01-14T00:00:00\",\"2022-01-15T00:00:00\",\"2022-01-16T00:00:00\",\"2022-01-17T00:00:00\",\"2022-01-18T00:00:00\",\"2022-01-19T00:00:00\",\"2022-01-20T00:00:00\",\"2022-01-21T00:00:00\",\"2022-01-22T00:00:00\",\"2022-01-23T00:00:00\",\"2022-01-24T00:00:00\",\"2022-01-25T00:00:00\",\"2022-01-26T00:00:00\",\"2022-01-27T00:00:00\",\"2022-01-28T00:00:00\",\"2022-01-29T00:00:00\",\"2022-01-30T00:00:00\",\"2022-01-31T00:00:00\",\"2022-02-01T00:00:00\",\"2022-02-02T00:00:00\",\"2022-02-03T00:00:00\",\"2022-02-04T00:00:00\",\"2022-02-05T00:00:00\",\"2022-02-06T00:00:00\",\"2022-02-07T00:00:00\",\"2022-02-08T00:00:00\",\"2022-02-09T00:00:00\",\"2022-02-10T00:00:00\",\"2022-02-11T00:00:00\",\"2022-02-12T00:00:00\",\"2022-02-13T00:00:00\",\"2022-02-14T00:00:00\",\"2022-02-16T00:00:00\",\"2022-02-17T00:00:00\",\"2022-02-18T00:00:00\",\"2022-02-19T00:00:00\",\"2022-02-20T00:00:00\",\"2022-02-21T00:00:00\",\"2022-02-22T00:00:00\",\"2022-02-23T00:00:00\",\"2022-02-24T00:00:00\",\"2022-02-25T00:00:00\",\"2022-02-26T00:00:00\",\"2022-02-27T00:00:00\",\"2022-02-28T00:00:00\",\"2022-03-01T00:00:00\",\"2022-03-02T00:00:00\",\"2022-03-03T00:00:00\",\"2022-03-04T00:00:00\",\"2022-03-05T00:00:00\",\"2022-03-06T00:00:00\",\"2022-03-07T00:00:00\",\"2022-03-08T00:00:00\",\"2022-03-09T00:00:00\",\"2022-03-10T00:00:00\",\"2022-03-11T00:00:00\",\"2022-03-12T00:00:00\",\"2022-03-13T00:00:00\",\"2022-03-14T00:00:00\",\"2022-03-15T00:00:00\",\"2022-03-16T00:00:00\",\"2022-03-17T00:00:00\",\"2022-03-18T00:00:00\",\"2022-03-19T00:00:00\",\"2022-03-20T00:00:00\",\"2022-03-21T00:00:00\",\"2022-03-22T00:00:00\",\"2022-03-23T00:00:00\",\"2022-03-24T00:00:00\",\"2022-03-25T00:00:00\",\"2022-03-26T00:00:00\",\"2022-03-27T00:00:00\",\"2022-03-28T00:00:00\",\"2022-03-29T00:00:00\",\"2022-03-30T00:00:00\",\"2022-03-31T00:00:00\"],\"y\":[4324.63,4584.8,4607.19,4537.32,4486.24,4521.58,4620.55,4812.09,4735.07,4636.17,4730.38,4667.12,4651.46,4626.36,4557.5,4216.37,4287.59,4000.65,4298.31,4409.93,4269.73,4088.46,4340.76,4276.04,4519.46,4030.91,4096.91,4294.45,4445.11,4631.48,4586.99,4511.3,4220.71,4119.59,4198.32,4358.74,4315.06,4439.36,4119.82,3908.5,4084.45,4134.45,3784.23,3859.71,4018.39,3962.47,3879.49,3960.86,3960.86,3922.59,3922.59,3933.84,3933.84,4020.26,4020.26,3982.1,3982.1,4108.02,4047.98,4093.28,4067.33,4037.55,3800.89,3628.53,3713.85,3682.63,3769.7,3829.57,3761.38,3794.06,3550.39,3418.41,3193.21,3091.97,3157.75,3083.1,3238.11,3372.26,3248.29,3310.0,3330.53,3350.92,3212.3,3164.03,3095.83,3001.12,2557.93,2405.18,2535.04,2440.35,2455.93,2468.03,2423.0,2547.09,2597.08,2603.47,2688.28,2792.12,2682.85,2679.16,2983.59,3014.65,3057.48,3142.47,3122.61,3239.46,3077.48,2927.38,2917.36,2883.46,2933.48,3127.83,2881.48,2785.73,2763.7,2628.65,2573.82,2639.3,2590.36,2598.07,2764.54,2781.11,2621.8,2919.2,2972.49,2950.12,2834.47,2617.16,2664.83,2555.04,2497.77,2576.75,2729.78,2608.05,2559.56,2574.75,2518.94,2590.7,2620.15,2772.06,2814.85,2945.34,2946.26,2860.46,2897.98,2973.13,3031.07,3108.06,3106.67,3143.18,3291.58,3336.63,3401.99,3385.16,3281.64],\"type\":\"scatter\"}],                        {\"template\":{\"data\":{\"histogram2dcontour\":[{\"type\":\"histogram2dcontour\",\"colorbar\":{\"outlinewidth\":0,\"ticks\":\"\"},\"colorscale\":[[0.0,\"#0d0887\"],[0.1111111111111111,\"#46039f\"],[0.2222222222222222,\"#7201a8\"],[0.3333333333333333,\"#9c179e\"],[0.4444444444444444,\"#bd3786\"],[0.5555555555555556,\"#d8576b\"],[0.6666666666666666,\"#ed7953\"],[0.7777777777777778,\"#fb9f3a\"],[0.8888888888888888,\"#fdca26\"],[1.0,\"#f0f921\"]]}],\"choropleth\":[{\"type\":\"choropleth\",\"colorbar\":{\"outlinewidth\":0,\"ticks\":\"\"}}],\"histogram2d\":[{\"type\":\"histogram2d\",\"colorbar\":{\"outlinewidth\":0,\"ticks\":\"\"},\"colorscale\":[[0.0,\"#0d0887\"],[0.1111111111111111,\"#46039f\"],[0.2222222222222222,\"#7201a8\"],[0.3333333333333333,\"#9c179e\"],[0.4444444444444444,\"#bd3786\"],[0.5555555555555556,\"#d8576b\"],[0.6666666666666666,\"#ed7953\"],[0.7777777777777778,\"#fb9f3a\"],[0.8888888888888888,\"#fdca26\"],[1.0,\"#f0f921\"]]}],\"heatmap\":[{\"type\":\"heatmap\",\"colorbar\":{\"outlinewidth\":0,\"ticks\":\"\"},\"colorscale\":[[0.0,\"#0d0887\"],[0.1111111111111111,\"#46039f\"],[0.2222222222222222,\"#7201a8\"],[0.3333333333333333,\"#9c179e\"],[0.4444444444444444,\"#bd3786\"],[0.5555555555555556,\"#d8576b\"],[0.6666666666666666,\"#ed7953\"],[0.7777777777777778,\"#fb9f3a\"],[0.8888888888888888,\"#fdca26\"],[1.0,\"#f0f921\"]]}],\"heatmapgl\":[{\"type\":\"heatmapgl\",\"colorbar\":{\"outlinewidth\":0,\"ticks\":\"\"},\"colorscale\":[[0.0,\"#0d0887\"],[0.1111111111111111,\"#46039f\"],[0.2222222222222222,\"#7201a8\"],[0.3333333333333333,\"#9c179e\"],[0.4444444444444444,\"#bd3786\"],[0.5555555555555556,\"#d8576b\"],[0.6666666666666666,\"#ed7953\"],[0.7777777777777778,\"#fb9f3a\"],[0.8888888888888888,\"#fdca26\"],[1.0,\"#f0f921\"]]}],\"contourcarpet\":[{\"type\":\"contourcarpet\",\"colorbar\":{\"outlinewidth\":0,\"ticks\":\"\"}}],\"contour\":[{\"type\":\"contour\",\"colorbar\":{\"outlinewidth\":0,\"ticks\":\"\"},\"colorscale\":[[0.0,\"#0d0887\"],[0.1111111111111111,\"#46039f\"],[0.2222222222222222,\"#7201a8\"],[0.3333333333333333,\"#9c179e\"],[0.4444444444444444,\"#bd3786\"],[0.5555555555555556,\"#d8576b\"],[0.6666666666666666,\"#ed7953\"],[0.7777777777777778,\"#fb9f3a\"],[0.8888888888888888,\"#fdca26\"],[1.0,\"#f0f921\"]]}],\"surface\":[{\"type\":\"surface\",\"colorbar\":{\"outlinewidth\":0,\"ticks\":\"\"},\"colorscale\":[[0.0,\"#0d0887\"],[0.1111111111111111,\"#46039f\"],[0.2222222222222222,\"#7201a8\"],[0.3333333333333333,\"#9c179e\"],[0.4444444444444444,\"#bd3786\"],[0.5555555555555556,\"#d8576b\"],[0.6666666666666666,\"#ed7953\"],[0.7777777777777778,\"#fb9f3a\"],[0.8888888888888888,\"#fdca26\"],[1.0,\"#f0f921\"]]}],\"mesh3d\":[{\"type\":\"mesh3d\",\"colorbar\":{\"outlinewidth\":0,\"ticks\":\"\"}}],\"scatter\":[{\"fillpattern\":{\"fillmode\":\"overlay\",\"size\":10,\"solidity\":0.2},\"type\":\"scatter\"}],\"parcoords\":[{\"type\":\"parcoords\",\"line\":{\"colorbar\":{\"outlinewidth\":0,\"ticks\":\"\"}}}],\"scatterpolargl\":[{\"type\":\"scatterpolargl\",\"marker\":{\"colorbar\":{\"outlinewidth\":0,\"ticks\":\"\"}}}],\"bar\":[{\"error_x\":{\"color\":\"#2a3f5f\"},\"error_y\":{\"color\":\"#2a3f5f\"},\"marker\":{\"line\":{\"color\":\"#E5ECF6\",\"width\":0.5},\"pattern\":{\"fillmode\":\"overlay\",\"size\":10,\"solidity\":0.2}},\"type\":\"bar\"}],\"scattergeo\":[{\"type\":\"scattergeo\",\"marker\":{\"colorbar\":{\"outlinewidth\":0,\"ticks\":\"\"}}}],\"scatterpolar\":[{\"type\":\"scatterpolar\",\"marker\":{\"colorbar\":{\"outlinewidth\":0,\"ticks\":\"\"}}}],\"histogram\":[{\"marker\":{\"pattern\":{\"fillmode\":\"overlay\",\"size\":10,\"solidity\":0.2}},\"type\":\"histogram\"}],\"scattergl\":[{\"type\":\"scattergl\",\"marker\":{\"colorbar\":{\"outlinewidth\":0,\"ticks\":\"\"}}}],\"scatter3d\":[{\"type\":\"scatter3d\",\"line\":{\"colorbar\":{\"outlinewidth\":0,\"ticks\":\"\"}},\"marker\":{\"colorbar\":{\"outlinewidth\":0,\"ticks\":\"\"}}}],\"scattermapbox\":[{\"type\":\"scattermapbox\",\"marker\":{\"colorbar\":{\"outlinewidth\":0,\"ticks\":\"\"}}}],\"scatterternary\":[{\"type\":\"scatterternary\",\"marker\":{\"colorbar\":{\"outlinewidth\":0,\"ticks\":\"\"}}}],\"scattercarpet\":[{\"type\":\"scattercarpet\",\"marker\":{\"colorbar\":{\"outlinewidth\":0,\"ticks\":\"\"}}}],\"carpet\":[{\"aaxis\":{\"endlinecolor\":\"#2a3f5f\",\"gridcolor\":\"white\",\"linecolor\":\"white\",\"minorgridcolor\":\"white\",\"startlinecolor\":\"#2a3f5f\"},\"baxis\":{\"endlinecolor\":\"#2a3f5f\",\"gridcolor\":\"white\",\"linecolor\":\"white\",\"minorgridcolor\":\"white\",\"startlinecolor\":\"#2a3f5f\"},\"type\":\"carpet\"}],\"table\":[{\"cells\":{\"fill\":{\"color\":\"#EBF0F8\"},\"line\":{\"color\":\"white\"}},\"header\":{\"fill\":{\"color\":\"#C8D4E3\"},\"line\":{\"color\":\"white\"}},\"type\":\"table\"}],\"barpolar\":[{\"marker\":{\"line\":{\"color\":\"#E5ECF6\",\"width\":0.5},\"pattern\":{\"fillmode\":\"overlay\",\"size\":10,\"solidity\":0.2}},\"type\":\"barpolar\"}],\"pie\":[{\"automargin\":true,\"type\":\"pie\"}]},\"layout\":{\"autotypenumbers\":\"strict\",\"colorway\":[\"#636efa\",\"#EF553B\",\"#00cc96\",\"#ab63fa\",\"#FFA15A\",\"#19d3f3\",\"#FF6692\",\"#B6E880\",\"#FF97FF\",\"#FECB52\"],\"font\":{\"color\":\"#2a3f5f\"},\"hovermode\":\"closest\",\"hoverlabel\":{\"align\":\"left\"},\"paper_bgcolor\":\"white\",\"plot_bgcolor\":\"#E5ECF6\",\"polar\":{\"bgcolor\":\"#E5ECF6\",\"angularaxis\":{\"gridcolor\":\"white\",\"linecolor\":\"white\",\"ticks\":\"\"},\"radialaxis\":{\"gridcolor\":\"white\",\"linecolor\":\"white\",\"ticks\":\"\"}},\"ternary\":{\"bgcolor\":\"#E5ECF6\",\"aaxis\":{\"gridcolor\":\"white\",\"linecolor\":\"white\",\"ticks\":\"\"},\"baxis\":{\"gridcolor\":\"white\",\"linecolor\":\"white\",\"ticks\":\"\"},\"caxis\":{\"gridcolor\":\"white\",\"linecolor\":\"white\",\"ticks\":\"\"}},\"coloraxis\":{\"colorbar\":{\"outlinewidth\":0,\"ticks\":\"\"}},\"colorscale\":{\"sequential\":[[0.0,\"#0d0887\"],[0.1111111111111111,\"#46039f\"],[0.2222222222222222,\"#7201a8\"],[0.3333333333333333,\"#9c179e\"],[0.4444444444444444,\"#bd3786\"],[0.5555555555555556,\"#d8576b\"],[0.6666666666666666,\"#ed7953\"],[0.7777777777777778,\"#fb9f3a\"],[0.8888888888888888,\"#fdca26\"],[1.0,\"#f0f921\"]],\"sequentialminus\":[[0.0,\"#0d0887\"],[0.1111111111111111,\"#46039f\"],[0.2222222222222222,\"#7201a8\"],[0.3333333333333333,\"#9c179e\"],[0.4444444444444444,\"#bd3786\"],[0.5555555555555556,\"#d8576b\"],[0.6666666666666666,\"#ed7953\"],[0.7777777777777778,\"#fb9f3a\"],[0.8888888888888888,\"#fdca26\"],[1.0,\"#f0f921\"]],\"diverging\":[[0,\"#8e0152\"],[0.1,\"#c51b7d\"],[0.2,\"#de77ae\"],[0.3,\"#f1b6da\"],[0.4,\"#fde0ef\"],[0.5,\"#f7f7f7\"],[0.6,\"#e6f5d0\"],[0.7,\"#b8e186\"],[0.8,\"#7fbc41\"],[0.9,\"#4d9221\"],[1,\"#276419\"]]},\"xaxis\":{\"gridcolor\":\"white\",\"linecolor\":\"white\",\"ticks\":\"\",\"title\":{\"standoff\":15},\"zerolinecolor\":\"white\",\"automargin\":true,\"zerolinewidth\":2},\"yaxis\":{\"gridcolor\":\"white\",\"linecolor\":\"white\",\"ticks\":\"\",\"title\":{\"standoff\":15},\"zerolinecolor\":\"white\",\"automargin\":true,\"zerolinewidth\":2},\"scene\":{\"xaxis\":{\"backgroundcolor\":\"#E5ECF6\",\"gridcolor\":\"white\",\"linecolor\":\"white\",\"showbackground\":true,\"ticks\":\"\",\"zerolinecolor\":\"white\",\"gridwidth\":2},\"yaxis\":{\"backgroundcolor\":\"#E5ECF6\",\"gridcolor\":\"white\",\"linecolor\":\"white\",\"showbackground\":true,\"ticks\":\"\",\"zerolinecolor\":\"white\",\"gridwidth\":2},\"zaxis\":{\"backgroundcolor\":\"#E5ECF6\",\"gridcolor\":\"white\",\"linecolor\":\"white\",\"showbackground\":true,\"ticks\":\"\",\"zerolinecolor\":\"white\",\"gridwidth\":2}},\"shapedefaults\":{\"line\":{\"color\":\"#2a3f5f\"}},\"annotationdefaults\":{\"arrowcolor\":\"#2a3f5f\",\"arrowhead\":0,\"arrowwidth\":1},\"geo\":{\"bgcolor\":\"white\",\"landcolor\":\"#E5ECF6\",\"subunitcolor\":\"white\",\"showland\":true,\"showlakes\":true,\"lakecolor\":\"white\"},\"title\":{\"x\":0.05},\"mapbox\":{\"style\":\"light\"}}},\"title\":{\"text\":\"Predication to 2022-03-31 and real price of ETH\"},\"xaxis\":{\"title\":{\"text\":\"Date\"}},\"yaxis\":{\"title\":{\"text\":\"Price\"}}},                        {\"responsive\": true}                    ).then(function(){\n",
       "                            \n",
       "var gd = document.getElementById('40219b03-9c62-4ffe-a94c-2a40a5f96b92');\n",
       "var x = new MutationObserver(function (mutations, observer) {{\n",
       "        var display = window.getComputedStyle(gd).display;\n",
       "        if (!display || display === 'none') {{\n",
       "            console.log([gd, 'removed!']);\n",
       "            Plotly.purge(gd);\n",
       "            observer.disconnect();\n",
       "        }}\n",
       "}});\n",
       "\n",
       "// Listen for the removal of the full notebook cells\n",
       "var notebookContainer = gd.closest('#notebook-container');\n",
       "if (notebookContainer) {{\n",
       "    x.observe(notebookContainer, {childList: true});\n",
       "}}\n",
       "\n",
       "// Listen for the clearing of the current output cell\n",
       "var outputEl = gd.closest('.output');\n",
       "if (outputEl) {{\n",
       "    x.observe(outputEl, {childList: true});\n",
       "}}\n",
       "\n",
       "                        })                };                });            </script>        </div>"
      ]
     },
     "metadata": {},
     "output_type": "display_data"
    },
    {
     "data": {
      "text/html": [
       "<div>\n",
       "<style scoped>\n",
       "    .dataframe tbody tr th:only-of-type {\n",
       "        vertical-align: middle;\n",
       "    }\n",
       "\n",
       "    .dataframe tbody tr th {\n",
       "        vertical-align: top;\n",
       "    }\n",
       "\n",
       "    .dataframe thead th {\n",
       "        text-align: right;\n",
       "    }\n",
       "</style>\n",
       "<table border=\"1\" class=\"dataframe\">\n",
       "  <thead>\n",
       "    <tr style=\"text-align: right;\">\n",
       "      <th></th>\n",
       "      <th>Predication_date</th>\n",
       "      <th>Crypto_symbol</th>\n",
       "      <th>Predication_month_year</th>\n",
       "      <th>Votes</th>\n",
       "      <th>Values_median</th>\n",
       "      <th>Values_average</th>\n",
       "      <th>Price</th>\n",
       "      <th>Price_date</th>\n",
       "    </tr>\n",
       "  </thead>\n",
       "  <tbody>\n",
       "    <tr>\n",
       "      <th>206</th>\n",
       "      <td>2021-11-19</td>\n",
       "      <td>BTC</td>\n",
       "      <td>2022-03-31</td>\n",
       "      <td>23403.0</td>\n",
       "      <td>60510.610000</td>\n",
       "      <td>59391.410000</td>\n",
       "      <td>45538.68</td>\n",
       "      <td>2022-03-31</td>\n",
       "    </tr>\n",
       "    <tr>\n",
       "      <th>207</th>\n",
       "      <td>2021-11-20</td>\n",
       "      <td>BTC</td>\n",
       "      <td>2022-03-31</td>\n",
       "      <td>23697.0</td>\n",
       "      <td>60511.610000</td>\n",
       "      <td>59414.860000</td>\n",
       "      <td>45538.68</td>\n",
       "      <td>2022-03-31</td>\n",
       "    </tr>\n",
       "    <tr>\n",
       "      <th>208</th>\n",
       "      <td>2021-11-21</td>\n",
       "      <td>BTC</td>\n",
       "      <td>2022-03-31</td>\n",
       "      <td>23992.0</td>\n",
       "      <td>60520.880000</td>\n",
       "      <td>59444.940000</td>\n",
       "      <td>45538.68</td>\n",
       "      <td>2022-03-31</td>\n",
       "    </tr>\n",
       "    <tr>\n",
       "      <th>209</th>\n",
       "      <td>2021-11-22</td>\n",
       "      <td>BTC</td>\n",
       "      <td>2022-03-31</td>\n",
       "      <td>24431.0</td>\n",
       "      <td>60490.050000</td>\n",
       "      <td>59456.010000</td>\n",
       "      <td>45538.68</td>\n",
       "      <td>2022-03-31</td>\n",
       "    </tr>\n",
       "    <tr>\n",
       "      <th>210</th>\n",
       "      <td>2021-11-23</td>\n",
       "      <td>BTC</td>\n",
       "      <td>2022-03-31</td>\n",
       "      <td>24809.0</td>\n",
       "      <td>60429.590000</td>\n",
       "      <td>59420.730000</td>\n",
       "      <td>45538.68</td>\n",
       "      <td>2022-03-31</td>\n",
       "    </tr>\n",
       "    <tr>\n",
       "      <th>...</th>\n",
       "      <td>...</td>\n",
       "      <td>...</td>\n",
       "      <td>...</td>\n",
       "      <td>...</td>\n",
       "      <td>...</td>\n",
       "      <td>...</td>\n",
       "      <td>...</td>\n",
       "      <td>...</td>\n",
       "    </tr>\n",
       "    <tr>\n",
       "      <th>313</th>\n",
       "      <td>2022-03-18</td>\n",
       "      <td>BTC</td>\n",
       "      <td>2022-03-31</td>\n",
       "      <td>117917.0</td>\n",
       "      <td>49142.680118</td>\n",
       "      <td>50769.790115</td>\n",
       "      <td>45538.68</td>\n",
       "      <td>2022-03-31</td>\n",
       "    </tr>\n",
       "    <tr>\n",
       "      <th>314</th>\n",
       "      <td>2022-03-19</td>\n",
       "      <td>BTC</td>\n",
       "      <td>2022-03-31</td>\n",
       "      <td>119773.0</td>\n",
       "      <td>46566.644380</td>\n",
       "      <td>49810.677424</td>\n",
       "      <td>45538.68</td>\n",
       "      <td>2022-03-31</td>\n",
       "    </tr>\n",
       "    <tr>\n",
       "      <th>315</th>\n",
       "      <td>2022-03-20</td>\n",
       "      <td>BTC</td>\n",
       "      <td>2022-03-31</td>\n",
       "      <td>123666.0</td>\n",
       "      <td>46234.198373</td>\n",
       "      <td>49067.357665</td>\n",
       "      <td>45538.68</td>\n",
       "      <td>2022-03-31</td>\n",
       "    </tr>\n",
       "    <tr>\n",
       "      <th>316</th>\n",
       "      <td>2022-03-21</td>\n",
       "      <td>BTC</td>\n",
       "      <td>2022-03-31</td>\n",
       "      <td>124222.0</td>\n",
       "      <td>48238.064049</td>\n",
       "      <td>52319.067600</td>\n",
       "      <td>45538.68</td>\n",
       "      <td>2022-03-31</td>\n",
       "    </tr>\n",
       "    <tr>\n",
       "      <th>317</th>\n",
       "      <td>2022-03-22</td>\n",
       "      <td>BTC</td>\n",
       "      <td>2022-03-31</td>\n",
       "      <td>125854.0</td>\n",
       "      <td>48022.240000</td>\n",
       "      <td>49034.640000</td>\n",
       "      <td>45538.68</td>\n",
       "      <td>2022-03-31</td>\n",
       "    </tr>\n",
       "  </tbody>\n",
       "</table>\n",
       "<p>112 rows × 8 columns</p>\n",
       "</div>"
      ],
      "text/plain": [
       "    Predication_date Crypto_symbol Predication_month_year     Votes  \\\n",
       "206       2021-11-19           BTC             2022-03-31   23403.0   \n",
       "207       2021-11-20           BTC             2022-03-31   23697.0   \n",
       "208       2021-11-21           BTC             2022-03-31   23992.0   \n",
       "209       2021-11-22           BTC             2022-03-31   24431.0   \n",
       "210       2021-11-23           BTC             2022-03-31   24809.0   \n",
       "..               ...           ...                    ...       ...   \n",
       "313       2022-03-18           BTC             2022-03-31  117917.0   \n",
       "314       2022-03-19           BTC             2022-03-31  119773.0   \n",
       "315       2022-03-20           BTC             2022-03-31  123666.0   \n",
       "316       2022-03-21           BTC             2022-03-31  124222.0   \n",
       "317       2022-03-22           BTC             2022-03-31  125854.0   \n",
       "\n",
       "     Values_median  Values_average     Price Price_date  \n",
       "206   60510.610000    59391.410000  45538.68 2022-03-31  \n",
       "207   60511.610000    59414.860000  45538.68 2022-03-31  \n",
       "208   60520.880000    59444.940000  45538.68 2022-03-31  \n",
       "209   60490.050000    59456.010000  45538.68 2022-03-31  \n",
       "210   60429.590000    59420.730000  45538.68 2022-03-31  \n",
       "..             ...             ...       ...        ...  \n",
       "313   49142.680118    50769.790115  45538.68 2022-03-31  \n",
       "314   46566.644380    49810.677424  45538.68 2022-03-31  \n",
       "315   46234.198373    49067.357665  45538.68 2022-03-31  \n",
       "316   48238.064049    52319.067600  45538.68 2022-03-31  \n",
       "317   48022.240000    49034.640000  45538.68 2022-03-31  \n",
       "\n",
       "[112 rows x 8 columns]"
      ]
     },
     "execution_count": 38,
     "metadata": {},
     "output_type": "execute_result"
    }
   ],
   "source": [
    "fig_btc = visualize('BNB','2022-03-31')\n",
    "fig_btc.show()\n",
    "fig_eth = visualize('ETH','2022-03-31')\n",
    "fig_eth.show()\n",
    "# for i in range(len(symbol_list)):\n",
    "#     print('Rank: '+str(i))\n",
    "#     fig = visualize(symbol_list[i],'2022-03-31')\n",
    "#     fig.show()\n",
    "#     if i > 20:\n",
    "#         break\n",
    "df_merged = get_predication('BTC',\"2022-03-31\")\n",
    "df_btc_daily = get_real_price('BTC','2021-11-01',\"2022-03-31\")\n",
    "df_merged"
   ]
  },
  {
   "cell_type": "code",
   "execution_count": 40,
   "id": "dfa78789",
   "metadata": {
    "scrolled": false
   },
   "outputs": [
    {
     "data": {
      "application/vnd.plotly.v1+json": {
       "config": {
        "plotlyServerURL": "https://plot.ly"
       },
       "data": [
        {
         "name": "Predication",
         "type": "scatter",
         "x": [
          "2021-11-19T00:00:00",
          "2021-11-20T00:00:00",
          "2021-11-21T00:00:00",
          "2021-11-22T00:00:00",
          "2021-11-23T00:00:00",
          "2021-11-24T00:00:00",
          "2021-11-30T00:00:00",
          "2021-12-01T00:00:00",
          "2021-12-02T00:00:00",
          "2021-12-03T00:00:00",
          "2021-12-04T00:00:00",
          "2021-12-05T00:00:00",
          "2021-12-06T00:00:00",
          "2021-12-07T00:00:00",
          "2021-12-08T00:00:00",
          "2021-12-09T00:00:00",
          "2021-12-10T00:00:00",
          "2021-12-11T00:00:00",
          "2021-12-12T00:00:00",
          "2021-12-13T00:00:00",
          "2021-12-14T00:00:00",
          "2021-12-15T00:00:00",
          "2021-12-16T00:00:00",
          "2021-12-17T00:00:00",
          "2021-12-18T00:00:00",
          "2021-12-19T00:00:00",
          "2021-12-20T00:00:00",
          "2021-12-21T00:00:00",
          "2021-12-22T00:00:00",
          "2021-12-22T00:00:00",
          "2021-12-24T00:00:00",
          "2021-12-25T00:00:00",
          "2021-12-26T00:00:00",
          "2021-12-27T00:00:00",
          "2021-12-28T00:00:00",
          "2021-12-29T00:00:00",
          "2021-12-31T00:00:00",
          "2022-01-01T00:00:00",
          "2022-01-02T00:00:00",
          "2022-01-03T00:00:00",
          "2022-01-04T00:00:00",
          "2022-01-05T00:00:00",
          "2022-01-06T00:00:00",
          "2022-01-07T00:00:00",
          "2022-01-08T00:00:00",
          "2022-01-09T00:00:00",
          "2022-01-10T00:00:00",
          "2022-01-11T00:00:00",
          "2022-01-12T00:00:00",
          "2022-01-13T00:00:00",
          "2022-01-14T00:00:00",
          "2022-01-15T00:00:00",
          "2022-01-16T00:00:00",
          "2022-01-17T00:00:00",
          "2022-01-17T00:00:00",
          "2022-01-19T00:00:00",
          "2022-01-20T00:00:00",
          "2022-01-21T00:00:00",
          "2022-01-22T00:00:00",
          "2022-01-23T00:00:00",
          "2022-01-24T00:00:00",
          "2022-01-25T00:00:00",
          "2022-01-26T00:00:00",
          "2022-01-27T00:00:00",
          "2022-01-27T00:00:00",
          "2022-01-29T00:00:00",
          "2022-01-30T00:00:00",
          "2022-01-31T00:00:00",
          "2022-02-01T00:00:00",
          "2022-02-02T00:00:00",
          "2022-02-03T00:00:00",
          "2022-02-04T00:00:00",
          "2022-02-05T00:00:00",
          "2022-02-06T00:00:00",
          "2022-02-07T00:00:00",
          "2022-02-08T00:00:00",
          "2022-02-09T00:00:00",
          "2022-02-10T00:00:00",
          "2022-02-11T00:00:00",
          "2022-02-12T00:00:00",
          "2022-02-13T00:00:00",
          "2022-02-14T00:00:00",
          "2022-02-15T00:00:00",
          "2022-02-16T00:00:00",
          "2022-02-17T00:00:00",
          "2022-02-18T00:00:00",
          "2022-02-19T00:00:00",
          "2022-02-20T00:00:00",
          "2022-02-21T00:00:00",
          "2022-02-22T00:00:00",
          "2022-02-23T00:00:00",
          "2022-02-24T00:00:00",
          "2022-02-25T00:00:00",
          "2022-02-26T00:00:00",
          "2022-02-27T00:00:00",
          "2022-03-06T00:00:00",
          "2022-03-07T00:00:00",
          "2022-03-08T00:00:00",
          "2022-03-09T00:00:00",
          "2022-03-10T00:00:00",
          "2022-03-11T00:00:00",
          "2022-03-12T00:00:00",
          "2022-03-13T00:00:00",
          "2022-03-14T00:00:00",
          "2022-03-15T00:00:00",
          "2022-03-16T00:00:00",
          "2022-03-17T00:00:00",
          "2022-03-18T00:00:00",
          "2022-03-19T00:00:00",
          "2022-03-20T00:00:00",
          "2022-03-21T00:00:00",
          "2022-03-22T00:00:00"
         ],
         "y": [
          60510.61,
          60511.61,
          60520.88,
          60490.05,
          60429.59,
          60386.38,
          60235.23,
          60129.57,
          60110.88,
          60046.45,
          59929.6,
          59734.43,
          59680.05,
          59570.67,
          59361.26,
          59149.52,
          57661.04791466951,
          59819.25548979052,
          59133.76529466962,
          58969.97120840129,
          59311.79499957117,
          57351.486921224365,
          60656.27170124512,
          60637.01233040125,
          58115.75867409253,
          60017.70002177462,
          57645.46,
          57115.55,
          56952.53,
          56952.53,
          57467.62340392929,
          54820.620940115376,
          57999.53996421357,
          58116.479288717215,
          56773.94,
          56496.41,
          56155.33,
          56015.7,
          55802.43,
          55564.75,
          55297.97,
          54840.77,
          54664.42,
          54482.73,
          53492.76942390634,
          56409.48647238161,
          54311.95,
          54208.27,
          54038.4,
          54000,
          53837.49,
          54987.80016815829,
          53696.73,
          52115.8980618307,
          53574.16,
          53399.69,
          53310.18,
          53470.07347619284,
          53031.81,
          52916.98,
          52787.8,
          52617.96,
          52500,
          54196.61402568532,
          52362.14,
          52098.07,
          49988.09186623101,
          52000,
          51773.3,
          52224.18685914033,
          50152.2105971224,
          49633.86579437773,
          49721.80304848105,
          50411.72577889659,
          52603.94090489661,
          50603.93592700215,
          49622.97599211039,
          52088.17812465473,
          53879.04621765664,
          50353.71195166939,
          50163.05727907556,
          52519.80490635881,
          52416.55675822392,
          52640.329716467095,
          49741.18848814997,
          52681.22433436646,
          49762.32508679301,
          49957.73515052124,
          53727.32941322561,
          51488.82621629057,
          52008.47967213492,
          49274.97931762573,
          52185.66326422792,
          53131.57656452613,
          49110.96,
          48000,
          46440.473807022965,
          45861.25430902028,
          48147.97676295459,
          48962.12401549512,
          48432.89242770572,
          50310.17292021955,
          48248.92015125781,
          46685.54850489543,
          48232.42836115492,
          50260.57145303068,
          49756.8795411132,
          49142.680117809,
          46566.64437988678,
          46234.19837345775,
          48238.06404883945,
          48022.24
         ]
        },
        {
         "name": "Real price",
         "type": "scatter",
         "x": [
          "2021-11-01T00:00:00",
          "2021-11-02T00:00:00",
          "2021-11-03T00:00:00",
          "2021-11-04T00:00:00",
          "2021-11-05T00:00:00",
          "2021-11-06T00:00:00",
          "2021-11-07T00:00:00",
          "2021-11-08T00:00:00",
          "2021-11-09T00:00:00",
          "2021-11-10T00:00:00",
          "2021-11-11T00:00:00",
          "2021-11-12T00:00:00",
          "2021-11-13T00:00:00",
          "2021-11-14T00:00:00",
          "2021-11-15T00:00:00",
          "2021-11-16T00:00:00",
          "2021-11-17T00:00:00",
          "2021-11-18T00:00:00",
          "2021-11-19T00:00:00",
          "2021-11-20T00:00:00",
          "2021-11-21T00:00:00",
          "2021-11-22T00:00:00",
          "2021-11-23T00:00:00",
          "2021-11-24T00:00:00",
          "2021-11-25T00:00:00",
          "2021-11-26T00:00:00",
          "2021-11-27T00:00:00",
          "2021-11-28T00:00:00",
          "2021-11-29T00:00:00",
          "2021-11-30T00:00:00",
          "2021-12-01T00:00:00",
          "2021-12-02T00:00:00",
          "2021-12-03T00:00:00",
          "2021-12-04T00:00:00",
          "2021-12-05T00:00:00",
          "2021-12-06T00:00:00",
          "2021-12-07T00:00:00",
          "2021-12-08T00:00:00",
          "2021-12-09T00:00:00",
          "2021-12-10T00:00:00",
          "2021-12-11T00:00:00",
          "2021-12-12T00:00:00",
          "2021-12-13T00:00:00",
          "2021-12-14T00:00:00",
          "2021-12-15T00:00:00",
          "2021-12-16T00:00:00",
          "2021-12-17T00:00:00",
          "2021-12-18T00:00:00",
          "2021-12-18T00:00:00",
          "2021-12-19T00:00:00",
          "2021-12-19T00:00:00",
          "2021-12-20T00:00:00",
          "2021-12-20T00:00:00",
          "2021-12-21T00:00:00",
          "2021-12-21T00:00:00",
          "2021-12-22T00:00:00",
          "2021-12-22T00:00:00",
          "2021-12-23T00:00:00",
          "2021-12-24T00:00:00",
          "2021-12-25T00:00:00",
          "2021-12-26T00:00:00",
          "2021-12-27T00:00:00",
          "2021-12-28T00:00:00",
          "2021-12-29T00:00:00",
          "2021-12-30T00:00:00",
          "2021-12-31T00:00:00",
          "2022-01-01T00:00:00",
          "2022-01-02T00:00:00",
          "2022-01-03T00:00:00",
          "2022-01-04T00:00:00",
          "2022-01-05T00:00:00",
          "2022-01-06T00:00:00",
          "2022-01-07T00:00:00",
          "2022-01-08T00:00:00",
          "2022-01-09T00:00:00",
          "2022-01-10T00:00:00",
          "2022-01-11T00:00:00",
          "2022-01-12T00:00:00",
          "2022-01-13T00:00:00",
          "2022-01-14T00:00:00",
          "2022-01-15T00:00:00",
          "2022-01-16T00:00:00",
          "2022-01-17T00:00:00",
          "2022-01-18T00:00:00",
          "2022-01-19T00:00:00",
          "2022-01-20T00:00:00",
          "2022-01-21T00:00:00",
          "2022-01-22T00:00:00",
          "2022-01-23T00:00:00",
          "2022-01-24T00:00:00",
          "2022-01-25T00:00:00",
          "2022-01-26T00:00:00",
          "2022-01-27T00:00:00",
          "2022-01-28T00:00:00",
          "2022-01-29T00:00:00",
          "2022-01-30T00:00:00",
          "2022-01-31T00:00:00",
          "2022-02-01T00:00:00",
          "2022-02-02T00:00:00",
          "2022-02-03T00:00:00",
          "2022-02-04T00:00:00",
          "2022-02-05T00:00:00",
          "2022-02-06T00:00:00",
          "2022-02-07T00:00:00",
          "2022-02-08T00:00:00",
          "2022-02-09T00:00:00",
          "2022-02-10T00:00:00",
          "2022-02-11T00:00:00",
          "2022-02-12T00:00:00",
          "2022-02-13T00:00:00",
          "2022-02-14T00:00:00",
          "2022-02-16T00:00:00",
          "2022-02-17T00:00:00",
          "2022-02-18T00:00:00",
          "2022-02-19T00:00:00",
          "2022-02-20T00:00:00",
          "2022-02-21T00:00:00",
          "2022-02-22T00:00:00",
          "2022-02-23T00:00:00",
          "2022-02-24T00:00:00",
          "2022-02-25T00:00:00",
          "2022-02-26T00:00:00",
          "2022-02-27T00:00:00",
          "2022-02-28T00:00:00",
          "2022-03-01T00:00:00",
          "2022-03-02T00:00:00",
          "2022-03-03T00:00:00",
          "2022-03-04T00:00:00",
          "2022-03-05T00:00:00",
          "2022-03-06T00:00:00",
          "2022-03-07T00:00:00",
          "2022-03-08T00:00:00",
          "2022-03-09T00:00:00",
          "2022-03-10T00:00:00",
          "2022-03-11T00:00:00",
          "2022-03-12T00:00:00",
          "2022-03-13T00:00:00",
          "2022-03-14T00:00:00",
          "2022-03-15T00:00:00",
          "2022-03-16T00:00:00",
          "2022-03-17T00:00:00",
          "2022-03-18T00:00:00",
          "2022-03-19T00:00:00",
          "2022-03-20T00:00:00",
          "2022-03-21T00:00:00",
          "2022-03-22T00:00:00",
          "2022-03-23T00:00:00",
          "2022-03-24T00:00:00",
          "2022-03-25T00:00:00",
          "2022-03-26T00:00:00",
          "2022-03-27T00:00:00",
          "2022-03-28T00:00:00",
          "2022-03-29T00:00:00",
          "2022-03-30T00:00:00",
          "2022-03-31T00:00:00"
         ],
         "y": [
          61004.41,
          63226.4,
          62970.05,
          61452.23,
          61125.67,
          61527.48,
          63326.99,
          67566.83,
          66971.83,
          64995.23,
          64949.96,
          64155.94,
          64469.53,
          65466.84,
          63557.87,
          60161.25,
          60368.01,
          56942.14,
          58119.58,
          59697.2,
          58730.48,
          56289.29,
          57569.07,
          57206.37,
          58927.89,
          53569.76,
          54815.08,
          57248.46,
          57806.57,
          57005.43,
          57229.83,
          56477.82,
          53598.25,
          49200.7,
          49368.85,
          50582.63,
          50700.08,
          50504.8,
          47672.12,
          47243.31,
          49362.51,
          50098.34,
          46737.48,
          48383.87,
          48896.72,
          47665.43,
          46202.14,
          46848.78,
          46848.78,
          46707.01,
          46707.01,
          46880.28,
          46880.28,
          48936.61,
          48936.61,
          48628.51,
          48628.51,
          50784.54,
          50822.2,
          50429.86,
          50809.52,
          50640.42,
          47588.85,
          46444.71,
          47178.13,
          46306.45,
          47686.81,
          47345.22,
          46458.12,
          45897.58,
          43569,
          43160.93,
          41557.9,
          41733.94,
          41911.6,
          41821.26,
          42735.85,
          43949.1,
          42591.57,
          43099.7,
          43177.4,
          43113.88,
          42250.55,
          42375.63,
          41744.33,
          40680.42,
          36457.32,
          35030.25,
          36276.8,
          36654.33,
          36954,
          36852.12,
          37138.23,
          37784.33,
          38138.18,
          37917.6,
          38483.13,
          38743.27,
          36952.98,
          37154.6,
          41500.88,
          41441.16,
          42412.43,
          43840.29,
          44118.45,
          44338.8,
          43565.11,
          42407.94,
          42244.47,
          42197.52,
          42586.92,
          43961.86,
          40538.01,
          40030.98,
          40122.15,
          38431.38,
          37075.28,
          38286.03,
          37296.57,
          38332.61,
          39214.22,
          39105.15,
          37709.78,
          43193.23,
          44354.64,
          43924.12,
          42451.79,
          39137.6,
          39400.58,
          38419.98,
          38062.04,
          38737.27,
          41982.93,
          39437.46,
          38794.97,
          38904.01,
          37849.66,
          39666.76,
          39338.79,
          41143.93,
          40951.38,
          41801.15,
          42190.65,
          41247.82,
          41078,
          42358.81,
          42892.96,
          43960.93,
          44348.73,
          44500.83,
          46820.49,
          47128.01,
          47465.73,
          47062.66,
          45538.68
         ]
        }
       ],
       "layout": {
        "showlegend": false,
        "template": {
         "data": {
          "bar": [
           {
            "error_x": {
             "color": "#2a3f5f"
            },
            "error_y": {
             "color": "#2a3f5f"
            },
            "marker": {
             "line": {
              "color": "#E5ECF6",
              "width": 0.5
             },
             "pattern": {
              "fillmode": "overlay",
              "size": 10,
              "solidity": 0.2
             }
            },
            "type": "bar"
           }
          ],
          "barpolar": [
           {
            "marker": {
             "line": {
              "color": "#E5ECF6",
              "width": 0.5
             },
             "pattern": {
              "fillmode": "overlay",
              "size": 10,
              "solidity": 0.2
             }
            },
            "type": "barpolar"
           }
          ],
          "carpet": [
           {
            "aaxis": {
             "endlinecolor": "#2a3f5f",
             "gridcolor": "white",
             "linecolor": "white",
             "minorgridcolor": "white",
             "startlinecolor": "#2a3f5f"
            },
            "baxis": {
             "endlinecolor": "#2a3f5f",
             "gridcolor": "white",
             "linecolor": "white",
             "minorgridcolor": "white",
             "startlinecolor": "#2a3f5f"
            },
            "type": "carpet"
           }
          ],
          "choropleth": [
           {
            "colorbar": {
             "outlinewidth": 0,
             "ticks": ""
            },
            "type": "choropleth"
           }
          ],
          "contour": [
           {
            "colorbar": {
             "outlinewidth": 0,
             "ticks": ""
            },
            "colorscale": [
             [
              0,
              "#0d0887"
             ],
             [
              0.1111111111111111,
              "#46039f"
             ],
             [
              0.2222222222222222,
              "#7201a8"
             ],
             [
              0.3333333333333333,
              "#9c179e"
             ],
             [
              0.4444444444444444,
              "#bd3786"
             ],
             [
              0.5555555555555556,
              "#d8576b"
             ],
             [
              0.6666666666666666,
              "#ed7953"
             ],
             [
              0.7777777777777778,
              "#fb9f3a"
             ],
             [
              0.8888888888888888,
              "#fdca26"
             ],
             [
              1,
              "#f0f921"
             ]
            ],
            "type": "contour"
           }
          ],
          "contourcarpet": [
           {
            "colorbar": {
             "outlinewidth": 0,
             "ticks": ""
            },
            "type": "contourcarpet"
           }
          ],
          "heatmap": [
           {
            "colorbar": {
             "outlinewidth": 0,
             "ticks": ""
            },
            "colorscale": [
             [
              0,
              "#0d0887"
             ],
             [
              0.1111111111111111,
              "#46039f"
             ],
             [
              0.2222222222222222,
              "#7201a8"
             ],
             [
              0.3333333333333333,
              "#9c179e"
             ],
             [
              0.4444444444444444,
              "#bd3786"
             ],
             [
              0.5555555555555556,
              "#d8576b"
             ],
             [
              0.6666666666666666,
              "#ed7953"
             ],
             [
              0.7777777777777778,
              "#fb9f3a"
             ],
             [
              0.8888888888888888,
              "#fdca26"
             ],
             [
              1,
              "#f0f921"
             ]
            ],
            "type": "heatmap"
           }
          ],
          "heatmapgl": [
           {
            "colorbar": {
             "outlinewidth": 0,
             "ticks": ""
            },
            "colorscale": [
             [
              0,
              "#0d0887"
             ],
             [
              0.1111111111111111,
              "#46039f"
             ],
             [
              0.2222222222222222,
              "#7201a8"
             ],
             [
              0.3333333333333333,
              "#9c179e"
             ],
             [
              0.4444444444444444,
              "#bd3786"
             ],
             [
              0.5555555555555556,
              "#d8576b"
             ],
             [
              0.6666666666666666,
              "#ed7953"
             ],
             [
              0.7777777777777778,
              "#fb9f3a"
             ],
             [
              0.8888888888888888,
              "#fdca26"
             ],
             [
              1,
              "#f0f921"
             ]
            ],
            "type": "heatmapgl"
           }
          ],
          "histogram": [
           {
            "marker": {
             "pattern": {
              "fillmode": "overlay",
              "size": 10,
              "solidity": 0.2
             }
            },
            "type": "histogram"
           }
          ],
          "histogram2d": [
           {
            "colorbar": {
             "outlinewidth": 0,
             "ticks": ""
            },
            "colorscale": [
             [
              0,
              "#0d0887"
             ],
             [
              0.1111111111111111,
              "#46039f"
             ],
             [
              0.2222222222222222,
              "#7201a8"
             ],
             [
              0.3333333333333333,
              "#9c179e"
             ],
             [
              0.4444444444444444,
              "#bd3786"
             ],
             [
              0.5555555555555556,
              "#d8576b"
             ],
             [
              0.6666666666666666,
              "#ed7953"
             ],
             [
              0.7777777777777778,
              "#fb9f3a"
             ],
             [
              0.8888888888888888,
              "#fdca26"
             ],
             [
              1,
              "#f0f921"
             ]
            ],
            "type": "histogram2d"
           }
          ],
          "histogram2dcontour": [
           {
            "colorbar": {
             "outlinewidth": 0,
             "ticks": ""
            },
            "colorscale": [
             [
              0,
              "#0d0887"
             ],
             [
              0.1111111111111111,
              "#46039f"
             ],
             [
              0.2222222222222222,
              "#7201a8"
             ],
             [
              0.3333333333333333,
              "#9c179e"
             ],
             [
              0.4444444444444444,
              "#bd3786"
             ],
             [
              0.5555555555555556,
              "#d8576b"
             ],
             [
              0.6666666666666666,
              "#ed7953"
             ],
             [
              0.7777777777777778,
              "#fb9f3a"
             ],
             [
              0.8888888888888888,
              "#fdca26"
             ],
             [
              1,
              "#f0f921"
             ]
            ],
            "type": "histogram2dcontour"
           }
          ],
          "mesh3d": [
           {
            "colorbar": {
             "outlinewidth": 0,
             "ticks": ""
            },
            "type": "mesh3d"
           }
          ],
          "parcoords": [
           {
            "line": {
             "colorbar": {
              "outlinewidth": 0,
              "ticks": ""
             }
            },
            "type": "parcoords"
           }
          ],
          "pie": [
           {
            "automargin": true,
            "type": "pie"
           }
          ],
          "scatter": [
           {
            "fillpattern": {
             "fillmode": "overlay",
             "size": 10,
             "solidity": 0.2
            },
            "type": "scatter"
           }
          ],
          "scatter3d": [
           {
            "line": {
             "colorbar": {
              "outlinewidth": 0,
              "ticks": ""
             }
            },
            "marker": {
             "colorbar": {
              "outlinewidth": 0,
              "ticks": ""
             }
            },
            "type": "scatter3d"
           }
          ],
          "scattercarpet": [
           {
            "marker": {
             "colorbar": {
              "outlinewidth": 0,
              "ticks": ""
             }
            },
            "type": "scattercarpet"
           }
          ],
          "scattergeo": [
           {
            "marker": {
             "colorbar": {
              "outlinewidth": 0,
              "ticks": ""
             }
            },
            "type": "scattergeo"
           }
          ],
          "scattergl": [
           {
            "marker": {
             "colorbar": {
              "outlinewidth": 0,
              "ticks": ""
             }
            },
            "type": "scattergl"
           }
          ],
          "scattermapbox": [
           {
            "marker": {
             "colorbar": {
              "outlinewidth": 0,
              "ticks": ""
             }
            },
            "type": "scattermapbox"
           }
          ],
          "scatterpolar": [
           {
            "marker": {
             "colorbar": {
              "outlinewidth": 0,
              "ticks": ""
             }
            },
            "type": "scatterpolar"
           }
          ],
          "scatterpolargl": [
           {
            "marker": {
             "colorbar": {
              "outlinewidth": 0,
              "ticks": ""
             }
            },
            "type": "scatterpolargl"
           }
          ],
          "scatterternary": [
           {
            "marker": {
             "colorbar": {
              "outlinewidth": 0,
              "ticks": ""
             }
            },
            "type": "scatterternary"
           }
          ],
          "surface": [
           {
            "colorbar": {
             "outlinewidth": 0,
             "ticks": ""
            },
            "colorscale": [
             [
              0,
              "#0d0887"
             ],
             [
              0.1111111111111111,
              "#46039f"
             ],
             [
              0.2222222222222222,
              "#7201a8"
             ],
             [
              0.3333333333333333,
              "#9c179e"
             ],
             [
              0.4444444444444444,
              "#bd3786"
             ],
             [
              0.5555555555555556,
              "#d8576b"
             ],
             [
              0.6666666666666666,
              "#ed7953"
             ],
             [
              0.7777777777777778,
              "#fb9f3a"
             ],
             [
              0.8888888888888888,
              "#fdca26"
             ],
             [
              1,
              "#f0f921"
             ]
            ],
            "type": "surface"
           }
          ],
          "table": [
           {
            "cells": {
             "fill": {
              "color": "#EBF0F8"
             },
             "line": {
              "color": "white"
             }
            },
            "header": {
             "fill": {
              "color": "#C8D4E3"
             },
             "line": {
              "color": "white"
             }
            },
            "type": "table"
           }
          ]
         },
         "layout": {
          "annotationdefaults": {
           "arrowcolor": "#2a3f5f",
           "arrowhead": 0,
           "arrowwidth": 1
          },
          "autotypenumbers": "strict",
          "coloraxis": {
           "colorbar": {
            "outlinewidth": 0,
            "ticks": ""
           }
          },
          "colorscale": {
           "diverging": [
            [
             0,
             "#8e0152"
            ],
            [
             0.1,
             "#c51b7d"
            ],
            [
             0.2,
             "#de77ae"
            ],
            [
             0.3,
             "#f1b6da"
            ],
            [
             0.4,
             "#fde0ef"
            ],
            [
             0.5,
             "#f7f7f7"
            ],
            [
             0.6,
             "#e6f5d0"
            ],
            [
             0.7,
             "#b8e186"
            ],
            [
             0.8,
             "#7fbc41"
            ],
            [
             0.9,
             "#4d9221"
            ],
            [
             1,
             "#276419"
            ]
           ],
           "sequential": [
            [
             0,
             "#0d0887"
            ],
            [
             0.1111111111111111,
             "#46039f"
            ],
            [
             0.2222222222222222,
             "#7201a8"
            ],
            [
             0.3333333333333333,
             "#9c179e"
            ],
            [
             0.4444444444444444,
             "#bd3786"
            ],
            [
             0.5555555555555556,
             "#d8576b"
            ],
            [
             0.6666666666666666,
             "#ed7953"
            ],
            [
             0.7777777777777778,
             "#fb9f3a"
            ],
            [
             0.8888888888888888,
             "#fdca26"
            ],
            [
             1,
             "#f0f921"
            ]
           ],
           "sequentialminus": [
            [
             0,
             "#0d0887"
            ],
            [
             0.1111111111111111,
             "#46039f"
            ],
            [
             0.2222222222222222,
             "#7201a8"
            ],
            [
             0.3333333333333333,
             "#9c179e"
            ],
            [
             0.4444444444444444,
             "#bd3786"
            ],
            [
             0.5555555555555556,
             "#d8576b"
            ],
            [
             0.6666666666666666,
             "#ed7953"
            ],
            [
             0.7777777777777778,
             "#fb9f3a"
            ],
            [
             0.8888888888888888,
             "#fdca26"
            ],
            [
             1,
             "#f0f921"
            ]
           ]
          },
          "colorway": [
           "#636efa",
           "#EF553B",
           "#00cc96",
           "#ab63fa",
           "#FFA15A",
           "#19d3f3",
           "#FF6692",
           "#B6E880",
           "#FF97FF",
           "#FECB52"
          ],
          "font": {
           "color": "#2a3f5f"
          },
          "geo": {
           "bgcolor": "white",
           "lakecolor": "white",
           "landcolor": "#E5ECF6",
           "showlakes": true,
           "showland": true,
           "subunitcolor": "white"
          },
          "hoverlabel": {
           "align": "left"
          },
          "hovermode": "closest",
          "mapbox": {
           "style": "light"
          },
          "paper_bgcolor": "white",
          "plot_bgcolor": "#E5ECF6",
          "polar": {
           "angularaxis": {
            "gridcolor": "white",
            "linecolor": "white",
            "ticks": ""
           },
           "bgcolor": "#E5ECF6",
           "radialaxis": {
            "gridcolor": "white",
            "linecolor": "white",
            "ticks": ""
           }
          },
          "scene": {
           "xaxis": {
            "backgroundcolor": "#E5ECF6",
            "gridcolor": "white",
            "gridwidth": 2,
            "linecolor": "white",
            "showbackground": true,
            "ticks": "",
            "zerolinecolor": "white"
           },
           "yaxis": {
            "backgroundcolor": "#E5ECF6",
            "gridcolor": "white",
            "gridwidth": 2,
            "linecolor": "white",
            "showbackground": true,
            "ticks": "",
            "zerolinecolor": "white"
           },
           "zaxis": {
            "backgroundcolor": "#E5ECF6",
            "gridcolor": "white",
            "gridwidth": 2,
            "linecolor": "white",
            "showbackground": true,
            "ticks": "",
            "zerolinecolor": "white"
           }
          },
          "shapedefaults": {
           "line": {
            "color": "#2a3f5f"
           }
          },
          "ternary": {
           "aaxis": {
            "gridcolor": "white",
            "linecolor": "white",
            "ticks": ""
           },
           "baxis": {
            "gridcolor": "white",
            "linecolor": "white",
            "ticks": ""
           },
           "bgcolor": "#E5ECF6",
           "caxis": {
            "gridcolor": "white",
            "linecolor": "white",
            "ticks": ""
           }
          },
          "title": {
           "x": 0.05
          },
          "xaxis": {
           "automargin": true,
           "gridcolor": "white",
           "linecolor": "white",
           "ticks": "",
           "title": {
            "standoff": 15
           },
           "zerolinecolor": "white",
           "zerolinewidth": 2
          },
          "yaxis": {
           "automargin": true,
           "gridcolor": "white",
           "linecolor": "white",
           "ticks": "",
           "title": {
            "standoff": 15
           },
           "zerolinecolor": "white",
           "zerolinewidth": 2
          }
         }
        },
        "updatemenus": [
         {
          "buttons": [
           {
            "args": [
             {
              "title": [
               "Predication",
               "Real price"
              ],
              "type": "scatter",
              "x": [
               [
                "2021-11-19T00:00:00",
                "2021-11-20T00:00:00",
                "2021-11-21T00:00:00",
                "2021-11-22T00:00:00",
                "2021-11-23T00:00:00",
                "2021-11-24T00:00:00",
                "2021-11-30T00:00:00",
                "2021-12-01T00:00:00",
                "2021-12-02T00:00:00",
                "2021-12-03T00:00:00",
                "2021-12-04T00:00:00",
                "2021-12-05T00:00:00",
                "2021-12-06T00:00:00",
                "2021-12-07T00:00:00",
                "2021-12-08T00:00:00",
                "2021-12-09T00:00:00",
                "2021-12-10T00:00:00",
                "2021-12-11T00:00:00",
                "2021-12-12T00:00:00",
                "2021-12-13T00:00:00",
                "2021-12-14T00:00:00",
                "2021-12-15T00:00:00",
                "2021-12-16T00:00:00",
                "2021-12-17T00:00:00",
                "2021-12-18T00:00:00",
                "2021-12-19T00:00:00",
                "2021-12-20T00:00:00",
                "2021-12-21T00:00:00",
                "2021-12-22T00:00:00",
                "2021-12-22T00:00:00",
                "2021-12-24T00:00:00",
                "2021-12-25T00:00:00",
                "2021-12-26T00:00:00",
                "2021-12-27T00:00:00",
                "2021-12-28T00:00:00",
                "2021-12-29T00:00:00",
                "2021-12-31T00:00:00",
                "2022-01-01T00:00:00",
                "2022-01-02T00:00:00",
                "2022-01-03T00:00:00",
                "2022-01-04T00:00:00",
                "2022-01-05T00:00:00",
                "2022-01-06T00:00:00",
                "2022-01-07T00:00:00",
                "2022-01-08T00:00:00",
                "2022-01-09T00:00:00",
                "2022-01-10T00:00:00",
                "2022-01-11T00:00:00",
                "2022-01-12T00:00:00",
                "2022-01-13T00:00:00",
                "2022-01-14T00:00:00",
                "2022-01-15T00:00:00",
                "2022-01-16T00:00:00",
                "2022-01-17T00:00:00",
                "2022-01-17T00:00:00",
                "2022-01-19T00:00:00",
                "2022-01-20T00:00:00",
                "2022-01-21T00:00:00",
                "2022-01-22T00:00:00",
                "2022-01-23T00:00:00",
                "2022-01-24T00:00:00",
                "2022-01-25T00:00:00",
                "2022-01-26T00:00:00",
                "2022-01-27T00:00:00",
                "2022-01-27T00:00:00",
                "2022-01-29T00:00:00",
                "2022-01-30T00:00:00",
                "2022-01-31T00:00:00",
                "2022-02-01T00:00:00",
                "2022-02-02T00:00:00",
                "2022-02-03T00:00:00",
                "2022-02-04T00:00:00",
                "2022-02-05T00:00:00",
                "2022-02-06T00:00:00",
                "2022-02-07T00:00:00",
                "2022-02-08T00:00:00",
                "2022-02-09T00:00:00",
                "2022-02-10T00:00:00",
                "2022-02-11T00:00:00",
                "2022-02-12T00:00:00",
                "2022-02-13T00:00:00",
                "2022-02-14T00:00:00",
                "2022-02-15T00:00:00",
                "2022-02-16T00:00:00",
                "2022-02-17T00:00:00",
                "2022-02-18T00:00:00",
                "2022-02-19T00:00:00",
                "2022-02-20T00:00:00",
                "2022-02-21T00:00:00",
                "2022-02-22T00:00:00",
                "2022-02-23T00:00:00",
                "2022-02-24T00:00:00",
                "2022-02-25T00:00:00",
                "2022-02-26T00:00:00",
                "2022-02-27T00:00:00",
                "2022-03-06T00:00:00",
                "2022-03-07T00:00:00",
                "2022-03-08T00:00:00",
                "2022-03-09T00:00:00",
                "2022-03-10T00:00:00",
                "2022-03-11T00:00:00",
                "2022-03-12T00:00:00",
                "2022-03-13T00:00:00",
                "2022-03-14T00:00:00",
                "2022-03-15T00:00:00",
                "2022-03-16T00:00:00",
                "2022-03-17T00:00:00",
                "2022-03-18T00:00:00",
                "2022-03-19T00:00:00",
                "2022-03-20T00:00:00",
                "2022-03-21T00:00:00",
                "2022-03-22T00:00:00"
               ],
               [
                "2021-11-01T00:00:00",
                "2021-11-02T00:00:00",
                "2021-11-03T00:00:00",
                "2021-11-04T00:00:00",
                "2021-11-05T00:00:00",
                "2021-11-06T00:00:00",
                "2021-11-07T00:00:00",
                "2021-11-08T00:00:00",
                "2021-11-09T00:00:00",
                "2021-11-10T00:00:00",
                "2021-11-11T00:00:00",
                "2021-11-12T00:00:00",
                "2021-11-13T00:00:00",
                "2021-11-14T00:00:00",
                "2021-11-15T00:00:00",
                "2021-11-16T00:00:00",
                "2021-11-17T00:00:00",
                "2021-11-18T00:00:00",
                "2021-11-19T00:00:00",
                "2021-11-20T00:00:00",
                "2021-11-21T00:00:00",
                "2021-11-22T00:00:00",
                "2021-11-23T00:00:00",
                "2021-11-24T00:00:00",
                "2021-11-25T00:00:00",
                "2021-11-26T00:00:00",
                "2021-11-27T00:00:00",
                "2021-11-28T00:00:00",
                "2021-11-29T00:00:00",
                "2021-11-30T00:00:00",
                "2021-12-01T00:00:00",
                "2021-12-02T00:00:00",
                "2021-12-03T00:00:00",
                "2021-12-04T00:00:00",
                "2021-12-05T00:00:00",
                "2021-12-06T00:00:00",
                "2021-12-07T00:00:00",
                "2021-12-08T00:00:00",
                "2021-12-09T00:00:00",
                "2021-12-10T00:00:00",
                "2021-12-11T00:00:00",
                "2021-12-12T00:00:00",
                "2021-12-13T00:00:00",
                "2021-12-14T00:00:00",
                "2021-12-15T00:00:00",
                "2021-12-16T00:00:00",
                "2021-12-17T00:00:00",
                "2021-12-18T00:00:00",
                "2021-12-18T00:00:00",
                "2021-12-19T00:00:00",
                "2021-12-19T00:00:00",
                "2021-12-20T00:00:00",
                "2021-12-20T00:00:00",
                "2021-12-21T00:00:00",
                "2021-12-21T00:00:00",
                "2021-12-22T00:00:00",
                "2021-12-22T00:00:00",
                "2021-12-23T00:00:00",
                "2021-12-24T00:00:00",
                "2021-12-25T00:00:00",
                "2021-12-26T00:00:00",
                "2021-12-27T00:00:00",
                "2021-12-28T00:00:00",
                "2021-12-29T00:00:00",
                "2021-12-30T00:00:00",
                "2021-12-31T00:00:00",
                "2022-01-01T00:00:00",
                "2022-01-02T00:00:00",
                "2022-01-03T00:00:00",
                "2022-01-04T00:00:00",
                "2022-01-05T00:00:00",
                "2022-01-06T00:00:00",
                "2022-01-07T00:00:00",
                "2022-01-08T00:00:00",
                "2022-01-09T00:00:00",
                "2022-01-10T00:00:00",
                "2022-01-11T00:00:00",
                "2022-01-12T00:00:00",
                "2022-01-13T00:00:00",
                "2022-01-14T00:00:00",
                "2022-01-15T00:00:00",
                "2022-01-16T00:00:00",
                "2022-01-17T00:00:00",
                "2022-01-18T00:00:00",
                "2022-01-19T00:00:00",
                "2022-01-20T00:00:00",
                "2022-01-21T00:00:00",
                "2022-01-22T00:00:00",
                "2022-01-23T00:00:00",
                "2022-01-24T00:00:00",
                "2022-01-25T00:00:00",
                "2022-01-26T00:00:00",
                "2022-01-27T00:00:00",
                "2022-01-28T00:00:00",
                "2022-01-29T00:00:00",
                "2022-01-30T00:00:00",
                "2022-01-31T00:00:00",
                "2022-02-01T00:00:00",
                "2022-02-02T00:00:00",
                "2022-02-03T00:00:00",
                "2022-02-04T00:00:00",
                "2022-02-05T00:00:00",
                "2022-02-06T00:00:00",
                "2022-02-07T00:00:00",
                "2022-02-08T00:00:00",
                "2022-02-09T00:00:00",
                "2022-02-10T00:00:00",
                "2022-02-11T00:00:00",
                "2022-02-12T00:00:00",
                "2022-02-13T00:00:00",
                "2022-02-14T00:00:00",
                "2022-02-16T00:00:00",
                "2022-02-17T00:00:00",
                "2022-02-18T00:00:00",
                "2022-02-19T00:00:00",
                "2022-02-20T00:00:00",
                "2022-02-21T00:00:00",
                "2022-02-22T00:00:00",
                "2022-02-23T00:00:00",
                "2022-02-24T00:00:00",
                "2022-02-25T00:00:00",
                "2022-02-26T00:00:00",
                "2022-02-27T00:00:00",
                "2022-02-28T00:00:00",
                "2022-03-01T00:00:00",
                "2022-03-02T00:00:00",
                "2022-03-03T00:00:00",
                "2022-03-04T00:00:00",
                "2022-03-05T00:00:00",
                "2022-03-06T00:00:00",
                "2022-03-07T00:00:00",
                "2022-03-08T00:00:00",
                "2022-03-09T00:00:00",
                "2022-03-10T00:00:00",
                "2022-03-11T00:00:00",
                "2022-03-12T00:00:00",
                "2022-03-13T00:00:00",
                "2022-03-14T00:00:00",
                "2022-03-15T00:00:00",
                "2022-03-16T00:00:00",
                "2022-03-17T00:00:00",
                "2022-03-18T00:00:00",
                "2022-03-19T00:00:00",
                "2022-03-20T00:00:00",
                "2022-03-21T00:00:00",
                "2022-03-22T00:00:00",
                "2022-03-23T00:00:00",
                "2022-03-24T00:00:00",
                "2022-03-25T00:00:00",
                "2022-03-26T00:00:00",
                "2022-03-27T00:00:00",
                "2022-03-28T00:00:00",
                "2022-03-29T00:00:00",
                "2022-03-30T00:00:00",
                "2022-03-31T00:00:00"
               ]
              ],
              "y": [
               [
                60510.61,
                60511.61,
                60520.88,
                60490.05,
                60429.59,
                60386.38,
                60235.23,
                60129.57,
                60110.88,
                60046.45,
                59929.6,
                59734.43,
                59680.05,
                59570.67,
                59361.26,
                59149.52,
                57661.04791466951,
                59819.25548979052,
                59133.76529466962,
                58969.97120840129,
                59311.79499957117,
                57351.486921224365,
                60656.27170124512,
                60637.01233040125,
                58115.75867409253,
                60017.70002177462,
                57645.46,
                57115.55,
                56952.53,
                56952.53,
                57467.62340392929,
                54820.620940115376,
                57999.53996421357,
                58116.479288717215,
                56773.94,
                56496.41,
                56155.33,
                56015.7,
                55802.43,
                55564.75,
                55297.97,
                54840.77,
                54664.42,
                54482.73,
                53492.76942390634,
                56409.48647238161,
                54311.95,
                54208.27,
                54038.4,
                54000,
                53837.49,
                54987.80016815829,
                53696.73,
                52115.8980618307,
                53574.16,
                53399.69,
                53310.18,
                53470.07347619284,
                53031.81,
                52916.98,
                52787.8,
                52617.96,
                52500,
                54196.61402568532,
                52362.14,
                52098.07,
                49988.09186623101,
                52000,
                51773.3,
                52224.18685914033,
                50152.2105971224,
                49633.86579437773,
                49721.80304848105,
                50411.72577889659,
                52603.94090489661,
                50603.93592700215,
                49622.97599211039,
                52088.17812465473,
                53879.04621765664,
                50353.71195166939,
                50163.05727907556,
                52519.80490635881,
                52416.55675822392,
                52640.329716467095,
                49741.18848814997,
                52681.22433436646,
                49762.32508679301,
                49957.73515052124,
                53727.32941322561,
                51488.82621629057,
                52008.47967213492,
                49274.97931762573,
                52185.66326422792,
                53131.57656452613,
                49110.96,
                48000,
                46440.473807022965,
                45861.25430902028,
                48147.97676295459,
                48962.12401549512,
                48432.89242770572,
                50310.17292021955,
                48248.92015125781,
                46685.54850489543,
                48232.42836115492,
                50260.57145303068,
                49756.8795411132,
                49142.680117809,
                46566.64437988678,
                46234.19837345775,
                48238.06404883945,
                48022.24
               ],
               [
                61004.41,
                63226.4,
                62970.05,
                61452.23,
                61125.67,
                61527.48,
                63326.99,
                67566.83,
                66971.83,
                64995.23,
                64949.96,
                64155.94,
                64469.53,
                65466.84,
                63557.87,
                60161.25,
                60368.01,
                56942.14,
                58119.58,
                59697.2,
                58730.48,
                56289.29,
                57569.07,
                57206.37,
                58927.89,
                53569.76,
                54815.08,
                57248.46,
                57806.57,
                57005.43,
                57229.83,
                56477.82,
                53598.25,
                49200.7,
                49368.85,
                50582.63,
                50700.08,
                50504.8,
                47672.12,
                47243.31,
                49362.51,
                50098.34,
                46737.48,
                48383.87,
                48896.72,
                47665.43,
                46202.14,
                46848.78,
                46848.78,
                46707.01,
                46707.01,
                46880.28,
                46880.28,
                48936.61,
                48936.61,
                48628.51,
                48628.51,
                50784.54,
                50822.2,
                50429.86,
                50809.52,
                50640.42,
                47588.85,
                46444.71,
                47178.13,
                46306.45,
                47686.81,
                47345.22,
                46458.12,
                45897.58,
                43569,
                43160.93,
                41557.9,
                41733.94,
                41911.6,
                41821.26,
                42735.85,
                43949.1,
                42591.57,
                43099.7,
                43177.4,
                43113.88,
                42250.55,
                42375.63,
                41744.33,
                40680.42,
                36457.32,
                35030.25,
                36276.8,
                36654.33,
                36954,
                36852.12,
                37138.23,
                37784.33,
                38138.18,
                37917.6,
                38483.13,
                38743.27,
                36952.98,
                37154.6,
                41500.88,
                41441.16,
                42412.43,
                43840.29,
                44118.45,
                44338.8,
                43565.11,
                42407.94,
                42244.47,
                42197.52,
                42586.92,
                43961.86,
                40538.01,
                40030.98,
                40122.15,
                38431.38,
                37075.28,
                38286.03,
                37296.57,
                38332.61,
                39214.22,
                39105.15,
                37709.78,
                43193.23,
                44354.64,
                43924.12,
                42451.79,
                39137.6,
                39400.58,
                38419.98,
                38062.04,
                38737.27,
                41982.93,
                39437.46,
                38794.97,
                38904.01,
                37849.66,
                39666.76,
                39338.79,
                41143.93,
                40951.38,
                41801.15,
                42190.65,
                41247.82,
                41078,
                42358.81,
                42892.96,
                43960.93,
                44348.73,
                44500.83,
                46820.49,
                47128.01,
                47465.73,
                47062.66,
                45538.68
               ]
              ]
             }
            ],
            "label": "BTC",
            "method": "restyle",
            "visible": true
           },
           {
            "args": [
             {
              "title": [
               "Predication",
               "Real price"
              ],
              "type": "scatter",
              "x": [
               [
                "2021-11-19T00:00:00",
                "2021-11-20T00:00:00",
                "2021-11-21T00:00:00",
                "2021-11-22T00:00:00",
                "2021-11-23T00:00:00",
                "2021-11-24T00:00:00",
                "2021-11-26T00:00:00",
                "2021-11-27T00:00:00",
                "2021-11-28T00:00:00",
                "2021-11-29T00:00:00",
                "2021-11-30T00:00:00",
                "2021-12-01T00:00:00",
                "2021-12-02T00:00:00",
                "2021-12-03T00:00:00",
                "2021-12-04T00:00:00",
                "2021-12-05T00:00:00",
                "2021-12-06T00:00:00",
                "2021-12-07T00:00:00",
                "2021-12-08T00:00:00",
                "2021-12-09T00:00:00",
                "2021-12-10T00:00:00",
                "2021-12-11T00:00:00",
                "2021-12-12T00:00:00",
                "2021-12-13T00:00:00",
                "2021-12-14T00:00:00",
                "2021-12-15T00:00:00",
                "2021-12-16T00:00:00",
                "2021-12-17T00:00:00",
                "2021-12-18T00:00:00",
                "2021-12-19T00:00:00",
                "2021-12-20T00:00:00",
                "2021-12-21T00:00:00",
                "2021-12-22T00:00:00",
                "2021-12-22T00:00:00",
                "2021-12-24T00:00:00",
                "2021-12-25T00:00:00",
                "2021-12-26T00:00:00",
                "2021-12-27T00:00:00",
                "2021-12-28T00:00:00",
                "2021-12-29T00:00:00",
                "2021-12-31T00:00:00",
                "2022-01-01T00:00:00",
                "2022-01-02T00:00:00",
                "2022-01-03T00:00:00",
                "2022-01-04T00:00:00",
                "2022-01-05T00:00:00",
                "2022-01-06T00:00:00",
                "2022-01-07T00:00:00",
                "2022-01-08T00:00:00",
                "2022-01-09T00:00:00",
                "2022-01-10T00:00:00",
                "2022-01-11T00:00:00",
                "2022-01-12T00:00:00",
                "2022-01-13T00:00:00",
                "2022-01-14T00:00:00",
                "2022-01-15T00:00:00",
                "2022-01-16T00:00:00",
                "2022-01-17T00:00:00",
                "2022-01-17T00:00:00",
                "2022-01-19T00:00:00",
                "2022-01-20T00:00:00",
                "2022-01-21T00:00:00",
                "2022-01-22T00:00:00",
                "2022-01-23T00:00:00",
                "2022-01-24T00:00:00",
                "2022-01-25T00:00:00",
                "2022-01-26T00:00:00",
                "2022-01-27T00:00:00",
                "2022-01-27T00:00:00",
                "2022-01-29T00:00:00",
                "2022-01-30T00:00:00",
                "2022-01-31T00:00:00",
                "2022-02-01T00:00:00",
                "2022-02-02T00:00:00",
                "2022-02-03T00:00:00",
                "2022-02-04T00:00:00",
                "2022-02-05T00:00:00",
                "2022-02-06T00:00:00",
                "2022-02-07T00:00:00",
                "2022-02-08T00:00:00",
                "2022-02-09T00:00:00",
                "2022-02-10T00:00:00",
                "2022-02-11T00:00:00",
                "2022-02-12T00:00:00",
                "2022-02-13T00:00:00",
                "2022-02-14T00:00:00",
                "2022-02-15T00:00:00",
                "2022-02-16T00:00:00",
                "2022-02-17T00:00:00",
                "2022-02-18T00:00:00",
                "2022-02-19T00:00:00",
                "2022-02-20T00:00:00",
                "2022-02-21T00:00:00",
                "2022-02-22T00:00:00",
                "2022-02-23T00:00:00",
                "2022-02-24T00:00:00",
                "2022-02-25T00:00:00",
                "2022-02-26T00:00:00",
                "2022-02-27T00:00:00",
                "2022-03-06T00:00:00",
                "2022-03-07T00:00:00",
                "2022-03-08T00:00:00",
                "2022-03-09T00:00:00",
                "2022-03-10T00:00:00",
                "2022-03-11T00:00:00",
                "2022-03-12T00:00:00",
                "2022-03-13T00:00:00",
                "2022-03-14T00:00:00",
                "2022-03-15T00:00:00",
                "2022-03-16T00:00:00",
                "2022-03-17T00:00:00",
                "2022-03-18T00:00:00",
                "2022-03-19T00:00:00",
                "2022-03-20T00:00:00",
                "2022-03-21T00:00:00",
                "2022-03-22T00:00:00"
               ],
               [
                "2021-11-01T00:00:00",
                "2021-11-02T00:00:00",
                "2021-11-03T00:00:00",
                "2021-11-04T00:00:00",
                "2021-11-05T00:00:00",
                "2021-11-06T00:00:00",
                "2021-11-07T00:00:00",
                "2021-11-08T00:00:00",
                "2021-11-09T00:00:00",
                "2021-11-10T00:00:00",
                "2021-11-11T00:00:00",
                "2021-11-12T00:00:00",
                "2021-11-13T00:00:00",
                "2021-11-14T00:00:00",
                "2021-11-15T00:00:00",
                "2021-11-16T00:00:00",
                "2021-11-17T00:00:00",
                "2021-11-18T00:00:00",
                "2021-11-19T00:00:00",
                "2021-11-20T00:00:00",
                "2021-11-21T00:00:00",
                "2021-11-22T00:00:00",
                "2021-11-23T00:00:00",
                "2021-11-24T00:00:00",
                "2021-11-25T00:00:00",
                "2021-11-26T00:00:00",
                "2021-11-27T00:00:00",
                "2021-11-28T00:00:00",
                "2021-11-29T00:00:00",
                "2021-11-30T00:00:00",
                "2021-12-01T00:00:00",
                "2021-12-02T00:00:00",
                "2021-12-03T00:00:00",
                "2021-12-04T00:00:00",
                "2021-12-05T00:00:00",
                "2021-12-06T00:00:00",
                "2021-12-07T00:00:00",
                "2021-12-08T00:00:00",
                "2021-12-09T00:00:00",
                "2021-12-10T00:00:00",
                "2021-12-11T00:00:00",
                "2021-12-12T00:00:00",
                "2021-12-13T00:00:00",
                "2021-12-14T00:00:00",
                "2021-12-15T00:00:00",
                "2021-12-16T00:00:00",
                "2021-12-17T00:00:00",
                "2021-12-18T00:00:00",
                "2021-12-18T00:00:00",
                "2021-12-19T00:00:00",
                "2021-12-19T00:00:00",
                "2021-12-20T00:00:00",
                "2021-12-20T00:00:00",
                "2021-12-21T00:00:00",
                "2021-12-21T00:00:00",
                "2021-12-22T00:00:00",
                "2021-12-22T00:00:00",
                "2021-12-23T00:00:00",
                "2021-12-24T00:00:00",
                "2021-12-25T00:00:00",
                "2021-12-26T00:00:00",
                "2021-12-27T00:00:00",
                "2021-12-28T00:00:00",
                "2021-12-29T00:00:00",
                "2021-12-30T00:00:00",
                "2021-12-31T00:00:00",
                "2022-01-01T00:00:00",
                "2022-01-02T00:00:00",
                "2022-01-03T00:00:00",
                "2022-01-04T00:00:00",
                "2022-01-05T00:00:00",
                "2022-01-06T00:00:00",
                "2022-01-07T00:00:00",
                "2022-01-08T00:00:00",
                "2022-01-09T00:00:00",
                "2022-01-10T00:00:00",
                "2022-01-11T00:00:00",
                "2022-01-12T00:00:00",
                "2022-01-13T00:00:00",
                "2022-01-14T00:00:00",
                "2022-01-15T00:00:00",
                "2022-01-16T00:00:00",
                "2022-01-17T00:00:00",
                "2022-01-18T00:00:00",
                "2022-01-19T00:00:00",
                "2022-01-20T00:00:00",
                "2022-01-21T00:00:00",
                "2022-01-22T00:00:00",
                "2022-01-23T00:00:00",
                "2022-01-24T00:00:00",
                "2022-01-25T00:00:00",
                "2022-01-26T00:00:00",
                "2022-01-27T00:00:00",
                "2022-01-28T00:00:00",
                "2022-01-29T00:00:00",
                "2022-01-30T00:00:00",
                "2022-01-31T00:00:00",
                "2022-02-01T00:00:00",
                "2022-02-02T00:00:00",
                "2022-02-03T00:00:00",
                "2022-02-04T00:00:00",
                "2022-02-05T00:00:00",
                "2022-02-06T00:00:00",
                "2022-02-07T00:00:00",
                "2022-02-08T00:00:00",
                "2022-02-09T00:00:00",
                "2022-02-10T00:00:00",
                "2022-02-11T00:00:00",
                "2022-02-12T00:00:00",
                "2022-02-13T00:00:00",
                "2022-02-14T00:00:00",
                "2022-02-16T00:00:00",
                "2022-02-17T00:00:00",
                "2022-02-18T00:00:00",
                "2022-02-19T00:00:00",
                "2022-02-20T00:00:00",
                "2022-02-21T00:00:00",
                "2022-02-22T00:00:00",
                "2022-02-23T00:00:00",
                "2022-02-24T00:00:00",
                "2022-02-25T00:00:00",
                "2022-02-26T00:00:00",
                "2022-02-27T00:00:00",
                "2022-02-28T00:00:00",
                "2022-03-01T00:00:00",
                "2022-03-02T00:00:00",
                "2022-03-03T00:00:00",
                "2022-03-04T00:00:00",
                "2022-03-05T00:00:00",
                "2022-03-06T00:00:00",
                "2022-03-07T00:00:00",
                "2022-03-08T00:00:00",
                "2022-03-09T00:00:00",
                "2022-03-10T00:00:00",
                "2022-03-11T00:00:00",
                "2022-03-12T00:00:00",
                "2022-03-13T00:00:00",
                "2022-03-14T00:00:00",
                "2022-03-15T00:00:00",
                "2022-03-16T00:00:00",
                "2022-03-17T00:00:00",
                "2022-03-18T00:00:00",
                "2022-03-19T00:00:00",
                "2022-03-20T00:00:00",
                "2022-03-21T00:00:00",
                "2022-03-22T00:00:00",
                "2022-03-23T00:00:00",
                "2022-03-24T00:00:00",
                "2022-03-25T00:00:00",
                "2022-03-26T00:00:00",
                "2022-03-27T00:00:00",
                "2022-03-28T00:00:00",
                "2022-03-29T00:00:00",
                "2022-03-30T00:00:00",
                "2022-03-31T00:00:00"
               ]
              ],
              "y": [
               [
                3977.51,
                3991.23,
                4000,
                4006.3,
                4014.33,
                4031.8,
                4068.57,
                4073.53,
                4079.3,
                4100.65,
                4104.81,
                4114.68,
                4125.21,
                4130.59,
                4138.87,
                4149.18,
                4152.82,
                4163.59,
                4171.1,
                4171.71,
                4041.784216545401,
                4319.234771520648,
                4079.7023081576194,
                4095.9390901642832,
                4343.388964687515,
                4277.023667209578,
                4157.637395618057,
                4273.785270654962,
                4316.744782151585,
                4302.565582463596,
                4160,
                4164,
                4159.26,
                4159.26,
                4197.097742765914,
                4037.371300199926,
                4194.550587976735,
                4278.1817489595005,
                4161.37,
                4158.59,
                4150.73,
                4146.18,
                4141.43,
                4137.54,
                4134.94,
                4122.06,
                4116.98,
                4111.65,
                4104.59124035582,
                4048.676831019395,
                4106.53,
                4102.8,
                4096.67,
                4094.38,
                4085.2,
                3974.37735667239,
                4080.29,
                4047.434444329681,
                4076.97,
                4069.21,
                4064.9,
                4082.185985330169,
                4054.38,
                4048.22,
                4042.78,
                4031.84,
                4022.69,
                3827.188085542437,
                4013.88,
                4001.11,
                4099.288335418918,
                4000,
                3990,
                4140.816432947148,
                3800.001714159324,
                4050.179601376088,
                3977.030174587836,
                3981.360986334724,
                3905.0316161973706,
                4128.301971395777,
                4173.526749912257,
                3825.569776311247,
                3914.938838087365,
                3988.428328609214,
                4048.5914723212672,
                4076.493522731402,
                3866.0027696282978,
                3853.9975316814657,
                3999.047349694404,
                3848.279838642559,
                4000.157710926693,
                4064.74076489775,
                3857.6290863182776,
                3857.486293375364,
                4056.670443317453,
                4071.422245014841,
                4072.90986443806,
                3845.486969715895,
                3637.64,
                3502.68,
                3551.130304057452,
                3506.403240424894,
                3336.0785535094,
                3539.8079529038623,
                3511.588161324172,
                3426.783888313912,
                3549.5849143286496,
                3432.565815936138,
                3671.952092880051,
                3468.1766703625067,
                3360.099887217076,
                3665.809427666536,
                3640.285641280562,
                3509.948508777509,
                3582.786705147608,
                3539.98
               ],
               [
                4324.63,
                4584.8,
                4607.19,
                4537.32,
                4486.24,
                4521.58,
                4620.55,
                4812.09,
                4735.07,
                4636.17,
                4730.38,
                4667.12,
                4651.46,
                4626.36,
                4557.5,
                4216.37,
                4287.59,
                4000.65,
                4298.31,
                4409.93,
                4269.73,
                4088.46,
                4340.76,
                4276.04,
                4519.46,
                4030.91,
                4096.91,
                4294.45,
                4445.11,
                4631.48,
                4586.99,
                4511.3,
                4220.71,
                4119.59,
                4198.32,
                4358.74,
                4315.06,
                4439.36,
                4119.82,
                3908.5,
                4084.45,
                4134.45,
                3784.23,
                3859.71,
                4018.39,
                3962.47,
                3879.49,
                3960.86,
                3960.86,
                3922.59,
                3922.59,
                3933.84,
                3933.84,
                4020.26,
                4020.26,
                3982.1,
                3982.1,
                4108.02,
                4047.98,
                4093.28,
                4067.33,
                4037.55,
                3800.89,
                3628.53,
                3713.85,
                3682.63,
                3769.7,
                3829.57,
                3761.38,
                3794.06,
                3550.39,
                3418.41,
                3193.21,
                3091.97,
                3157.75,
                3083.1,
                3238.11,
                3372.26,
                3248.29,
                3310,
                3330.53,
                3350.92,
                3212.3,
                3164.03,
                3095.83,
                3001.12,
                2557.93,
                2405.18,
                2535.04,
                2440.35,
                2455.93,
                2468.03,
                2423,
                2547.09,
                2597.08,
                2603.47,
                2688.28,
                2792.12,
                2682.85,
                2679.16,
                2983.59,
                3014.65,
                3057.48,
                3142.47,
                3122.61,
                3239.46,
                3077.48,
                2927.38,
                2917.36,
                2883.46,
                2933.48,
                3127.83,
                2881.48,
                2785.73,
                2763.7,
                2628.65,
                2573.82,
                2639.3,
                2590.36,
                2598.07,
                2764.54,
                2781.11,
                2621.8,
                2919.2,
                2972.49,
                2950.12,
                2834.47,
                2617.16,
                2664.83,
                2555.04,
                2497.77,
                2576.75,
                2729.78,
                2608.05,
                2559.56,
                2574.75,
                2518.94,
                2590.7,
                2620.15,
                2772.06,
                2814.85,
                2945.34,
                2946.26,
                2860.46,
                2897.98,
                2973.13,
                3031.07,
                3108.06,
                3106.67,
                3143.18,
                3291.58,
                3336.63,
                3401.99,
                3385.16,
                3281.64
               ]
              ]
             }
            ],
            "label": "ETH",
            "method": "restyle",
            "visible": true
           },
           {
            "args": [
             {
              "title": [
               "Predication",
               "Real price"
              ],
              "type": "scatter",
              "x": [
               [
                "2021-11-19T00:00:00",
                "2021-11-20T00:00:00",
                "2021-11-21T00:00:00",
                "2021-11-22T00:00:00",
                "2021-11-23T00:00:00",
                "2021-11-24T00:00:00",
                "2021-11-26T00:00:00",
                "2021-11-27T00:00:00",
                "2021-11-28T00:00:00",
                "2021-11-29T00:00:00",
                "2021-11-30T00:00:00",
                "2021-12-01T00:00:00",
                "2021-12-02T00:00:00",
                "2021-12-03T00:00:00",
                "2021-12-04T00:00:00",
                "2021-12-05T00:00:00",
                "2021-12-06T00:00:00",
                "2021-12-07T00:00:00",
                "2021-12-08T00:00:00",
                "2021-12-09T00:00:00",
                "2021-12-10T00:00:00",
                "2021-12-11T00:00:00",
                "2021-12-12T00:00:00",
                "2021-12-13T00:00:00",
                "2021-12-14T00:00:00",
                "2021-12-15T00:00:00",
                "2021-12-16T00:00:00",
                "2021-12-17T00:00:00",
                "2021-12-18T00:00:00",
                "2021-12-19T00:00:00",
                "2021-12-20T00:00:00",
                "2021-12-21T00:00:00",
                "2021-12-22T00:00:00",
                "2021-12-22T00:00:00",
                "2021-12-24T00:00:00",
                "2021-12-25T00:00:00",
                "2021-12-26T00:00:00",
                "2021-12-27T00:00:00",
                "2021-12-28T00:00:00",
                "2021-12-29T00:00:00",
                "2021-12-31T00:00:00",
                "2022-01-01T00:00:00",
                "2022-01-02T00:00:00",
                "2022-01-03T00:00:00",
                "2022-01-04T00:00:00",
                "2022-01-05T00:00:00",
                "2022-01-06T00:00:00",
                "2022-01-07T00:00:00"
               ],
               [
                "2021-11-01T00:00:00",
                "2021-11-02T00:00:00",
                "2021-11-03T00:00:00",
                "2021-11-04T00:00:00",
                "2021-11-05T00:00:00",
                "2021-11-06T00:00:00",
                "2021-11-07T00:00:00",
                "2021-11-08T00:00:00",
                "2021-11-09T00:00:00",
                "2021-11-10T00:00:00",
                "2021-11-11T00:00:00",
                "2021-11-12T00:00:00",
                "2021-11-13T00:00:00",
                "2021-11-14T00:00:00",
                "2021-11-15T00:00:00",
                "2021-11-16T00:00:00",
                "2021-11-17T00:00:00",
                "2021-11-18T00:00:00",
                "2021-11-19T00:00:00",
                "2021-11-20T00:00:00",
                "2021-11-21T00:00:00",
                "2021-11-22T00:00:00",
                "2021-11-23T00:00:00",
                "2021-11-24T00:00:00",
                "2021-11-25T00:00:00",
                "2021-11-26T00:00:00",
                "2021-11-27T00:00:00",
                "2021-11-28T00:00:00",
                "2021-11-29T00:00:00",
                "2021-11-30T00:00:00",
                "2021-12-01T00:00:00",
                "2021-12-02T00:00:00",
                "2021-12-03T00:00:00",
                "2021-12-04T00:00:00",
                "2021-12-05T00:00:00",
                "2021-12-06T00:00:00",
                "2021-12-07T00:00:00",
                "2021-12-08T00:00:00",
                "2021-12-09T00:00:00",
                "2021-12-10T00:00:00",
                "2021-12-11T00:00:00",
                "2021-12-12T00:00:00",
                "2021-12-13T00:00:00",
                "2021-12-14T00:00:00",
                "2021-12-15T00:00:00",
                "2021-12-16T00:00:00",
                "2021-12-17T00:00:00",
                "2021-12-18T00:00:00",
                "2021-12-18T00:00:00",
                "2021-12-19T00:00:00",
                "2021-12-19T00:00:00",
                "2021-12-20T00:00:00",
                "2021-12-20T00:00:00",
                "2021-12-21T00:00:00",
                "2021-12-21T00:00:00",
                "2021-12-22T00:00:00",
                "2021-12-22T00:00:00",
                "2021-12-23T00:00:00",
                "2021-12-24T00:00:00",
                "2021-12-25T00:00:00",
                "2021-12-26T00:00:00",
                "2021-12-27T00:00:00",
                "2021-12-28T00:00:00",
                "2021-12-29T00:00:00",
                "2021-12-30T00:00:00",
                "2021-12-31T00:00:00",
                "2022-01-01T00:00:00",
                "2022-01-02T00:00:00",
                "2022-01-03T00:00:00",
                "2022-01-04T00:00:00",
                "2022-01-05T00:00:00",
                "2022-01-06T00:00:00",
                "2022-01-07T00:00:00",
                "2022-01-08T00:00:00",
                "2022-01-09T00:00:00",
                "2022-01-10T00:00:00",
                "2022-01-11T00:00:00",
                "2022-01-12T00:00:00",
                "2022-01-13T00:00:00",
                "2022-01-14T00:00:00",
                "2022-01-15T00:00:00",
                "2022-01-16T00:00:00",
                "2022-01-17T00:00:00",
                "2022-01-18T00:00:00",
                "2022-01-19T00:00:00",
                "2022-01-20T00:00:00",
                "2022-01-21T00:00:00",
                "2022-01-22T00:00:00",
                "2022-01-23T00:00:00",
                "2022-01-24T00:00:00",
                "2022-01-25T00:00:00",
                "2022-01-26T00:00:00",
                "2022-01-27T00:00:00",
                "2022-01-28T00:00:00",
                "2022-01-29T00:00:00",
                "2022-01-30T00:00:00",
                "2022-01-31T00:00:00",
                "2022-02-01T00:00:00",
                "2022-02-02T00:00:00",
                "2022-02-03T00:00:00",
                "2022-02-04T00:00:00",
                "2022-02-05T00:00:00",
                "2022-02-06T00:00:00",
                "2022-02-07T00:00:00",
                "2022-02-08T00:00:00",
                "2022-02-09T00:00:00",
                "2022-02-10T00:00:00",
                "2022-02-11T00:00:00",
                "2022-02-12T00:00:00",
                "2022-02-13T00:00:00",
                "2022-02-14T00:00:00",
                "2022-02-16T00:00:00",
                "2022-02-17T00:00:00",
                "2022-02-18T00:00:00",
                "2022-02-19T00:00:00",
                "2022-02-20T00:00:00",
                "2022-02-21T00:00:00",
                "2022-02-22T00:00:00",
                "2022-02-23T00:00:00",
                "2022-02-24T00:00:00",
                "2022-02-25T00:00:00",
                "2022-02-26T00:00:00",
                "2022-02-27T00:00:00",
                "2022-02-28T00:00:00",
                "2022-03-01T00:00:00",
                "2022-03-02T00:00:00",
                "2022-03-03T00:00:00",
                "2022-03-04T00:00:00",
                "2022-03-05T00:00:00",
                "2022-03-06T00:00:00",
                "2022-03-07T00:00:00",
                "2022-03-08T00:00:00",
                "2022-03-09T00:00:00",
                "2022-03-10T00:00:00",
                "2022-03-11T00:00:00",
                "2022-03-12T00:00:00",
                "2022-03-13T00:00:00",
                "2022-03-14T00:00:00",
                "2022-03-15T00:00:00",
                "2022-03-16T00:00:00",
                "2022-03-17T00:00:00",
                "2022-03-18T00:00:00",
                "2022-03-19T00:00:00",
                "2022-03-20T00:00:00",
                "2022-03-21T00:00:00",
                "2022-03-22T00:00:00",
                "2022-03-23T00:00:00",
                "2022-03-24T00:00:00",
                "2022-03-25T00:00:00",
                "2022-03-26T00:00:00",
                "2022-03-27T00:00:00",
                "2022-03-28T00:00:00",
                "2022-03-29T00:00:00",
                "2022-03-30T00:00:00",
                "2022-03-31T00:00:00"
               ]
              ],
              "y": [
               [
                490.04,
                490.68,
                490.68,
                491.47,
                492.26,
                492.41,
                494.24,
                494.85,
                495.15,
                495.25,
                495.25,
                497.03,
                497.22,
                498.61,
                499.66,
                500,
                500,
                500.35,
                505.38,
                507.56,
                500.170219999158,
                486.87450786830567,
                490.3572938532123,
                491.02989696808913,
                511.2946580779855,
                492.9731637487163,
                509.8528965352875,
                529.0822799946386,
                485.9895827615198,
                492.9606116886958,
                517.29,
                518.81,
                519,
                519,
                526.4549095194436,
                541.5851544460435,
                543.0080457037094,
                521.6910673531513,
                520.01,
                520.11,
                520.91,
                521.28,
                521.6,
                521.8,
                521.78,
                520.91,
                520.34,
                520.11
               ],
               [
                551.26,
                554.45,
                568.58,
                559.74,
                608.65,
                636.11,
                650.45,
                654.32,
                635.19,
                615.28,
                629.89,
                626.64,
                650.1,
                650.92,
                633.05,
                589.82,
                578.09,
                532.24,
                581.53,
                603.84,
                585.29,
                559.13,
                591.44,
                590.84,
                638.72,
                585.15,
                600.34,
                611.37,
                624.31,
                622.67,
                627.97,
                619.47,
                594.64,
                569.08,
                557.78,
                589.26,
                579.69,
                607.59,
                571.65,
                552.97,
                564.32,
                570.82,
                521.01,
                528.5,
                541.03,
                526.25,
                525.71,
                533.89,
                533.89,
                529.97,
                529.97,
                523.16,
                523.16,
                528.71,
                528.71,
                533.64,
                533.64,
                548.73,
                541.9,
                547.33,
                546.99,
                562.64,
                534.93,
                514,
                518.91,
                511.71,
                527.35,
                531.4,
                512.14,
                507.51,
                475.06,
                473.28,
                447.79,
                430.25,
                438.8,
                424.93,
                463.52,
                487.01,
                475.03,
                489.87,
                494.99,
                498.43,
                475.71,
                472.01,
                462.82,
                440.01,
                383.07,
                358.1,
                383.93,
                371.37,
                384.62,
                375.76,
                390.09,
                386.08,
                389.13,
                377.61,
                375.28,
                385.46,
                367.47,
                370.88,
                399.03,
                414.2,
                419.55,
                433.23,
                408.78,
                422.47,
                415.12,
                400.42,
                403.39,
                398.89,
                403.66,
                427.92,
                402.45,
                399.57,
                400.04,
                380.83,
                356.66,
                374.31,
                366.54,
                361.23,
                374.91,
                373.64,
                360.53,
                395.61,
                408.48,
                409,
                402.55,
                374.28,
                384.87,
                375.01,
                381.34,
                381.96,
                393.56,
                372.16,
                372.18,
                372.73,
                361.85,
                373.47,
                371.63,
                385.53,
                391.82,
                397.65,
                399.85,
                390.77,
                396.45,
                404.31,
                408.61,
                414.13,
                410.81,
                415.92,
                430.5,
                430.39,
                434.51,
                442.68,
                428.92
               ]
              ]
             }
            ],
            "label": "BNB",
            "method": "restyle",
            "visible": true
           },
           {
            "args": [
             {
              "title": [
               "Predication",
               "Real price"
              ],
              "type": "scatter",
              "x": [
               [
                "2021-11-19T00:00:00",
                "2021-11-20T00:00:00",
                "2021-11-21T00:00:00",
                "2021-11-22T00:00:00",
                "2021-11-23T00:00:00",
                "2021-11-24T00:00:00",
                "2021-11-25T00:00:00",
                "2021-11-26T00:00:00",
                "2021-11-27T00:00:00",
                "2021-11-28T00:00:00",
                "2021-11-29T00:00:00",
                "2021-11-30T00:00:00",
                "2021-12-01T00:00:00",
                "2021-12-02T00:00:00",
                "2021-12-03T00:00:00",
                "2021-12-04T00:00:00",
                "2021-12-05T00:00:00",
                "2021-12-06T00:00:00",
                "2021-12-07T00:00:00",
                "2021-12-08T00:00:00",
                "2021-12-09T00:00:00",
                "2021-12-10T00:00:00",
                "2021-12-11T00:00:00",
                "2021-12-12T00:00:00",
                "2021-12-13T00:00:00",
                "2021-12-14T00:00:00",
                "2021-12-15T00:00:00",
                "2021-12-16T00:00:00",
                "2021-12-17T00:00:00",
                "2021-12-18T00:00:00",
                "2021-12-19T00:00:00",
                "2021-12-20T00:00:00",
                "2021-12-21T00:00:00",
                "2021-12-22T00:00:00",
                "2021-12-22T00:00:00",
                "2021-12-24T00:00:00",
                "2021-12-25T00:00:00",
                "2021-12-26T00:00:00",
                "2021-12-27T00:00:00",
                "2021-12-28T00:00:00",
                "2021-12-29T00:00:00",
                "2021-12-31T00:00:00",
                "2022-01-01T00:00:00",
                "2022-01-02T00:00:00",
                "2022-01-03T00:00:00",
                "2022-01-04T00:00:00",
                "2022-01-05T00:00:00",
                "2022-01-06T00:00:00",
                "2022-01-07T00:00:00",
                "2022-01-08T00:00:00",
                "2022-01-09T00:00:00",
                "2022-01-10T00:00:00",
                "2022-01-11T00:00:00",
                "2022-01-12T00:00:00",
                "2022-01-13T00:00:00",
                "2022-01-14T00:00:00",
                "2022-01-15T00:00:00",
                "2022-01-16T00:00:00",
                "2022-01-17T00:00:00",
                "2022-01-17T00:00:00",
                "2022-01-19T00:00:00",
                "2022-01-20T00:00:00",
                "2022-01-21T00:00:00",
                "2022-01-22T00:00:00",
                "2022-01-23T00:00:00",
                "2022-01-24T00:00:00",
                "2022-01-25T00:00:00",
                "2022-01-26T00:00:00",
                "2022-01-27T00:00:00",
                "2022-01-27T00:00:00",
                "2022-01-29T00:00:00",
                "2022-01-30T00:00:00",
                "2022-01-31T00:00:00",
                "2022-02-01T00:00:00",
                "2022-02-02T00:00:00",
                "2022-02-03T00:00:00",
                "2022-02-04T00:00:00",
                "2022-02-05T00:00:00",
                "2022-02-06T00:00:00",
                "2022-02-07T00:00:00",
                "2022-02-08T00:00:00",
                "2022-02-09T00:00:00",
                "2022-02-10T00:00:00",
                "2022-02-11T00:00:00",
                "2022-02-12T00:00:00",
                "2022-02-13T00:00:00",
                "2022-02-14T00:00:00",
                "2022-02-15T00:00:00",
                "2022-02-16T00:00:00",
                "2022-02-17T00:00:00",
                "2022-02-18T00:00:00",
                "2022-02-19T00:00:00",
                "2022-02-20T00:00:00",
                "2022-02-21T00:00:00",
                "2022-02-22T00:00:00",
                "2022-02-23T00:00:00",
                "2022-02-24T00:00:00",
                "2022-02-25T00:00:00",
                "2022-02-26T00:00:00",
                "2022-02-27T00:00:00",
                "2022-03-06T00:00:00",
                "2022-03-07T00:00:00",
                "2022-03-08T00:00:00",
                "2022-03-09T00:00:00",
                "2022-03-10T00:00:00",
                "2022-03-11T00:00:00",
                "2022-03-12T00:00:00",
                "2022-03-13T00:00:00",
                "2022-03-14T00:00:00",
                "2022-03-15T00:00:00",
                "2022-03-16T00:00:00",
                "2022-03-17T00:00:00",
                "2022-03-18T00:00:00",
                "2022-03-19T00:00:00",
                "2022-03-20T00:00:00",
                "2022-03-21T00:00:00",
                "2022-03-22T00:00:00"
               ],
               [
                "2021-11-01T00:00:00",
                "2021-11-02T00:00:00",
                "2021-11-03T00:00:00",
                "2021-11-04T00:00:00",
                "2021-11-05T00:00:00",
                "2021-11-06T00:00:00",
                "2021-11-07T00:00:00",
                "2021-11-08T00:00:00",
                "2021-11-09T00:00:00",
                "2021-11-10T00:00:00",
                "2021-11-11T00:00:00",
                "2021-11-12T00:00:00",
                "2021-11-13T00:00:00",
                "2021-11-14T00:00:00",
                "2021-11-15T00:00:00",
                "2021-11-16T00:00:00",
                "2021-11-17T00:00:00",
                "2021-11-18T00:00:00",
                "2021-11-19T00:00:00",
                "2021-11-20T00:00:00",
                "2021-11-21T00:00:00",
                "2021-11-22T00:00:00",
                "2021-11-23T00:00:00",
                "2021-11-24T00:00:00",
                "2021-11-25T00:00:00",
                "2021-11-26T00:00:00",
                "2021-11-27T00:00:00",
                "2021-11-28T00:00:00",
                "2021-11-29T00:00:00",
                "2021-11-30T00:00:00",
                "2021-12-01T00:00:00",
                "2021-12-02T00:00:00",
                "2021-12-03T00:00:00",
                "2021-12-04T00:00:00",
                "2021-12-05T00:00:00",
                "2021-12-06T00:00:00",
                "2021-12-07T00:00:00",
                "2021-12-08T00:00:00",
                "2021-12-09T00:00:00",
                "2021-12-10T00:00:00",
                "2021-12-11T00:00:00",
                "2021-12-12T00:00:00",
                "2021-12-13T00:00:00",
                "2021-12-14T00:00:00",
                "2021-12-15T00:00:00",
                "2021-12-16T00:00:00",
                "2021-12-17T00:00:00",
                "2021-12-18T00:00:00",
                "2021-12-18T00:00:00",
                "2021-12-19T00:00:00",
                "2021-12-19T00:00:00",
                "2021-12-20T00:00:00",
                "2021-12-20T00:00:00",
                "2021-12-21T00:00:00",
                "2021-12-21T00:00:00",
                "2021-12-22T00:00:00",
                "2021-12-22T00:00:00",
                "2021-12-23T00:00:00",
                "2021-12-24T00:00:00",
                "2021-12-25T00:00:00",
                "2021-12-26T00:00:00",
                "2021-12-27T00:00:00",
                "2021-12-28T00:00:00",
                "2021-12-29T00:00:00",
                "2021-12-30T00:00:00",
                "2021-12-31T00:00:00",
                "2022-01-01T00:00:00",
                "2022-01-02T00:00:00",
                "2022-01-03T00:00:00",
                "2022-01-04T00:00:00",
                "2022-01-05T00:00:00",
                "2022-01-06T00:00:00",
                "2022-01-07T00:00:00",
                "2022-01-08T00:00:00",
                "2022-01-09T00:00:00",
                "2022-01-10T00:00:00",
                "2022-01-11T00:00:00",
                "2022-01-12T00:00:00",
                "2022-01-13T00:00:00",
                "2022-01-14T00:00:00",
                "2022-01-15T00:00:00",
                "2022-01-16T00:00:00",
                "2022-01-17T00:00:00",
                "2022-01-18T00:00:00",
                "2022-01-19T00:00:00",
                "2022-01-20T00:00:00",
                "2022-01-21T00:00:00",
                "2022-01-22T00:00:00",
                "2022-01-23T00:00:00",
                "2022-01-24T00:00:00",
                "2022-01-25T00:00:00",
                "2022-01-26T00:00:00",
                "2022-01-27T00:00:00",
                "2022-01-28T00:00:00",
                "2022-01-29T00:00:00",
                "2022-01-30T00:00:00",
                "2022-01-31T00:00:00",
                "2022-02-01T00:00:00",
                "2022-02-02T00:00:00",
                "2022-02-03T00:00:00",
                "2022-02-04T00:00:00",
                "2022-02-05T00:00:00",
                "2022-02-06T00:00:00",
                "2022-02-07T00:00:00",
                "2022-02-08T00:00:00",
                "2022-02-09T00:00:00",
                "2022-02-10T00:00:00",
                "2022-02-11T00:00:00",
                "2022-02-12T00:00:00",
                "2022-02-13T00:00:00",
                "2022-02-14T00:00:00",
                "2022-02-16T00:00:00",
                "2022-02-17T00:00:00",
                "2022-02-18T00:00:00",
                "2022-02-19T00:00:00",
                "2022-02-20T00:00:00",
                "2022-02-21T00:00:00",
                "2022-02-22T00:00:00",
                "2022-02-23T00:00:00",
                "2022-02-24T00:00:00",
                "2022-02-25T00:00:00",
                "2022-02-26T00:00:00",
                "2022-02-27T00:00:00",
                "2022-02-28T00:00:00",
                "2022-03-01T00:00:00",
                "2022-03-02T00:00:00",
                "2022-03-03T00:00:00",
                "2022-03-04T00:00:00",
                "2022-03-05T00:00:00",
                "2022-03-06T00:00:00",
                "2022-03-07T00:00:00",
                "2022-03-08T00:00:00",
                "2022-03-09T00:00:00",
                "2022-03-10T00:00:00",
                "2022-03-11T00:00:00",
                "2022-03-12T00:00:00",
                "2022-03-13T00:00:00",
                "2022-03-14T00:00:00",
                "2022-03-15T00:00:00",
                "2022-03-16T00:00:00",
                "2022-03-17T00:00:00",
                "2022-03-18T00:00:00",
                "2022-03-19T00:00:00",
                "2022-03-20T00:00:00",
                "2022-03-21T00:00:00",
                "2022-03-22T00:00:00",
                "2022-03-23T00:00:00",
                "2022-03-24T00:00:00",
                "2022-03-25T00:00:00",
                "2022-03-26T00:00:00",
                "2022-03-27T00:00:00",
                "2022-03-28T00:00:00",
                "2022-03-29T00:00:00",
                "2022-03-30T00:00:00",
                "2022-03-31T00:00:00"
               ]
              ],
              "y": [
               [
                165.85,
                165.9,
                165.95,
                166,
                166.04,
                166.08,
                166.16,
                166.22,
                166.25,
                166.26,
                166.38,
                166.4,
                166.45,
                166.47,
                166.48,
                166.55,
                166.66,
                166.66,
                166.7,
                166.76,
                166.76,
                173.26201244677907,
                164.2767413840276,
                160.09875868293014,
                171.99355464076888,
                159.26541633451455,
                170.37732670046915,
                164.51625711122108,
                165.35518094936032,
                174.8180293103525,
                174.1038325249735,
                167.06,
                167.24,
                167.24,
                167.24,
                164.13444979600493,
                170.5709308193573,
                167.7245146993228,
                175.56682133996088,
                167.29,
                167.33,
                167.47,
                167.51,
                167.55,
                167.6,
                167.67,
                167.6,
                167.57,
                167.52,
                171.56432299822455,
                172.18755888711112,
                167.44,
                167.33,
                167.27,
                167.25,
                167.24,
                174.6259333768011,
                167.24,
                160.80842019465192,
                167.15,
                167.07,
                167.06,
                166.3213041748561,
                166.9,
                166.87,
                166.82,
                166.78,
                166.72,
                159.5381221487059,
                166.71,
                166.66,
                158.3706938087345,
                166.57,
                166.4,
                167.0769357655564,
                167.01352690233117,
                165.657966031353,
                161.03982333258517,
                173.24157664253408,
                168.846252141553,
                164.25261726521796,
                168.78006823927095,
                165.8273669222961,
                169.94346161944588,
                170.63638228163734,
                158.93350044456457,
                160.12782921677066,
                161.27296275443484,
                173.6490830110493,
                170.76170052600284,
                171.66646525647818,
                166.89284086370628,
                162.67965014315828,
                165.04035501447544,
                162.2283436019247,
                163.1839840930723,
                166.84115287243395,
                159.45226745550045,
                158.6811632458541,
                161.38,
                156.86,
                163.17962939672358,
                158.5450733131694,
                149.52812404130646,
                150.25755126223805,
                154.06221387053498,
                155.0015771983353,
                150.85924119580451,
                153.43356954048411,
                159.70570337012524,
                157.56444353265903,
                157.62313886404806,
                163.01115899907566,
                162.92607710542944,
                150.6446853168186,
                161.0077550121427,
                159.02
               ],
               [
                203.55,
                220.24,
                242.9,
                247.39,
                236.47,
                258.93,
                249.82,
                248.47,
                239.21,
                233.78,
                234.24,
                228.5,
                241.83,
                238.43,
                237.55,
                219.24,
                218.72,
                195.49,
                215.28,
                218.02,
                231.28,
                215.74,
                221.84,
                206.07,
                209.87,
                191.51,
                193.1,
                200.68,
                204.32,
                208.67,
                229.8,
                233.99,
                211.22,
                201.12,
                196.17,
                194.2,
                190.6,
                194.62,
                181.18,
                167.95,
                171.95,
                173.43,
                155.21,
                161.29,
                178.34,
                176.95,
                175.5,
                182.84,
                182.84,
                180.1,
                180.1,
                173.67,
                173.67,
                180.09,
                180.09,
                178.6,
                178.6,
                190.04,
                190.27,
                193.12,
                198,
                195.43,
                177.43,
                170.66,
                172.75,
                170.3,
                178.52,
                176.38,
                170.3,
                167.94,
                155.1,
                150.43,
                136.4,
                142.51,
                140.84,
                135.95,
                140.18,
                151.7,
                146.01,
                146.16,
                147.8,
                147.86,
                139.93,
                141.59,
                135.79,
                127.21,
                111.97,
                94.18,
                99.58,
                91.65,
                94.72,
                92.24,
                89.63,
                91.31,
                96.22,
                93.3,
                99.74,
                109.98,
                101.84,
                101.46,
                112.17,
                113.89,
                115.3,
                117.36,
                113.6,
                114.02,
                106.2,
                96.38,
                95.92,
                93.24,
                96.43,
                101.93,
                93.41,
                90.07,
                91.5,
                90.9,
                83.12,
                86.47,
                84.9,
                89.19,
                92.6,
                90.14,
                85.52,
                99.52,
                98.65,
                100.65,
                95.54,
                88.25,
                89.65,
                84.54,
                82.13,
                82.25,
                88.2,
                82.94,
                80.74,
                81.55,
                78.94,
                81.17,
                82.96,
                87.9,
                87.88,
                89.82,
                92.42,
                88.61,
                88.76,
                90.51,
                95.1,
                102.22,
                98.66,
                101.76,
                107.08,
                106.47,
                111.71,
                120.7,
                122.66
               ]
              ]
             }
            ],
            "label": "SOL",
            "method": "restyle",
            "visible": true
           },
           {
            "args": [
             {
              "title": [
               "Predication",
               "Real price"
              ],
              "type": "scatter",
              "x": [
               [
                "2021-11-19T00:00:00",
                "2021-11-20T00:00:00",
                "2021-11-21T00:00:00",
                "2021-11-22T00:00:00",
                "2021-11-23T00:00:00",
                "2021-11-24T00:00:00",
                "2021-11-25T00:00:00",
                "2021-11-26T00:00:00",
                "2021-11-27T00:00:00",
                "2021-11-28T00:00:00",
                "2021-11-29T00:00:00",
                "2021-11-30T00:00:00",
                "2021-12-01T00:00:00",
                "2021-12-02T00:00:00",
                "2021-12-03T00:00:00",
                "2021-12-04T00:00:00",
                "2021-12-05T00:00:00",
                "2021-12-06T00:00:00",
                "2021-12-07T00:00:00",
                "2021-12-08T00:00:00",
                "2021-12-09T00:00:00",
                "2021-12-10T00:00:00",
                "2021-12-11T00:00:00",
                "2021-12-12T00:00:00",
                "2021-12-13T00:00:00",
                "2021-12-14T00:00:00",
                "2021-12-15T00:00:00",
                "2021-12-16T00:00:00",
                "2021-12-17T00:00:00",
                "2021-12-18T00:00:00",
                "2021-12-19T00:00:00",
                "2021-12-20T00:00:00",
                "2021-12-21T00:00:00",
                "2021-12-22T00:00:00",
                "2021-12-22T00:00:00",
                "2021-12-24T00:00:00",
                "2021-12-25T00:00:00",
                "2021-12-26T00:00:00",
                "2021-12-27T00:00:00",
                "2021-12-28T00:00:00",
                "2021-12-29T00:00:00",
                "2021-12-31T00:00:00",
                "2022-01-01T00:00:00",
                "2022-01-02T00:00:00",
                "2022-01-03T00:00:00",
                "2022-01-04T00:00:00",
                "2022-01-05T00:00:00",
                "2022-01-06T00:00:00",
                "2022-01-07T00:00:00",
                "2022-01-08T00:00:00",
                "2022-01-09T00:00:00",
                "2022-01-10T00:00:00",
                "2022-01-11T00:00:00",
                "2022-01-12T00:00:00",
                "2022-01-13T00:00:00",
                "2022-01-14T00:00:00",
                "2022-01-15T00:00:00",
                "2022-01-16T00:00:00",
                "2022-01-17T00:00:00",
                "2022-01-17T00:00:00",
                "2022-01-19T00:00:00",
                "2022-01-20T00:00:00",
                "2022-01-21T00:00:00",
                "2022-01-22T00:00:00",
                "2022-01-23T00:00:00",
                "2022-01-24T00:00:00",
                "2022-01-25T00:00:00",
                "2022-01-26T00:00:00",
                "2022-01-27T00:00:00",
                "2022-01-27T00:00:00",
                "2022-01-29T00:00:00",
                "2022-01-30T00:00:00",
                "2022-01-31T00:00:00",
                "2022-02-01T00:00:00",
                "2022-02-02T00:00:00",
                "2022-02-03T00:00:00",
                "2022-02-04T00:00:00",
                "2022-02-05T00:00:00",
                "2022-02-06T00:00:00",
                "2022-02-07T00:00:00",
                "2022-02-08T00:00:00",
                "2022-02-09T00:00:00",
                "2022-02-10T00:00:00",
                "2022-02-11T00:00:00",
                "2022-02-12T00:00:00",
                "2022-02-13T00:00:00",
                "2022-02-14T00:00:00",
                "2022-02-15T00:00:00",
                "2022-02-16T00:00:00",
                "2022-02-17T00:00:00",
                "2022-02-18T00:00:00",
                "2022-02-19T00:00:00",
                "2022-02-20T00:00:00",
                "2022-02-21T00:00:00",
                "2022-02-22T00:00:00",
                "2022-02-23T00:00:00",
                "2022-02-24T00:00:00",
                "2022-02-25T00:00:00",
                "2022-02-26T00:00:00",
                "2022-02-27T00:00:00",
                "2022-03-06T00:00:00",
                "2022-03-07T00:00:00",
                "2022-03-08T00:00:00",
                "2022-03-09T00:00:00",
                "2022-03-10T00:00:00",
                "2022-03-11T00:00:00",
                "2022-03-12T00:00:00",
                "2022-03-13T00:00:00",
                "2022-03-14T00:00:00",
                "2022-03-15T00:00:00",
                "2022-03-16T00:00:00",
                "2022-03-17T00:00:00",
                "2022-03-18T00:00:00",
                "2022-03-19T00:00:00",
                "2022-03-20T00:00:00",
                "2022-03-21T00:00:00",
                "2022-03-22T00:00:00"
               ],
               [
                "2021-11-01T00:00:00",
                "2021-11-02T00:00:00",
                "2021-11-03T00:00:00",
                "2021-11-04T00:00:00",
                "2021-11-05T00:00:00",
                "2021-11-06T00:00:00",
                "2021-11-07T00:00:00",
                "2021-11-08T00:00:00",
                "2021-11-09T00:00:00",
                "2021-11-10T00:00:00",
                "2021-11-11T00:00:00",
                "2021-11-12T00:00:00",
                "2021-11-13T00:00:00",
                "2021-11-14T00:00:00",
                "2021-11-15T00:00:00",
                "2021-11-16T00:00:00",
                "2021-11-17T00:00:00",
                "2021-11-18T00:00:00",
                "2021-11-19T00:00:00",
                "2021-11-20T00:00:00",
                "2021-11-21T00:00:00",
                "2021-11-22T00:00:00",
                "2021-11-23T00:00:00",
                "2021-11-24T00:00:00",
                "2021-11-25T00:00:00",
                "2021-11-26T00:00:00",
                "2021-11-27T00:00:00",
                "2021-11-28T00:00:00",
                "2021-11-29T00:00:00",
                "2021-11-30T00:00:00",
                "2021-12-01T00:00:00",
                "2021-12-02T00:00:00",
                "2021-12-03T00:00:00",
                "2021-12-04T00:00:00",
                "2021-12-05T00:00:00",
                "2021-12-06T00:00:00",
                "2021-12-07T00:00:00",
                "2021-12-08T00:00:00",
                "2021-12-09T00:00:00",
                "2021-12-10T00:00:00",
                "2021-12-11T00:00:00",
                "2021-12-12T00:00:00",
                "2021-12-13T00:00:00",
                "2021-12-14T00:00:00",
                "2021-12-15T00:00:00",
                "2021-12-16T00:00:00",
                "2021-12-17T00:00:00",
                "2021-12-18T00:00:00",
                "2021-12-18T00:00:00",
                "2021-12-19T00:00:00",
                "2021-12-19T00:00:00",
                "2021-12-20T00:00:00",
                "2021-12-20T00:00:00",
                "2021-12-21T00:00:00",
                "2021-12-21T00:00:00",
                "2021-12-22T00:00:00",
                "2021-12-22T00:00:00",
                "2021-12-23T00:00:00",
                "2021-12-24T00:00:00",
                "2021-12-25T00:00:00",
                "2021-12-26T00:00:00",
                "2021-12-27T00:00:00",
                "2021-12-28T00:00:00",
                "2021-12-29T00:00:00",
                "2021-12-30T00:00:00",
                "2021-12-31T00:00:00",
                "2022-01-01T00:00:00",
                "2022-01-02T00:00:00",
                "2022-01-03T00:00:00",
                "2022-01-04T00:00:00",
                "2022-01-05T00:00:00",
                "2022-01-06T00:00:00",
                "2022-01-07T00:00:00",
                "2022-01-08T00:00:00",
                "2022-01-09T00:00:00",
                "2022-01-10T00:00:00",
                "2022-01-11T00:00:00",
                "2022-01-12T00:00:00",
                "2022-01-13T00:00:00",
                "2022-01-14T00:00:00",
                "2022-01-15T00:00:00",
                "2022-01-16T00:00:00",
                "2022-01-17T00:00:00",
                "2022-01-18T00:00:00",
                "2022-01-19T00:00:00",
                "2022-01-20T00:00:00",
                "2022-01-21T00:00:00",
                "2022-01-22T00:00:00",
                "2022-01-23T00:00:00",
                "2022-01-24T00:00:00",
                "2022-01-25T00:00:00",
                "2022-01-26T00:00:00",
                "2022-01-27T00:00:00",
                "2022-01-28T00:00:00",
                "2022-01-29T00:00:00",
                "2022-01-30T00:00:00",
                "2022-01-31T00:00:00",
                "2022-02-01T00:00:00",
                "2022-02-02T00:00:00",
                "2022-02-03T00:00:00",
                "2022-02-04T00:00:00",
                "2022-02-05T00:00:00",
                "2022-02-06T00:00:00",
                "2022-02-07T00:00:00",
                "2022-02-08T00:00:00",
                "2022-02-09T00:00:00",
                "2022-02-10T00:00:00",
                "2022-02-11T00:00:00",
                "2022-02-12T00:00:00",
                "2022-02-13T00:00:00",
                "2022-02-14T00:00:00",
                "2022-02-16T00:00:00",
                "2022-02-17T00:00:00",
                "2022-02-18T00:00:00",
                "2022-02-19T00:00:00",
                "2022-02-20T00:00:00",
                "2022-02-21T00:00:00",
                "2022-02-22T00:00:00",
                "2022-02-23T00:00:00",
                "2022-02-24T00:00:00",
                "2022-02-25T00:00:00",
                "2022-02-26T00:00:00",
                "2022-02-27T00:00:00",
                "2022-02-28T00:00:00",
                "2022-03-01T00:00:00",
                "2022-03-02T00:00:00",
                "2022-03-03T00:00:00",
                "2022-03-04T00:00:00",
                "2022-03-05T00:00:00",
                "2022-03-06T00:00:00",
                "2022-03-07T00:00:00",
                "2022-03-08T00:00:00",
                "2022-03-09T00:00:00",
                "2022-03-10T00:00:00",
                "2022-03-11T00:00:00",
                "2022-03-12T00:00:00",
                "2022-03-13T00:00:00",
                "2022-03-14T00:00:00",
                "2022-03-15T00:00:00",
                "2022-03-16T00:00:00",
                "2022-03-17T00:00:00",
                "2022-03-18T00:00:00",
                "2022-03-19T00:00:00",
                "2022-03-20T00:00:00",
                "2022-03-21T00:00:00",
                "2022-03-22T00:00:00",
                "2022-03-23T00:00:00",
                "2022-03-24T00:00:00",
                "2022-03-25T00:00:00",
                "2022-03-26T00:00:00",
                "2022-03-27T00:00:00",
                "2022-03-28T00:00:00",
                "2022-03-29T00:00:00",
                "2022-03-30T00:00:00",
                "2022-03-31T00:00:00"
               ]
              ],
              "y": [
               [
                2.2165,
                2.2138,
                2.2118,
                2.21,
                2.21,
                2.2095,
                2.2031,
                2.2016,
                2.2,
                2.2,
                2.2,
                2.1993,
                2.1958,
                2.1905,
                2.19,
                2.19,
                2.1881,
                2.1874,
                2.181,
                2.18,
                2.1799,
                2.093539908953868,
                2.117229210346597,
                2.267798279648508,
                2.187516593330796,
                2.264978769045134,
                2.1932366818819897,
                2.1278842876932544,
                2.2708667963001146,
                2.197358497943428,
                2.1679644566344285,
                2.15,
                2.1397,
                2.1346,
                2.1346,
                2.1513239370719863,
                2.235089629984126,
                2.1321401462916927,
                2.061650756081656,
                2.13,
                2.1237,
                2.12,
                2.1149,
                2.11,
                2.1069,
                2.1,
                2.08,
                2.08,
                2.07,
                2.0409649643453345,
                2.166262584178285,
                2.07,
                2.06,
                2.0531,
                2.05,
                2.05,
                2.120084274419376,
                2.0436,
                1.966742156703064,
                2.04,
                2.0352,
                2.03,
                2.0414097263624056,
                2.02,
                2.0174,
                2.01,
                2,
                2,
                1.9041707888098287,
                2,
                1.9997,
                1.944801459897282,
                1.99,
                1.9754,
                1.99850923817542,
                1.912552602446846,
                1.9730196803242304,
                1.898565991178484,
                1.9723530654475767,
                1.9994993432678425,
                1.9443674452532689,
                1.9359863198838467,
                1.91991333526368,
                1.9346632859265127,
                1.916142247792928,
                2.073563640752316,
                2.051140580104335,
                1.9217439984621136,
                1.9382963680091083,
                2.0650003575573885,
                2.023305767335452,
                1.972580592808626,
                2.019506988885836,
                1.9556870503331336,
                1.974433414219516,
                1.9061741283196243,
                2.022689902068911,
                1.8898348066906976,
                2.073731084330844,
                1.55,
                1.44,
                1.3841402057887031,
                1.507900687024888,
                1.438344985551147,
                1.3722652821488452,
                1.4550910646939057,
                1.4634459067634755,
                1.392338255768067,
                1.3829054652371722,
                1.3773728926833768,
                1.384854845653042,
                1.4983118605985988,
                1.4225888639806117,
                1.4197514684905452,
                1.4516738970861454,
                1.4681146088207404,
                1.8836
               ],
               [
                1.95,
                1.97,
                2.06,
                1.98,
                1.99,
                2.01,
                2.02,
                2.12,
                2.27,
                2.1,
                2.09,
                2.05,
                2.05,
                2.04,
                2.02,
                1.88,
                1.88,
                1.79,
                1.86,
                1.92,
                1.84,
                1.78,
                1.75,
                1.67,
                1.68,
                1.53,
                1.55,
                1.59,
                1.6,
                1.55,
                1.55,
                1.72,
                1.56,
                1.42,
                1.38,
                1.43,
                1.38,
                1.4,
                1.29,
                1.21,
                1.35,
                1.35,
                1.23,
                1.27,
                1.31,
                1.24,
                1.22,
                1.24,
                1.24,
                1.24,
                1.24,
                1.24,
                1.24,
                1.28,
                1.28,
                1.33,
                1.33,
                1.47,
                1.39,
                1.45,
                1.46,
                1.51,
                1.4,
                1.33,
                1.36,
                1.31,
                1.38,
                1.38,
                1.32,
                1.31,
                1.24,
                1.28,
                1.21,
                1.19,
                1.17,
                1.13,
                1.19,
                1.3,
                1.23,
                1.29,
                1.3,
                1.41,
                1.59,
                1.47,
                1.34,
                1.26,
                1.12,
                1.07,
                1.12,
                1.07,
                1.04,
                1.08,
                1.04,
                1.05,
                1.06,
                1.04,
                1.05,
                1.09,
                1.03,
                1.06,
                1.14,
                1.13,
                1.14,
                1.2,
                1.18,
                1.19,
                1.15,
                1.08,
                1.06,
                1.05,
                1.05,
                1.08,
                1.02,
                0.9971,
                0.9977,
                0.9329,
                0.8582,
                0.889,
                0.8692,
                0.8534,
                0.898,
                0.8879,
                0.8583,
                0.9598,
                0.9623,
                0.9387,
                0.9027,
                0.8429,
                0.8657,
                0.8238,
                0.7974,
                0.8012,
                0.8493,
                0.8063,
                0.7901,
                0.7907,
                0.791,
                0.8039,
                0.8,
                0.8384,
                0.8368,
                0.8534,
                0.9011,
                0.8771,
                0.9168,
                0.9764,
                1.11,
                1.13,
                1.1,
                1.15,
                1.18,
                1.17,
                1.19,
                1.19,
                1.14
               ]
              ]
             }
            ],
            "label": "ADA",
            "method": "restyle",
            "visible": true
           }
          ],
          "direction": "down",
          "showactive": true
         }
        ]
       }
      },
      "text/html": [
       "<div>                            <div id=\"41707b30-3478-413a-a869-9797f9697e17\" class=\"plotly-graph-div\" style=\"height:525px; width:100%;\"></div>            <script type=\"text/javascript\">                require([\"plotly\"], function(Plotly) {                    window.PLOTLYENV=window.PLOTLYENV || {};                                    if (document.getElementById(\"41707b30-3478-413a-a869-9797f9697e17\")) {                    Plotly.newPlot(                        \"41707b30-3478-413a-a869-9797f9697e17\",                        [{\"name\":\"Predication\",\"x\":[\"2021-11-19T00:00:00\",\"2021-11-20T00:00:00\",\"2021-11-21T00:00:00\",\"2021-11-22T00:00:00\",\"2021-11-23T00:00:00\",\"2021-11-24T00:00:00\",\"2021-11-30T00:00:00\",\"2021-12-01T00:00:00\",\"2021-12-02T00:00:00\",\"2021-12-03T00:00:00\",\"2021-12-04T00:00:00\",\"2021-12-05T00:00:00\",\"2021-12-06T00:00:00\",\"2021-12-07T00:00:00\",\"2021-12-08T00:00:00\",\"2021-12-09T00:00:00\",\"2021-12-10T00:00:00\",\"2021-12-11T00:00:00\",\"2021-12-12T00:00:00\",\"2021-12-13T00:00:00\",\"2021-12-14T00:00:00\",\"2021-12-15T00:00:00\",\"2021-12-16T00:00:00\",\"2021-12-17T00:00:00\",\"2021-12-18T00:00:00\",\"2021-12-19T00:00:00\",\"2021-12-20T00:00:00\",\"2021-12-21T00:00:00\",\"2021-12-22T00:00:00\",\"2021-12-22T00:00:00\",\"2021-12-24T00:00:00\",\"2021-12-25T00:00:00\",\"2021-12-26T00:00:00\",\"2021-12-27T00:00:00\",\"2021-12-28T00:00:00\",\"2021-12-29T00:00:00\",\"2021-12-31T00:00:00\",\"2022-01-01T00:00:00\",\"2022-01-02T00:00:00\",\"2022-01-03T00:00:00\",\"2022-01-04T00:00:00\",\"2022-01-05T00:00:00\",\"2022-01-06T00:00:00\",\"2022-01-07T00:00:00\",\"2022-01-08T00:00:00\",\"2022-01-09T00:00:00\",\"2022-01-10T00:00:00\",\"2022-01-11T00:00:00\",\"2022-01-12T00:00:00\",\"2022-01-13T00:00:00\",\"2022-01-14T00:00:00\",\"2022-01-15T00:00:00\",\"2022-01-16T00:00:00\",\"2022-01-17T00:00:00\",\"2022-01-17T00:00:00\",\"2022-01-19T00:00:00\",\"2022-01-20T00:00:00\",\"2022-01-21T00:00:00\",\"2022-01-22T00:00:00\",\"2022-01-23T00:00:00\",\"2022-01-24T00:00:00\",\"2022-01-25T00:00:00\",\"2022-01-26T00:00:00\",\"2022-01-27T00:00:00\",\"2022-01-27T00:00:00\",\"2022-01-29T00:00:00\",\"2022-01-30T00:00:00\",\"2022-01-31T00:00:00\",\"2022-02-01T00:00:00\",\"2022-02-02T00:00:00\",\"2022-02-03T00:00:00\",\"2022-02-04T00:00:00\",\"2022-02-05T00:00:00\",\"2022-02-06T00:00:00\",\"2022-02-07T00:00:00\",\"2022-02-08T00:00:00\",\"2022-02-09T00:00:00\",\"2022-02-10T00:00:00\",\"2022-02-11T00:00:00\",\"2022-02-12T00:00:00\",\"2022-02-13T00:00:00\",\"2022-02-14T00:00:00\",\"2022-02-15T00:00:00\",\"2022-02-16T00:00:00\",\"2022-02-17T00:00:00\",\"2022-02-18T00:00:00\",\"2022-02-19T00:00:00\",\"2022-02-20T00:00:00\",\"2022-02-21T00:00:00\",\"2022-02-22T00:00:00\",\"2022-02-23T00:00:00\",\"2022-02-24T00:00:00\",\"2022-02-25T00:00:00\",\"2022-02-26T00:00:00\",\"2022-02-27T00:00:00\",\"2022-03-06T00:00:00\",\"2022-03-07T00:00:00\",\"2022-03-08T00:00:00\",\"2022-03-09T00:00:00\",\"2022-03-10T00:00:00\",\"2022-03-11T00:00:00\",\"2022-03-12T00:00:00\",\"2022-03-13T00:00:00\",\"2022-03-14T00:00:00\",\"2022-03-15T00:00:00\",\"2022-03-16T00:00:00\",\"2022-03-17T00:00:00\",\"2022-03-18T00:00:00\",\"2022-03-19T00:00:00\",\"2022-03-20T00:00:00\",\"2022-03-21T00:00:00\",\"2022-03-22T00:00:00\"],\"y\":[60510.61,60511.61,60520.88,60490.05,60429.59,60386.38,60235.23,60129.57,60110.88,60046.45,59929.6,59734.43,59680.05,59570.67,59361.26,59149.52,57661.04791466951,59819.25548979052,59133.76529466962,58969.97120840129,59311.79499957117,57351.486921224365,60656.27170124512,60637.01233040125,58115.75867409253,60017.70002177462,57645.46,57115.55,56952.53,56952.53,57467.62340392929,54820.620940115376,57999.53996421357,58116.479288717215,56773.94,56496.41,56155.33,56015.7,55802.43,55564.75,55297.97,54840.77,54664.42,54482.73,53492.76942390634,56409.48647238161,54311.95,54208.27,54038.4,54000.0,53837.49,54987.80016815829,53696.73,52115.8980618307,53574.16,53399.69,53310.18,53470.07347619284,53031.81,52916.98,52787.8,52617.96,52500.0,54196.61402568532,52362.14,52098.07,49988.09186623101,52000.0,51773.3,52224.18685914033,50152.2105971224,49633.86579437773,49721.80304848105,50411.72577889659,52603.94090489661,50603.93592700215,49622.97599211039,52088.17812465473,53879.04621765664,50353.71195166939,50163.05727907556,52519.80490635881,52416.55675822392,52640.329716467095,49741.18848814997,52681.22433436646,49762.32508679301,49957.73515052124,53727.32941322561,51488.82621629057,52008.47967213492,49274.97931762573,52185.66326422792,53131.57656452613,49110.96,48000.0,46440.473807022965,45861.25430902028,48147.97676295459,48962.12401549512,48432.89242770572,50310.17292021955,48248.92015125781,46685.54850489543,48232.42836115492,50260.57145303068,49756.8795411132,49142.680117809,46566.64437988678,46234.19837345775,48238.06404883945,48022.24],\"type\":\"scatter\"},{\"name\":\"Real price\",\"x\":[\"2021-11-01T00:00:00\",\"2021-11-02T00:00:00\",\"2021-11-03T00:00:00\",\"2021-11-04T00:00:00\",\"2021-11-05T00:00:00\",\"2021-11-06T00:00:00\",\"2021-11-07T00:00:00\",\"2021-11-08T00:00:00\",\"2021-11-09T00:00:00\",\"2021-11-10T00:00:00\",\"2021-11-11T00:00:00\",\"2021-11-12T00:00:00\",\"2021-11-13T00:00:00\",\"2021-11-14T00:00:00\",\"2021-11-15T00:00:00\",\"2021-11-16T00:00:00\",\"2021-11-17T00:00:00\",\"2021-11-18T00:00:00\",\"2021-11-19T00:00:00\",\"2021-11-20T00:00:00\",\"2021-11-21T00:00:00\",\"2021-11-22T00:00:00\",\"2021-11-23T00:00:00\",\"2021-11-24T00:00:00\",\"2021-11-25T00:00:00\",\"2021-11-26T00:00:00\",\"2021-11-27T00:00:00\",\"2021-11-28T00:00:00\",\"2021-11-29T00:00:00\",\"2021-11-30T00:00:00\",\"2021-12-01T00:00:00\",\"2021-12-02T00:00:00\",\"2021-12-03T00:00:00\",\"2021-12-04T00:00:00\",\"2021-12-05T00:00:00\",\"2021-12-06T00:00:00\",\"2021-12-07T00:00:00\",\"2021-12-08T00:00:00\",\"2021-12-09T00:00:00\",\"2021-12-10T00:00:00\",\"2021-12-11T00:00:00\",\"2021-12-12T00:00:00\",\"2021-12-13T00:00:00\",\"2021-12-14T00:00:00\",\"2021-12-15T00:00:00\",\"2021-12-16T00:00:00\",\"2021-12-17T00:00:00\",\"2021-12-18T00:00:00\",\"2021-12-18T00:00:00\",\"2021-12-19T00:00:00\",\"2021-12-19T00:00:00\",\"2021-12-20T00:00:00\",\"2021-12-20T00:00:00\",\"2021-12-21T00:00:00\",\"2021-12-21T00:00:00\",\"2021-12-22T00:00:00\",\"2021-12-22T00:00:00\",\"2021-12-23T00:00:00\",\"2021-12-24T00:00:00\",\"2021-12-25T00:00:00\",\"2021-12-26T00:00:00\",\"2021-12-27T00:00:00\",\"2021-12-28T00:00:00\",\"2021-12-29T00:00:00\",\"2021-12-30T00:00:00\",\"2021-12-31T00:00:00\",\"2022-01-01T00:00:00\",\"2022-01-02T00:00:00\",\"2022-01-03T00:00:00\",\"2022-01-04T00:00:00\",\"2022-01-05T00:00:00\",\"2022-01-06T00:00:00\",\"2022-01-07T00:00:00\",\"2022-01-08T00:00:00\",\"2022-01-09T00:00:00\",\"2022-01-10T00:00:00\",\"2022-01-11T00:00:00\",\"2022-01-12T00:00:00\",\"2022-01-13T00:00:00\",\"2022-01-14T00:00:00\",\"2022-01-15T00:00:00\",\"2022-01-16T00:00:00\",\"2022-01-17T00:00:00\",\"2022-01-18T00:00:00\",\"2022-01-19T00:00:00\",\"2022-01-20T00:00:00\",\"2022-01-21T00:00:00\",\"2022-01-22T00:00:00\",\"2022-01-23T00:00:00\",\"2022-01-24T00:00:00\",\"2022-01-25T00:00:00\",\"2022-01-26T00:00:00\",\"2022-01-27T00:00:00\",\"2022-01-28T00:00:00\",\"2022-01-29T00:00:00\",\"2022-01-30T00:00:00\",\"2022-01-31T00:00:00\",\"2022-02-01T00:00:00\",\"2022-02-02T00:00:00\",\"2022-02-03T00:00:00\",\"2022-02-04T00:00:00\",\"2022-02-05T00:00:00\",\"2022-02-06T00:00:00\",\"2022-02-07T00:00:00\",\"2022-02-08T00:00:00\",\"2022-02-09T00:00:00\",\"2022-02-10T00:00:00\",\"2022-02-11T00:00:00\",\"2022-02-12T00:00:00\",\"2022-02-13T00:00:00\",\"2022-02-14T00:00:00\",\"2022-02-16T00:00:00\",\"2022-02-17T00:00:00\",\"2022-02-18T00:00:00\",\"2022-02-19T00:00:00\",\"2022-02-20T00:00:00\",\"2022-02-21T00:00:00\",\"2022-02-22T00:00:00\",\"2022-02-23T00:00:00\",\"2022-02-24T00:00:00\",\"2022-02-25T00:00:00\",\"2022-02-26T00:00:00\",\"2022-02-27T00:00:00\",\"2022-02-28T00:00:00\",\"2022-03-01T00:00:00\",\"2022-03-02T00:00:00\",\"2022-03-03T00:00:00\",\"2022-03-04T00:00:00\",\"2022-03-05T00:00:00\",\"2022-03-06T00:00:00\",\"2022-03-07T00:00:00\",\"2022-03-08T00:00:00\",\"2022-03-09T00:00:00\",\"2022-03-10T00:00:00\",\"2022-03-11T00:00:00\",\"2022-03-12T00:00:00\",\"2022-03-13T00:00:00\",\"2022-03-14T00:00:00\",\"2022-03-15T00:00:00\",\"2022-03-16T00:00:00\",\"2022-03-17T00:00:00\",\"2022-03-18T00:00:00\",\"2022-03-19T00:00:00\",\"2022-03-20T00:00:00\",\"2022-03-21T00:00:00\",\"2022-03-22T00:00:00\",\"2022-03-23T00:00:00\",\"2022-03-24T00:00:00\",\"2022-03-25T00:00:00\",\"2022-03-26T00:00:00\",\"2022-03-27T00:00:00\",\"2022-03-28T00:00:00\",\"2022-03-29T00:00:00\",\"2022-03-30T00:00:00\",\"2022-03-31T00:00:00\"],\"y\":[61004.41,63226.4,62970.05,61452.23,61125.67,61527.48,63326.99,67566.83,66971.83,64995.23,64949.96,64155.94,64469.53,65466.84,63557.87,60161.25,60368.01,56942.14,58119.58,59697.2,58730.48,56289.29,57569.07,57206.37,58927.89,53569.76,54815.08,57248.46,57806.57,57005.43,57229.83,56477.82,53598.25,49200.7,49368.85,50582.63,50700.08,50504.8,47672.12,47243.31,49362.51,50098.34,46737.48,48383.87,48896.72,47665.43,46202.14,46848.78,46848.78,46707.01,46707.01,46880.28,46880.28,48936.61,48936.61,48628.51,48628.51,50784.54,50822.2,50429.86,50809.52,50640.42,47588.85,46444.71,47178.13,46306.45,47686.81,47345.22,46458.12,45897.58,43569.0,43160.93,41557.9,41733.94,41911.6,41821.26,42735.85,43949.1,42591.57,43099.7,43177.4,43113.88,42250.55,42375.63,41744.33,40680.42,36457.32,35030.25,36276.8,36654.33,36954.0,36852.12,37138.23,37784.33,38138.18,37917.6,38483.13,38743.27,36952.98,37154.6,41500.88,41441.16,42412.43,43840.29,44118.45,44338.8,43565.11,42407.94,42244.47,42197.52,42586.92,43961.86,40538.01,40030.98,40122.15,38431.38,37075.28,38286.03,37296.57,38332.61,39214.22,39105.15,37709.78,43193.23,44354.64,43924.12,42451.79,39137.6,39400.58,38419.98,38062.04,38737.27,41982.93,39437.46,38794.97,38904.01,37849.66,39666.76,39338.79,41143.93,40951.38,41801.15,42190.65,41247.82,41078.0,42358.81,42892.96,43960.93,44348.73,44500.83,46820.49,47128.01,47465.73,47062.66,45538.68],\"type\":\"scatter\"}],                        {\"template\":{\"data\":{\"histogram2dcontour\":[{\"type\":\"histogram2dcontour\",\"colorbar\":{\"outlinewidth\":0,\"ticks\":\"\"},\"colorscale\":[[0.0,\"#0d0887\"],[0.1111111111111111,\"#46039f\"],[0.2222222222222222,\"#7201a8\"],[0.3333333333333333,\"#9c179e\"],[0.4444444444444444,\"#bd3786\"],[0.5555555555555556,\"#d8576b\"],[0.6666666666666666,\"#ed7953\"],[0.7777777777777778,\"#fb9f3a\"],[0.8888888888888888,\"#fdca26\"],[1.0,\"#f0f921\"]]}],\"choropleth\":[{\"type\":\"choropleth\",\"colorbar\":{\"outlinewidth\":0,\"ticks\":\"\"}}],\"histogram2d\":[{\"type\":\"histogram2d\",\"colorbar\":{\"outlinewidth\":0,\"ticks\":\"\"},\"colorscale\":[[0.0,\"#0d0887\"],[0.1111111111111111,\"#46039f\"],[0.2222222222222222,\"#7201a8\"],[0.3333333333333333,\"#9c179e\"],[0.4444444444444444,\"#bd3786\"],[0.5555555555555556,\"#d8576b\"],[0.6666666666666666,\"#ed7953\"],[0.7777777777777778,\"#fb9f3a\"],[0.8888888888888888,\"#fdca26\"],[1.0,\"#f0f921\"]]}],\"heatmap\":[{\"type\":\"heatmap\",\"colorbar\":{\"outlinewidth\":0,\"ticks\":\"\"},\"colorscale\":[[0.0,\"#0d0887\"],[0.1111111111111111,\"#46039f\"],[0.2222222222222222,\"#7201a8\"],[0.3333333333333333,\"#9c179e\"],[0.4444444444444444,\"#bd3786\"],[0.5555555555555556,\"#d8576b\"],[0.6666666666666666,\"#ed7953\"],[0.7777777777777778,\"#fb9f3a\"],[0.8888888888888888,\"#fdca26\"],[1.0,\"#f0f921\"]]}],\"heatmapgl\":[{\"type\":\"heatmapgl\",\"colorbar\":{\"outlinewidth\":0,\"ticks\":\"\"},\"colorscale\":[[0.0,\"#0d0887\"],[0.1111111111111111,\"#46039f\"],[0.2222222222222222,\"#7201a8\"],[0.3333333333333333,\"#9c179e\"],[0.4444444444444444,\"#bd3786\"],[0.5555555555555556,\"#d8576b\"],[0.6666666666666666,\"#ed7953\"],[0.7777777777777778,\"#fb9f3a\"],[0.8888888888888888,\"#fdca26\"],[1.0,\"#f0f921\"]]}],\"contourcarpet\":[{\"type\":\"contourcarpet\",\"colorbar\":{\"outlinewidth\":0,\"ticks\":\"\"}}],\"contour\":[{\"type\":\"contour\",\"colorbar\":{\"outlinewidth\":0,\"ticks\":\"\"},\"colorscale\":[[0.0,\"#0d0887\"],[0.1111111111111111,\"#46039f\"],[0.2222222222222222,\"#7201a8\"],[0.3333333333333333,\"#9c179e\"],[0.4444444444444444,\"#bd3786\"],[0.5555555555555556,\"#d8576b\"],[0.6666666666666666,\"#ed7953\"],[0.7777777777777778,\"#fb9f3a\"],[0.8888888888888888,\"#fdca26\"],[1.0,\"#f0f921\"]]}],\"surface\":[{\"type\":\"surface\",\"colorbar\":{\"outlinewidth\":0,\"ticks\":\"\"},\"colorscale\":[[0.0,\"#0d0887\"],[0.1111111111111111,\"#46039f\"],[0.2222222222222222,\"#7201a8\"],[0.3333333333333333,\"#9c179e\"],[0.4444444444444444,\"#bd3786\"],[0.5555555555555556,\"#d8576b\"],[0.6666666666666666,\"#ed7953\"],[0.7777777777777778,\"#fb9f3a\"],[0.8888888888888888,\"#fdca26\"],[1.0,\"#f0f921\"]]}],\"mesh3d\":[{\"type\":\"mesh3d\",\"colorbar\":{\"outlinewidth\":0,\"ticks\":\"\"}}],\"scatter\":[{\"fillpattern\":{\"fillmode\":\"overlay\",\"size\":10,\"solidity\":0.2},\"type\":\"scatter\"}],\"parcoords\":[{\"type\":\"parcoords\",\"line\":{\"colorbar\":{\"outlinewidth\":0,\"ticks\":\"\"}}}],\"scatterpolargl\":[{\"type\":\"scatterpolargl\",\"marker\":{\"colorbar\":{\"outlinewidth\":0,\"ticks\":\"\"}}}],\"bar\":[{\"error_x\":{\"color\":\"#2a3f5f\"},\"error_y\":{\"color\":\"#2a3f5f\"},\"marker\":{\"line\":{\"color\":\"#E5ECF6\",\"width\":0.5},\"pattern\":{\"fillmode\":\"overlay\",\"size\":10,\"solidity\":0.2}},\"type\":\"bar\"}],\"scattergeo\":[{\"type\":\"scattergeo\",\"marker\":{\"colorbar\":{\"outlinewidth\":0,\"ticks\":\"\"}}}],\"scatterpolar\":[{\"type\":\"scatterpolar\",\"marker\":{\"colorbar\":{\"outlinewidth\":0,\"ticks\":\"\"}}}],\"histogram\":[{\"marker\":{\"pattern\":{\"fillmode\":\"overlay\",\"size\":10,\"solidity\":0.2}},\"type\":\"histogram\"}],\"scattergl\":[{\"type\":\"scattergl\",\"marker\":{\"colorbar\":{\"outlinewidth\":0,\"ticks\":\"\"}}}],\"scatter3d\":[{\"type\":\"scatter3d\",\"line\":{\"colorbar\":{\"outlinewidth\":0,\"ticks\":\"\"}},\"marker\":{\"colorbar\":{\"outlinewidth\":0,\"ticks\":\"\"}}}],\"scattermapbox\":[{\"type\":\"scattermapbox\",\"marker\":{\"colorbar\":{\"outlinewidth\":0,\"ticks\":\"\"}}}],\"scatterternary\":[{\"type\":\"scatterternary\",\"marker\":{\"colorbar\":{\"outlinewidth\":0,\"ticks\":\"\"}}}],\"scattercarpet\":[{\"type\":\"scattercarpet\",\"marker\":{\"colorbar\":{\"outlinewidth\":0,\"ticks\":\"\"}}}],\"carpet\":[{\"aaxis\":{\"endlinecolor\":\"#2a3f5f\",\"gridcolor\":\"white\",\"linecolor\":\"white\",\"minorgridcolor\":\"white\",\"startlinecolor\":\"#2a3f5f\"},\"baxis\":{\"endlinecolor\":\"#2a3f5f\",\"gridcolor\":\"white\",\"linecolor\":\"white\",\"minorgridcolor\":\"white\",\"startlinecolor\":\"#2a3f5f\"},\"type\":\"carpet\"}],\"table\":[{\"cells\":{\"fill\":{\"color\":\"#EBF0F8\"},\"line\":{\"color\":\"white\"}},\"header\":{\"fill\":{\"color\":\"#C8D4E3\"},\"line\":{\"color\":\"white\"}},\"type\":\"table\"}],\"barpolar\":[{\"marker\":{\"line\":{\"color\":\"#E5ECF6\",\"width\":0.5},\"pattern\":{\"fillmode\":\"overlay\",\"size\":10,\"solidity\":0.2}},\"type\":\"barpolar\"}],\"pie\":[{\"automargin\":true,\"type\":\"pie\"}]},\"layout\":{\"autotypenumbers\":\"strict\",\"colorway\":[\"#636efa\",\"#EF553B\",\"#00cc96\",\"#ab63fa\",\"#FFA15A\",\"#19d3f3\",\"#FF6692\",\"#B6E880\",\"#FF97FF\",\"#FECB52\"],\"font\":{\"color\":\"#2a3f5f\"},\"hovermode\":\"closest\",\"hoverlabel\":{\"align\":\"left\"},\"paper_bgcolor\":\"white\",\"plot_bgcolor\":\"#E5ECF6\",\"polar\":{\"bgcolor\":\"#E5ECF6\",\"angularaxis\":{\"gridcolor\":\"white\",\"linecolor\":\"white\",\"ticks\":\"\"},\"radialaxis\":{\"gridcolor\":\"white\",\"linecolor\":\"white\",\"ticks\":\"\"}},\"ternary\":{\"bgcolor\":\"#E5ECF6\",\"aaxis\":{\"gridcolor\":\"white\",\"linecolor\":\"white\",\"ticks\":\"\"},\"baxis\":{\"gridcolor\":\"white\",\"linecolor\":\"white\",\"ticks\":\"\"},\"caxis\":{\"gridcolor\":\"white\",\"linecolor\":\"white\",\"ticks\":\"\"}},\"coloraxis\":{\"colorbar\":{\"outlinewidth\":0,\"ticks\":\"\"}},\"colorscale\":{\"sequential\":[[0.0,\"#0d0887\"],[0.1111111111111111,\"#46039f\"],[0.2222222222222222,\"#7201a8\"],[0.3333333333333333,\"#9c179e\"],[0.4444444444444444,\"#bd3786\"],[0.5555555555555556,\"#d8576b\"],[0.6666666666666666,\"#ed7953\"],[0.7777777777777778,\"#fb9f3a\"],[0.8888888888888888,\"#fdca26\"],[1.0,\"#f0f921\"]],\"sequentialminus\":[[0.0,\"#0d0887\"],[0.1111111111111111,\"#46039f\"],[0.2222222222222222,\"#7201a8\"],[0.3333333333333333,\"#9c179e\"],[0.4444444444444444,\"#bd3786\"],[0.5555555555555556,\"#d8576b\"],[0.6666666666666666,\"#ed7953\"],[0.7777777777777778,\"#fb9f3a\"],[0.8888888888888888,\"#fdca26\"],[1.0,\"#f0f921\"]],\"diverging\":[[0,\"#8e0152\"],[0.1,\"#c51b7d\"],[0.2,\"#de77ae\"],[0.3,\"#f1b6da\"],[0.4,\"#fde0ef\"],[0.5,\"#f7f7f7\"],[0.6,\"#e6f5d0\"],[0.7,\"#b8e186\"],[0.8,\"#7fbc41\"],[0.9,\"#4d9221\"],[1,\"#276419\"]]},\"xaxis\":{\"gridcolor\":\"white\",\"linecolor\":\"white\",\"ticks\":\"\",\"title\":{\"standoff\":15},\"zerolinecolor\":\"white\",\"automargin\":true,\"zerolinewidth\":2},\"yaxis\":{\"gridcolor\":\"white\",\"linecolor\":\"white\",\"ticks\":\"\",\"title\":{\"standoff\":15},\"zerolinecolor\":\"white\",\"automargin\":true,\"zerolinewidth\":2},\"scene\":{\"xaxis\":{\"backgroundcolor\":\"#E5ECF6\",\"gridcolor\":\"white\",\"linecolor\":\"white\",\"showbackground\":true,\"ticks\":\"\",\"zerolinecolor\":\"white\",\"gridwidth\":2},\"yaxis\":{\"backgroundcolor\":\"#E5ECF6\",\"gridcolor\":\"white\",\"linecolor\":\"white\",\"showbackground\":true,\"ticks\":\"\",\"zerolinecolor\":\"white\",\"gridwidth\":2},\"zaxis\":{\"backgroundcolor\":\"#E5ECF6\",\"gridcolor\":\"white\",\"linecolor\":\"white\",\"showbackground\":true,\"ticks\":\"\",\"zerolinecolor\":\"white\",\"gridwidth\":2}},\"shapedefaults\":{\"line\":{\"color\":\"#2a3f5f\"}},\"annotationdefaults\":{\"arrowcolor\":\"#2a3f5f\",\"arrowhead\":0,\"arrowwidth\":1},\"geo\":{\"bgcolor\":\"white\",\"landcolor\":\"#E5ECF6\",\"subunitcolor\":\"white\",\"showland\":true,\"showlakes\":true,\"lakecolor\":\"white\"},\"title\":{\"x\":0.05},\"mapbox\":{\"style\":\"light\"}}},\"showlegend\":false,\"updatemenus\":[{\"buttons\":[{\"args\":[{\"y\":[[60510.61,60511.61,60520.88,60490.05,60429.59,60386.38,60235.23,60129.57,60110.88,60046.45,59929.6,59734.43,59680.05,59570.67,59361.26,59149.52,57661.04791466951,59819.25548979052,59133.76529466962,58969.97120840129,59311.79499957117,57351.486921224365,60656.27170124512,60637.01233040125,58115.75867409253,60017.70002177462,57645.46,57115.55,56952.53,56952.53,57467.62340392929,54820.620940115376,57999.53996421357,58116.479288717215,56773.94,56496.41,56155.33,56015.7,55802.43,55564.75,55297.97,54840.77,54664.42,54482.73,53492.76942390634,56409.48647238161,54311.95,54208.27,54038.4,54000.0,53837.49,54987.80016815829,53696.73,52115.8980618307,53574.16,53399.69,53310.18,53470.07347619284,53031.81,52916.98,52787.8,52617.96,52500.0,54196.61402568532,52362.14,52098.07,49988.09186623101,52000.0,51773.3,52224.18685914033,50152.2105971224,49633.86579437773,49721.80304848105,50411.72577889659,52603.94090489661,50603.93592700215,49622.97599211039,52088.17812465473,53879.04621765664,50353.71195166939,50163.05727907556,52519.80490635881,52416.55675822392,52640.329716467095,49741.18848814997,52681.22433436646,49762.32508679301,49957.73515052124,53727.32941322561,51488.82621629057,52008.47967213492,49274.97931762573,52185.66326422792,53131.57656452613,49110.96,48000.0,46440.473807022965,45861.25430902028,48147.97676295459,48962.12401549512,48432.89242770572,50310.17292021955,48248.92015125781,46685.54850489543,48232.42836115492,50260.57145303068,49756.8795411132,49142.680117809,46566.64437988678,46234.19837345775,48238.06404883945,48022.24],[61004.41,63226.4,62970.05,61452.23,61125.67,61527.48,63326.99,67566.83,66971.83,64995.23,64949.96,64155.94,64469.53,65466.84,63557.87,60161.25,60368.01,56942.14,58119.58,59697.2,58730.48,56289.29,57569.07,57206.37,58927.89,53569.76,54815.08,57248.46,57806.57,57005.43,57229.83,56477.82,53598.25,49200.7,49368.85,50582.63,50700.08,50504.8,47672.12,47243.31,49362.51,50098.34,46737.48,48383.87,48896.72,47665.43,46202.14,46848.78,46848.78,46707.01,46707.01,46880.28,46880.28,48936.61,48936.61,48628.51,48628.51,50784.54,50822.2,50429.86,50809.52,50640.42,47588.85,46444.71,47178.13,46306.45,47686.81,47345.22,46458.12,45897.58,43569.0,43160.93,41557.9,41733.94,41911.6,41821.26,42735.85,43949.1,42591.57,43099.7,43177.4,43113.88,42250.55,42375.63,41744.33,40680.42,36457.32,35030.25,36276.8,36654.33,36954.0,36852.12,37138.23,37784.33,38138.18,37917.6,38483.13,38743.27,36952.98,37154.6,41500.88,41441.16,42412.43,43840.29,44118.45,44338.8,43565.11,42407.94,42244.47,42197.52,42586.92,43961.86,40538.01,40030.98,40122.15,38431.38,37075.28,38286.03,37296.57,38332.61,39214.22,39105.15,37709.78,43193.23,44354.64,43924.12,42451.79,39137.6,39400.58,38419.98,38062.04,38737.27,41982.93,39437.46,38794.97,38904.01,37849.66,39666.76,39338.79,41143.93,40951.38,41801.15,42190.65,41247.82,41078.0,42358.81,42892.96,43960.93,44348.73,44500.83,46820.49,47128.01,47465.73,47062.66,45538.68]],\"x\":[[\"2021-11-19T00:00:00\",\"2021-11-20T00:00:00\",\"2021-11-21T00:00:00\",\"2021-11-22T00:00:00\",\"2021-11-23T00:00:00\",\"2021-11-24T00:00:00\",\"2021-11-30T00:00:00\",\"2021-12-01T00:00:00\",\"2021-12-02T00:00:00\",\"2021-12-03T00:00:00\",\"2021-12-04T00:00:00\",\"2021-12-05T00:00:00\",\"2021-12-06T00:00:00\",\"2021-12-07T00:00:00\",\"2021-12-08T00:00:00\",\"2021-12-09T00:00:00\",\"2021-12-10T00:00:00\",\"2021-12-11T00:00:00\",\"2021-12-12T00:00:00\",\"2021-12-13T00:00:00\",\"2021-12-14T00:00:00\",\"2021-12-15T00:00:00\",\"2021-12-16T00:00:00\",\"2021-12-17T00:00:00\",\"2021-12-18T00:00:00\",\"2021-12-19T00:00:00\",\"2021-12-20T00:00:00\",\"2021-12-21T00:00:00\",\"2021-12-22T00:00:00\",\"2021-12-22T00:00:00\",\"2021-12-24T00:00:00\",\"2021-12-25T00:00:00\",\"2021-12-26T00:00:00\",\"2021-12-27T00:00:00\",\"2021-12-28T00:00:00\",\"2021-12-29T00:00:00\",\"2021-12-31T00:00:00\",\"2022-01-01T00:00:00\",\"2022-01-02T00:00:00\",\"2022-01-03T00:00:00\",\"2022-01-04T00:00:00\",\"2022-01-05T00:00:00\",\"2022-01-06T00:00:00\",\"2022-01-07T00:00:00\",\"2022-01-08T00:00:00\",\"2022-01-09T00:00:00\",\"2022-01-10T00:00:00\",\"2022-01-11T00:00:00\",\"2022-01-12T00:00:00\",\"2022-01-13T00:00:00\",\"2022-01-14T00:00:00\",\"2022-01-15T00:00:00\",\"2022-01-16T00:00:00\",\"2022-01-17T00:00:00\",\"2022-01-17T00:00:00\",\"2022-01-19T00:00:00\",\"2022-01-20T00:00:00\",\"2022-01-21T00:00:00\",\"2022-01-22T00:00:00\",\"2022-01-23T00:00:00\",\"2022-01-24T00:00:00\",\"2022-01-25T00:00:00\",\"2022-01-26T00:00:00\",\"2022-01-27T00:00:00\",\"2022-01-27T00:00:00\",\"2022-01-29T00:00:00\",\"2022-01-30T00:00:00\",\"2022-01-31T00:00:00\",\"2022-02-01T00:00:00\",\"2022-02-02T00:00:00\",\"2022-02-03T00:00:00\",\"2022-02-04T00:00:00\",\"2022-02-05T00:00:00\",\"2022-02-06T00:00:00\",\"2022-02-07T00:00:00\",\"2022-02-08T00:00:00\",\"2022-02-09T00:00:00\",\"2022-02-10T00:00:00\",\"2022-02-11T00:00:00\",\"2022-02-12T00:00:00\",\"2022-02-13T00:00:00\",\"2022-02-14T00:00:00\",\"2022-02-15T00:00:00\",\"2022-02-16T00:00:00\",\"2022-02-17T00:00:00\",\"2022-02-18T00:00:00\",\"2022-02-19T00:00:00\",\"2022-02-20T00:00:00\",\"2022-02-21T00:00:00\",\"2022-02-22T00:00:00\",\"2022-02-23T00:00:00\",\"2022-02-24T00:00:00\",\"2022-02-25T00:00:00\",\"2022-02-26T00:00:00\",\"2022-02-27T00:00:00\",\"2022-03-06T00:00:00\",\"2022-03-07T00:00:00\",\"2022-03-08T00:00:00\",\"2022-03-09T00:00:00\",\"2022-03-10T00:00:00\",\"2022-03-11T00:00:00\",\"2022-03-12T00:00:00\",\"2022-03-13T00:00:00\",\"2022-03-14T00:00:00\",\"2022-03-15T00:00:00\",\"2022-03-16T00:00:00\",\"2022-03-17T00:00:00\",\"2022-03-18T00:00:00\",\"2022-03-19T00:00:00\",\"2022-03-20T00:00:00\",\"2022-03-21T00:00:00\",\"2022-03-22T00:00:00\"],[\"2021-11-01T00:00:00\",\"2021-11-02T00:00:00\",\"2021-11-03T00:00:00\",\"2021-11-04T00:00:00\",\"2021-11-05T00:00:00\",\"2021-11-06T00:00:00\",\"2021-11-07T00:00:00\",\"2021-11-08T00:00:00\",\"2021-11-09T00:00:00\",\"2021-11-10T00:00:00\",\"2021-11-11T00:00:00\",\"2021-11-12T00:00:00\",\"2021-11-13T00:00:00\",\"2021-11-14T00:00:00\",\"2021-11-15T00:00:00\",\"2021-11-16T00:00:00\",\"2021-11-17T00:00:00\",\"2021-11-18T00:00:00\",\"2021-11-19T00:00:00\",\"2021-11-20T00:00:00\",\"2021-11-21T00:00:00\",\"2021-11-22T00:00:00\",\"2021-11-23T00:00:00\",\"2021-11-24T00:00:00\",\"2021-11-25T00:00:00\",\"2021-11-26T00:00:00\",\"2021-11-27T00:00:00\",\"2021-11-28T00:00:00\",\"2021-11-29T00:00:00\",\"2021-11-30T00:00:00\",\"2021-12-01T00:00:00\",\"2021-12-02T00:00:00\",\"2021-12-03T00:00:00\",\"2021-12-04T00:00:00\",\"2021-12-05T00:00:00\",\"2021-12-06T00:00:00\",\"2021-12-07T00:00:00\",\"2021-12-08T00:00:00\",\"2021-12-09T00:00:00\",\"2021-12-10T00:00:00\",\"2021-12-11T00:00:00\",\"2021-12-12T00:00:00\",\"2021-12-13T00:00:00\",\"2021-12-14T00:00:00\",\"2021-12-15T00:00:00\",\"2021-12-16T00:00:00\",\"2021-12-17T00:00:00\",\"2021-12-18T00:00:00\",\"2021-12-18T00:00:00\",\"2021-12-19T00:00:00\",\"2021-12-19T00:00:00\",\"2021-12-20T00:00:00\",\"2021-12-20T00:00:00\",\"2021-12-21T00:00:00\",\"2021-12-21T00:00:00\",\"2021-12-22T00:00:00\",\"2021-12-22T00:00:00\",\"2021-12-23T00:00:00\",\"2021-12-24T00:00:00\",\"2021-12-25T00:00:00\",\"2021-12-26T00:00:00\",\"2021-12-27T00:00:00\",\"2021-12-28T00:00:00\",\"2021-12-29T00:00:00\",\"2021-12-30T00:00:00\",\"2021-12-31T00:00:00\",\"2022-01-01T00:00:00\",\"2022-01-02T00:00:00\",\"2022-01-03T00:00:00\",\"2022-01-04T00:00:00\",\"2022-01-05T00:00:00\",\"2022-01-06T00:00:00\",\"2022-01-07T00:00:00\",\"2022-01-08T00:00:00\",\"2022-01-09T00:00:00\",\"2022-01-10T00:00:00\",\"2022-01-11T00:00:00\",\"2022-01-12T00:00:00\",\"2022-01-13T00:00:00\",\"2022-01-14T00:00:00\",\"2022-01-15T00:00:00\",\"2022-01-16T00:00:00\",\"2022-01-17T00:00:00\",\"2022-01-18T00:00:00\",\"2022-01-19T00:00:00\",\"2022-01-20T00:00:00\",\"2022-01-21T00:00:00\",\"2022-01-22T00:00:00\",\"2022-01-23T00:00:00\",\"2022-01-24T00:00:00\",\"2022-01-25T00:00:00\",\"2022-01-26T00:00:00\",\"2022-01-27T00:00:00\",\"2022-01-28T00:00:00\",\"2022-01-29T00:00:00\",\"2022-01-30T00:00:00\",\"2022-01-31T00:00:00\",\"2022-02-01T00:00:00\",\"2022-02-02T00:00:00\",\"2022-02-03T00:00:00\",\"2022-02-04T00:00:00\",\"2022-02-05T00:00:00\",\"2022-02-06T00:00:00\",\"2022-02-07T00:00:00\",\"2022-02-08T00:00:00\",\"2022-02-09T00:00:00\",\"2022-02-10T00:00:00\",\"2022-02-11T00:00:00\",\"2022-02-12T00:00:00\",\"2022-02-13T00:00:00\",\"2022-02-14T00:00:00\",\"2022-02-16T00:00:00\",\"2022-02-17T00:00:00\",\"2022-02-18T00:00:00\",\"2022-02-19T00:00:00\",\"2022-02-20T00:00:00\",\"2022-02-21T00:00:00\",\"2022-02-22T00:00:00\",\"2022-02-23T00:00:00\",\"2022-02-24T00:00:00\",\"2022-02-25T00:00:00\",\"2022-02-26T00:00:00\",\"2022-02-27T00:00:00\",\"2022-02-28T00:00:00\",\"2022-03-01T00:00:00\",\"2022-03-02T00:00:00\",\"2022-03-03T00:00:00\",\"2022-03-04T00:00:00\",\"2022-03-05T00:00:00\",\"2022-03-06T00:00:00\",\"2022-03-07T00:00:00\",\"2022-03-08T00:00:00\",\"2022-03-09T00:00:00\",\"2022-03-10T00:00:00\",\"2022-03-11T00:00:00\",\"2022-03-12T00:00:00\",\"2022-03-13T00:00:00\",\"2022-03-14T00:00:00\",\"2022-03-15T00:00:00\",\"2022-03-16T00:00:00\",\"2022-03-17T00:00:00\",\"2022-03-18T00:00:00\",\"2022-03-19T00:00:00\",\"2022-03-20T00:00:00\",\"2022-03-21T00:00:00\",\"2022-03-22T00:00:00\",\"2022-03-23T00:00:00\",\"2022-03-24T00:00:00\",\"2022-03-25T00:00:00\",\"2022-03-26T00:00:00\",\"2022-03-27T00:00:00\",\"2022-03-28T00:00:00\",\"2022-03-29T00:00:00\",\"2022-03-30T00:00:00\",\"2022-03-31T00:00:00\"]],\"type\":\"scatter\",\"title\":[\"Predication\",\"Real price\"]}],\"label\":\"BTC\",\"method\":\"restyle\",\"visible\":true},{\"args\":[{\"y\":[[3977.51,3991.23,4000.0,4006.3,4014.33,4031.8,4068.57,4073.53,4079.3,4100.65,4104.81,4114.68,4125.21,4130.59,4138.87,4149.18,4152.82,4163.59,4171.1,4171.71,4041.784216545401,4319.234771520648,4079.7023081576194,4095.9390901642832,4343.388964687515,4277.023667209578,4157.637395618057,4273.785270654962,4316.744782151585,4302.565582463596,4160.0,4164.0,4159.26,4159.26,4197.097742765914,4037.371300199926,4194.550587976735,4278.1817489595005,4161.37,4158.59,4150.73,4146.18,4141.43,4137.54,4134.94,4122.06,4116.98,4111.65,4104.59124035582,4048.676831019395,4106.53,4102.8,4096.67,4094.38,4085.2,3974.37735667239,4080.29,4047.434444329681,4076.97,4069.21,4064.9,4082.185985330169,4054.38,4048.22,4042.78,4031.84,4022.69,3827.188085542437,4013.88,4001.11,4099.288335418918,4000.0,3990.0,4140.816432947148,3800.001714159324,4050.179601376088,3977.030174587836,3981.360986334724,3905.0316161973706,4128.301971395777,4173.526749912257,3825.569776311247,3914.938838087365,3988.428328609214,4048.5914723212672,4076.493522731402,3866.0027696282978,3853.9975316814657,3999.047349694404,3848.279838642559,4000.157710926693,4064.74076489775,3857.6290863182776,3857.486293375364,4056.670443317453,4071.422245014841,4072.90986443806,3845.486969715895,3637.64,3502.68,3551.130304057452,3506.403240424894,3336.0785535094,3539.8079529038623,3511.588161324172,3426.783888313912,3549.5849143286496,3432.565815936138,3671.952092880051,3468.1766703625067,3360.099887217076,3665.809427666536,3640.285641280562,3509.948508777509,3582.786705147608,3539.98],[4324.63,4584.8,4607.19,4537.32,4486.24,4521.58,4620.55,4812.09,4735.07,4636.17,4730.38,4667.12,4651.46,4626.36,4557.5,4216.37,4287.59,4000.65,4298.31,4409.93,4269.73,4088.46,4340.76,4276.04,4519.46,4030.91,4096.91,4294.45,4445.11,4631.48,4586.99,4511.3,4220.71,4119.59,4198.32,4358.74,4315.06,4439.36,4119.82,3908.5,4084.45,4134.45,3784.23,3859.71,4018.39,3962.47,3879.49,3960.86,3960.86,3922.59,3922.59,3933.84,3933.84,4020.26,4020.26,3982.1,3982.1,4108.02,4047.98,4093.28,4067.33,4037.55,3800.89,3628.53,3713.85,3682.63,3769.7,3829.57,3761.38,3794.06,3550.39,3418.41,3193.21,3091.97,3157.75,3083.1,3238.11,3372.26,3248.29,3310.0,3330.53,3350.92,3212.3,3164.03,3095.83,3001.12,2557.93,2405.18,2535.04,2440.35,2455.93,2468.03,2423.0,2547.09,2597.08,2603.47,2688.28,2792.12,2682.85,2679.16,2983.59,3014.65,3057.48,3142.47,3122.61,3239.46,3077.48,2927.38,2917.36,2883.46,2933.48,3127.83,2881.48,2785.73,2763.7,2628.65,2573.82,2639.3,2590.36,2598.07,2764.54,2781.11,2621.8,2919.2,2972.49,2950.12,2834.47,2617.16,2664.83,2555.04,2497.77,2576.75,2729.78,2608.05,2559.56,2574.75,2518.94,2590.7,2620.15,2772.06,2814.85,2945.34,2946.26,2860.46,2897.98,2973.13,3031.07,3108.06,3106.67,3143.18,3291.58,3336.63,3401.99,3385.16,3281.64]],\"x\":[[\"2021-11-19T00:00:00\",\"2021-11-20T00:00:00\",\"2021-11-21T00:00:00\",\"2021-11-22T00:00:00\",\"2021-11-23T00:00:00\",\"2021-11-24T00:00:00\",\"2021-11-26T00:00:00\",\"2021-11-27T00:00:00\",\"2021-11-28T00:00:00\",\"2021-11-29T00:00:00\",\"2021-11-30T00:00:00\",\"2021-12-01T00:00:00\",\"2021-12-02T00:00:00\",\"2021-12-03T00:00:00\",\"2021-12-04T00:00:00\",\"2021-12-05T00:00:00\",\"2021-12-06T00:00:00\",\"2021-12-07T00:00:00\",\"2021-12-08T00:00:00\",\"2021-12-09T00:00:00\",\"2021-12-10T00:00:00\",\"2021-12-11T00:00:00\",\"2021-12-12T00:00:00\",\"2021-12-13T00:00:00\",\"2021-12-14T00:00:00\",\"2021-12-15T00:00:00\",\"2021-12-16T00:00:00\",\"2021-12-17T00:00:00\",\"2021-12-18T00:00:00\",\"2021-12-19T00:00:00\",\"2021-12-20T00:00:00\",\"2021-12-21T00:00:00\",\"2021-12-22T00:00:00\",\"2021-12-22T00:00:00\",\"2021-12-24T00:00:00\",\"2021-12-25T00:00:00\",\"2021-12-26T00:00:00\",\"2021-12-27T00:00:00\",\"2021-12-28T00:00:00\",\"2021-12-29T00:00:00\",\"2021-12-31T00:00:00\",\"2022-01-01T00:00:00\",\"2022-01-02T00:00:00\",\"2022-01-03T00:00:00\",\"2022-01-04T00:00:00\",\"2022-01-05T00:00:00\",\"2022-01-06T00:00:00\",\"2022-01-07T00:00:00\",\"2022-01-08T00:00:00\",\"2022-01-09T00:00:00\",\"2022-01-10T00:00:00\",\"2022-01-11T00:00:00\",\"2022-01-12T00:00:00\",\"2022-01-13T00:00:00\",\"2022-01-14T00:00:00\",\"2022-01-15T00:00:00\",\"2022-01-16T00:00:00\",\"2022-01-17T00:00:00\",\"2022-01-17T00:00:00\",\"2022-01-19T00:00:00\",\"2022-01-20T00:00:00\",\"2022-01-21T00:00:00\",\"2022-01-22T00:00:00\",\"2022-01-23T00:00:00\",\"2022-01-24T00:00:00\",\"2022-01-25T00:00:00\",\"2022-01-26T00:00:00\",\"2022-01-27T00:00:00\",\"2022-01-27T00:00:00\",\"2022-01-29T00:00:00\",\"2022-01-30T00:00:00\",\"2022-01-31T00:00:00\",\"2022-02-01T00:00:00\",\"2022-02-02T00:00:00\",\"2022-02-03T00:00:00\",\"2022-02-04T00:00:00\",\"2022-02-05T00:00:00\",\"2022-02-06T00:00:00\",\"2022-02-07T00:00:00\",\"2022-02-08T00:00:00\",\"2022-02-09T00:00:00\",\"2022-02-10T00:00:00\",\"2022-02-11T00:00:00\",\"2022-02-12T00:00:00\",\"2022-02-13T00:00:00\",\"2022-02-14T00:00:00\",\"2022-02-15T00:00:00\",\"2022-02-16T00:00:00\",\"2022-02-17T00:00:00\",\"2022-02-18T00:00:00\",\"2022-02-19T00:00:00\",\"2022-02-20T00:00:00\",\"2022-02-21T00:00:00\",\"2022-02-22T00:00:00\",\"2022-02-23T00:00:00\",\"2022-02-24T00:00:00\",\"2022-02-25T00:00:00\",\"2022-02-26T00:00:00\",\"2022-02-27T00:00:00\",\"2022-03-06T00:00:00\",\"2022-03-07T00:00:00\",\"2022-03-08T00:00:00\",\"2022-03-09T00:00:00\",\"2022-03-10T00:00:00\",\"2022-03-11T00:00:00\",\"2022-03-12T00:00:00\",\"2022-03-13T00:00:00\",\"2022-03-14T00:00:00\",\"2022-03-15T00:00:00\",\"2022-03-16T00:00:00\",\"2022-03-17T00:00:00\",\"2022-03-18T00:00:00\",\"2022-03-19T00:00:00\",\"2022-03-20T00:00:00\",\"2022-03-21T00:00:00\",\"2022-03-22T00:00:00\"],[\"2021-11-01T00:00:00\",\"2021-11-02T00:00:00\",\"2021-11-03T00:00:00\",\"2021-11-04T00:00:00\",\"2021-11-05T00:00:00\",\"2021-11-06T00:00:00\",\"2021-11-07T00:00:00\",\"2021-11-08T00:00:00\",\"2021-11-09T00:00:00\",\"2021-11-10T00:00:00\",\"2021-11-11T00:00:00\",\"2021-11-12T00:00:00\",\"2021-11-13T00:00:00\",\"2021-11-14T00:00:00\",\"2021-11-15T00:00:00\",\"2021-11-16T00:00:00\",\"2021-11-17T00:00:00\",\"2021-11-18T00:00:00\",\"2021-11-19T00:00:00\",\"2021-11-20T00:00:00\",\"2021-11-21T00:00:00\",\"2021-11-22T00:00:00\",\"2021-11-23T00:00:00\",\"2021-11-24T00:00:00\",\"2021-11-25T00:00:00\",\"2021-11-26T00:00:00\",\"2021-11-27T00:00:00\",\"2021-11-28T00:00:00\",\"2021-11-29T00:00:00\",\"2021-11-30T00:00:00\",\"2021-12-01T00:00:00\",\"2021-12-02T00:00:00\",\"2021-12-03T00:00:00\",\"2021-12-04T00:00:00\",\"2021-12-05T00:00:00\",\"2021-12-06T00:00:00\",\"2021-12-07T00:00:00\",\"2021-12-08T00:00:00\",\"2021-12-09T00:00:00\",\"2021-12-10T00:00:00\",\"2021-12-11T00:00:00\",\"2021-12-12T00:00:00\",\"2021-12-13T00:00:00\",\"2021-12-14T00:00:00\",\"2021-12-15T00:00:00\",\"2021-12-16T00:00:00\",\"2021-12-17T00:00:00\",\"2021-12-18T00:00:00\",\"2021-12-18T00:00:00\",\"2021-12-19T00:00:00\",\"2021-12-19T00:00:00\",\"2021-12-20T00:00:00\",\"2021-12-20T00:00:00\",\"2021-12-21T00:00:00\",\"2021-12-21T00:00:00\",\"2021-12-22T00:00:00\",\"2021-12-22T00:00:00\",\"2021-12-23T00:00:00\",\"2021-12-24T00:00:00\",\"2021-12-25T00:00:00\",\"2021-12-26T00:00:00\",\"2021-12-27T00:00:00\",\"2021-12-28T00:00:00\",\"2021-12-29T00:00:00\",\"2021-12-30T00:00:00\",\"2021-12-31T00:00:00\",\"2022-01-01T00:00:00\",\"2022-01-02T00:00:00\",\"2022-01-03T00:00:00\",\"2022-01-04T00:00:00\",\"2022-01-05T00:00:00\",\"2022-01-06T00:00:00\",\"2022-01-07T00:00:00\",\"2022-01-08T00:00:00\",\"2022-01-09T00:00:00\",\"2022-01-10T00:00:00\",\"2022-01-11T00:00:00\",\"2022-01-12T00:00:00\",\"2022-01-13T00:00:00\",\"2022-01-14T00:00:00\",\"2022-01-15T00:00:00\",\"2022-01-16T00:00:00\",\"2022-01-17T00:00:00\",\"2022-01-18T00:00:00\",\"2022-01-19T00:00:00\",\"2022-01-20T00:00:00\",\"2022-01-21T00:00:00\",\"2022-01-22T00:00:00\",\"2022-01-23T00:00:00\",\"2022-01-24T00:00:00\",\"2022-01-25T00:00:00\",\"2022-01-26T00:00:00\",\"2022-01-27T00:00:00\",\"2022-01-28T00:00:00\",\"2022-01-29T00:00:00\",\"2022-01-30T00:00:00\",\"2022-01-31T00:00:00\",\"2022-02-01T00:00:00\",\"2022-02-02T00:00:00\",\"2022-02-03T00:00:00\",\"2022-02-04T00:00:00\",\"2022-02-05T00:00:00\",\"2022-02-06T00:00:00\",\"2022-02-07T00:00:00\",\"2022-02-08T00:00:00\",\"2022-02-09T00:00:00\",\"2022-02-10T00:00:00\",\"2022-02-11T00:00:00\",\"2022-02-12T00:00:00\",\"2022-02-13T00:00:00\",\"2022-02-14T00:00:00\",\"2022-02-16T00:00:00\",\"2022-02-17T00:00:00\",\"2022-02-18T00:00:00\",\"2022-02-19T00:00:00\",\"2022-02-20T00:00:00\",\"2022-02-21T00:00:00\",\"2022-02-22T00:00:00\",\"2022-02-23T00:00:00\",\"2022-02-24T00:00:00\",\"2022-02-25T00:00:00\",\"2022-02-26T00:00:00\",\"2022-02-27T00:00:00\",\"2022-02-28T00:00:00\",\"2022-03-01T00:00:00\",\"2022-03-02T00:00:00\",\"2022-03-03T00:00:00\",\"2022-03-04T00:00:00\",\"2022-03-05T00:00:00\",\"2022-03-06T00:00:00\",\"2022-03-07T00:00:00\",\"2022-03-08T00:00:00\",\"2022-03-09T00:00:00\",\"2022-03-10T00:00:00\",\"2022-03-11T00:00:00\",\"2022-03-12T00:00:00\",\"2022-03-13T00:00:00\",\"2022-03-14T00:00:00\",\"2022-03-15T00:00:00\",\"2022-03-16T00:00:00\",\"2022-03-17T00:00:00\",\"2022-03-18T00:00:00\",\"2022-03-19T00:00:00\",\"2022-03-20T00:00:00\",\"2022-03-21T00:00:00\",\"2022-03-22T00:00:00\",\"2022-03-23T00:00:00\",\"2022-03-24T00:00:00\",\"2022-03-25T00:00:00\",\"2022-03-26T00:00:00\",\"2022-03-27T00:00:00\",\"2022-03-28T00:00:00\",\"2022-03-29T00:00:00\",\"2022-03-30T00:00:00\",\"2022-03-31T00:00:00\"]],\"type\":\"scatter\",\"title\":[\"Predication\",\"Real price\"]}],\"label\":\"ETH\",\"method\":\"restyle\",\"visible\":true},{\"args\":[{\"y\":[[490.04,490.68,490.68,491.47,492.26,492.41,494.24,494.85,495.15,495.25,495.25,497.03,497.22,498.61,499.66,500.0,500.0,500.35,505.38,507.56,500.170219999158,486.87450786830567,490.3572938532123,491.02989696808913,511.2946580779855,492.9731637487163,509.8528965352875,529.0822799946386,485.9895827615198,492.9606116886958,517.29,518.81,519.0,519.0,526.4549095194436,541.5851544460435,543.0080457037094,521.6910673531513,520.01,520.11,520.91,521.28,521.6,521.8,521.78,520.91,520.34,520.11],[551.26,554.45,568.58,559.74,608.65,636.11,650.45,654.32,635.19,615.28,629.89,626.64,650.1,650.92,633.05,589.82,578.09,532.24,581.53,603.84,585.29,559.13,591.44,590.84,638.72,585.15,600.34,611.37,624.31,622.67,627.97,619.47,594.64,569.08,557.78,589.26,579.69,607.59,571.65,552.97,564.32,570.82,521.01,528.5,541.03,526.25,525.71,533.89,533.89,529.97,529.97,523.16,523.16,528.71,528.71,533.64,533.64,548.73,541.9,547.33,546.99,562.64,534.93,514.0,518.91,511.71,527.35,531.4,512.14,507.51,475.06,473.28,447.79,430.25,438.8,424.93,463.52,487.01,475.03,489.87,494.99,498.43,475.71,472.01,462.82,440.01,383.07,358.1,383.93,371.37,384.62,375.76,390.09,386.08,389.13,377.61,375.28,385.46,367.47,370.88,399.03,414.2,419.55,433.23,408.78,422.47,415.12,400.42,403.39,398.89,403.66,427.92,402.45,399.57,400.04,380.83,356.66,374.31,366.54,361.23,374.91,373.64,360.53,395.61,408.48,409.0,402.55,374.28,384.87,375.01,381.34,381.96,393.56,372.16,372.18,372.73,361.85,373.47,371.63,385.53,391.82,397.65,399.85,390.77,396.45,404.31,408.61,414.13,410.81,415.92,430.5,430.39,434.51,442.68,428.92]],\"x\":[[\"2021-11-19T00:00:00\",\"2021-11-20T00:00:00\",\"2021-11-21T00:00:00\",\"2021-11-22T00:00:00\",\"2021-11-23T00:00:00\",\"2021-11-24T00:00:00\",\"2021-11-26T00:00:00\",\"2021-11-27T00:00:00\",\"2021-11-28T00:00:00\",\"2021-11-29T00:00:00\",\"2021-11-30T00:00:00\",\"2021-12-01T00:00:00\",\"2021-12-02T00:00:00\",\"2021-12-03T00:00:00\",\"2021-12-04T00:00:00\",\"2021-12-05T00:00:00\",\"2021-12-06T00:00:00\",\"2021-12-07T00:00:00\",\"2021-12-08T00:00:00\",\"2021-12-09T00:00:00\",\"2021-12-10T00:00:00\",\"2021-12-11T00:00:00\",\"2021-12-12T00:00:00\",\"2021-12-13T00:00:00\",\"2021-12-14T00:00:00\",\"2021-12-15T00:00:00\",\"2021-12-16T00:00:00\",\"2021-12-17T00:00:00\",\"2021-12-18T00:00:00\",\"2021-12-19T00:00:00\",\"2021-12-20T00:00:00\",\"2021-12-21T00:00:00\",\"2021-12-22T00:00:00\",\"2021-12-22T00:00:00\",\"2021-12-24T00:00:00\",\"2021-12-25T00:00:00\",\"2021-12-26T00:00:00\",\"2021-12-27T00:00:00\",\"2021-12-28T00:00:00\",\"2021-12-29T00:00:00\",\"2021-12-31T00:00:00\",\"2022-01-01T00:00:00\",\"2022-01-02T00:00:00\",\"2022-01-03T00:00:00\",\"2022-01-04T00:00:00\",\"2022-01-05T00:00:00\",\"2022-01-06T00:00:00\",\"2022-01-07T00:00:00\"],[\"2021-11-01T00:00:00\",\"2021-11-02T00:00:00\",\"2021-11-03T00:00:00\",\"2021-11-04T00:00:00\",\"2021-11-05T00:00:00\",\"2021-11-06T00:00:00\",\"2021-11-07T00:00:00\",\"2021-11-08T00:00:00\",\"2021-11-09T00:00:00\",\"2021-11-10T00:00:00\",\"2021-11-11T00:00:00\",\"2021-11-12T00:00:00\",\"2021-11-13T00:00:00\",\"2021-11-14T00:00:00\",\"2021-11-15T00:00:00\",\"2021-11-16T00:00:00\",\"2021-11-17T00:00:00\",\"2021-11-18T00:00:00\",\"2021-11-19T00:00:00\",\"2021-11-20T00:00:00\",\"2021-11-21T00:00:00\",\"2021-11-22T00:00:00\",\"2021-11-23T00:00:00\",\"2021-11-24T00:00:00\",\"2021-11-25T00:00:00\",\"2021-11-26T00:00:00\",\"2021-11-27T00:00:00\",\"2021-11-28T00:00:00\",\"2021-11-29T00:00:00\",\"2021-11-30T00:00:00\",\"2021-12-01T00:00:00\",\"2021-12-02T00:00:00\",\"2021-12-03T00:00:00\",\"2021-12-04T00:00:00\",\"2021-12-05T00:00:00\",\"2021-12-06T00:00:00\",\"2021-12-07T00:00:00\",\"2021-12-08T00:00:00\",\"2021-12-09T00:00:00\",\"2021-12-10T00:00:00\",\"2021-12-11T00:00:00\",\"2021-12-12T00:00:00\",\"2021-12-13T00:00:00\",\"2021-12-14T00:00:00\",\"2021-12-15T00:00:00\",\"2021-12-16T00:00:00\",\"2021-12-17T00:00:00\",\"2021-12-18T00:00:00\",\"2021-12-18T00:00:00\",\"2021-12-19T00:00:00\",\"2021-12-19T00:00:00\",\"2021-12-20T00:00:00\",\"2021-12-20T00:00:00\",\"2021-12-21T00:00:00\",\"2021-12-21T00:00:00\",\"2021-12-22T00:00:00\",\"2021-12-22T00:00:00\",\"2021-12-23T00:00:00\",\"2021-12-24T00:00:00\",\"2021-12-25T00:00:00\",\"2021-12-26T00:00:00\",\"2021-12-27T00:00:00\",\"2021-12-28T00:00:00\",\"2021-12-29T00:00:00\",\"2021-12-30T00:00:00\",\"2021-12-31T00:00:00\",\"2022-01-01T00:00:00\",\"2022-01-02T00:00:00\",\"2022-01-03T00:00:00\",\"2022-01-04T00:00:00\",\"2022-01-05T00:00:00\",\"2022-01-06T00:00:00\",\"2022-01-07T00:00:00\",\"2022-01-08T00:00:00\",\"2022-01-09T00:00:00\",\"2022-01-10T00:00:00\",\"2022-01-11T00:00:00\",\"2022-01-12T00:00:00\",\"2022-01-13T00:00:00\",\"2022-01-14T00:00:00\",\"2022-01-15T00:00:00\",\"2022-01-16T00:00:00\",\"2022-01-17T00:00:00\",\"2022-01-18T00:00:00\",\"2022-01-19T00:00:00\",\"2022-01-20T00:00:00\",\"2022-01-21T00:00:00\",\"2022-01-22T00:00:00\",\"2022-01-23T00:00:00\",\"2022-01-24T00:00:00\",\"2022-01-25T00:00:00\",\"2022-01-26T00:00:00\",\"2022-01-27T00:00:00\",\"2022-01-28T00:00:00\",\"2022-01-29T00:00:00\",\"2022-01-30T00:00:00\",\"2022-01-31T00:00:00\",\"2022-02-01T00:00:00\",\"2022-02-02T00:00:00\",\"2022-02-03T00:00:00\",\"2022-02-04T00:00:00\",\"2022-02-05T00:00:00\",\"2022-02-06T00:00:00\",\"2022-02-07T00:00:00\",\"2022-02-08T00:00:00\",\"2022-02-09T00:00:00\",\"2022-02-10T00:00:00\",\"2022-02-11T00:00:00\",\"2022-02-12T00:00:00\",\"2022-02-13T00:00:00\",\"2022-02-14T00:00:00\",\"2022-02-16T00:00:00\",\"2022-02-17T00:00:00\",\"2022-02-18T00:00:00\",\"2022-02-19T00:00:00\",\"2022-02-20T00:00:00\",\"2022-02-21T00:00:00\",\"2022-02-22T00:00:00\",\"2022-02-23T00:00:00\",\"2022-02-24T00:00:00\",\"2022-02-25T00:00:00\",\"2022-02-26T00:00:00\",\"2022-02-27T00:00:00\",\"2022-02-28T00:00:00\",\"2022-03-01T00:00:00\",\"2022-03-02T00:00:00\",\"2022-03-03T00:00:00\",\"2022-03-04T00:00:00\",\"2022-03-05T00:00:00\",\"2022-03-06T00:00:00\",\"2022-03-07T00:00:00\",\"2022-03-08T00:00:00\",\"2022-03-09T00:00:00\",\"2022-03-10T00:00:00\",\"2022-03-11T00:00:00\",\"2022-03-12T00:00:00\",\"2022-03-13T00:00:00\",\"2022-03-14T00:00:00\",\"2022-03-15T00:00:00\",\"2022-03-16T00:00:00\",\"2022-03-17T00:00:00\",\"2022-03-18T00:00:00\",\"2022-03-19T00:00:00\",\"2022-03-20T00:00:00\",\"2022-03-21T00:00:00\",\"2022-03-22T00:00:00\",\"2022-03-23T00:00:00\",\"2022-03-24T00:00:00\",\"2022-03-25T00:00:00\",\"2022-03-26T00:00:00\",\"2022-03-27T00:00:00\",\"2022-03-28T00:00:00\",\"2022-03-29T00:00:00\",\"2022-03-30T00:00:00\",\"2022-03-31T00:00:00\"]],\"type\":\"scatter\",\"title\":[\"Predication\",\"Real price\"]}],\"label\":\"BNB\",\"method\":\"restyle\",\"visible\":true},{\"args\":[{\"y\":[[165.85,165.9,165.95,166.0,166.04,166.08,166.16,166.22,166.25,166.26,166.38,166.4,166.45,166.47,166.48,166.55,166.66,166.66,166.7,166.76,166.76,173.26201244677907,164.2767413840276,160.09875868293014,171.99355464076888,159.26541633451455,170.37732670046915,164.51625711122108,165.35518094936032,174.8180293103525,174.1038325249735,167.06,167.24,167.24,167.24,164.13444979600493,170.5709308193573,167.7245146993228,175.56682133996088,167.29,167.33,167.47,167.51,167.55,167.6,167.67,167.6,167.57,167.52,171.56432299822455,172.18755888711112,167.44,167.33,167.27,167.25,167.24,174.6259333768011,167.24,160.80842019465192,167.15,167.07,167.06,166.3213041748561,166.9,166.87,166.82,166.78,166.72,159.5381221487059,166.71,166.66,158.3706938087345,166.57,166.4,167.0769357655564,167.01352690233117,165.657966031353,161.03982333258517,173.24157664253408,168.846252141553,164.25261726521796,168.78006823927095,165.8273669222961,169.94346161944588,170.63638228163734,158.93350044456457,160.12782921677066,161.27296275443484,173.6490830110493,170.76170052600284,171.66646525647818,166.89284086370628,162.67965014315828,165.04035501447544,162.2283436019247,163.1839840930723,166.84115287243395,159.45226745550045,158.6811632458541,161.38,156.86,163.17962939672358,158.5450733131694,149.52812404130646,150.25755126223805,154.06221387053498,155.0015771983353,150.85924119580451,153.43356954048411,159.70570337012524,157.56444353265903,157.62313886404806,163.01115899907566,162.92607710542944,150.6446853168186,161.0077550121427,159.02],[203.55,220.24,242.9,247.39,236.47,258.93,249.82,248.47,239.21,233.78,234.24,228.5,241.83,238.43,237.55,219.24,218.72,195.49,215.28,218.02,231.28,215.74,221.84,206.07,209.87,191.51,193.1,200.68,204.32,208.67,229.8,233.99,211.22,201.12,196.17,194.2,190.6,194.62,181.18,167.95,171.95,173.43,155.21,161.29,178.34,176.95,175.5,182.84,182.84,180.1,180.1,173.67,173.67,180.09,180.09,178.6,178.6,190.04,190.27,193.12,198.0,195.43,177.43,170.66,172.75,170.3,178.52,176.38,170.3,167.94,155.1,150.43,136.4,142.51,140.84,135.95,140.18,151.7,146.01,146.16,147.8,147.86,139.93,141.59,135.79,127.21,111.97,94.18,99.58,91.65,94.72,92.24,89.63,91.31,96.22,93.3,99.74,109.98,101.84,101.46,112.17,113.89,115.3,117.36,113.6,114.02,106.2,96.38,95.92,93.24,96.43,101.93,93.41,90.07,91.5,90.9,83.12,86.47,84.9,89.19,92.6,90.14,85.52,99.52,98.65,100.65,95.54,88.25,89.65,84.54,82.13,82.25,88.2,82.94,80.74,81.55,78.94,81.17,82.96,87.9,87.88,89.82,92.42,88.61,88.76,90.51,95.1,102.22,98.66,101.76,107.08,106.47,111.71,120.7,122.66]],\"x\":[[\"2021-11-19T00:00:00\",\"2021-11-20T00:00:00\",\"2021-11-21T00:00:00\",\"2021-11-22T00:00:00\",\"2021-11-23T00:00:00\",\"2021-11-24T00:00:00\",\"2021-11-25T00:00:00\",\"2021-11-26T00:00:00\",\"2021-11-27T00:00:00\",\"2021-11-28T00:00:00\",\"2021-11-29T00:00:00\",\"2021-11-30T00:00:00\",\"2021-12-01T00:00:00\",\"2021-12-02T00:00:00\",\"2021-12-03T00:00:00\",\"2021-12-04T00:00:00\",\"2021-12-05T00:00:00\",\"2021-12-06T00:00:00\",\"2021-12-07T00:00:00\",\"2021-12-08T00:00:00\",\"2021-12-09T00:00:00\",\"2021-12-10T00:00:00\",\"2021-12-11T00:00:00\",\"2021-12-12T00:00:00\",\"2021-12-13T00:00:00\",\"2021-12-14T00:00:00\",\"2021-12-15T00:00:00\",\"2021-12-16T00:00:00\",\"2021-12-17T00:00:00\",\"2021-12-18T00:00:00\",\"2021-12-19T00:00:00\",\"2021-12-20T00:00:00\",\"2021-12-21T00:00:00\",\"2021-12-22T00:00:00\",\"2021-12-22T00:00:00\",\"2021-12-24T00:00:00\",\"2021-12-25T00:00:00\",\"2021-12-26T00:00:00\",\"2021-12-27T00:00:00\",\"2021-12-28T00:00:00\",\"2021-12-29T00:00:00\",\"2021-12-31T00:00:00\",\"2022-01-01T00:00:00\",\"2022-01-02T00:00:00\",\"2022-01-03T00:00:00\",\"2022-01-04T00:00:00\",\"2022-01-05T00:00:00\",\"2022-01-06T00:00:00\",\"2022-01-07T00:00:00\",\"2022-01-08T00:00:00\",\"2022-01-09T00:00:00\",\"2022-01-10T00:00:00\",\"2022-01-11T00:00:00\",\"2022-01-12T00:00:00\",\"2022-01-13T00:00:00\",\"2022-01-14T00:00:00\",\"2022-01-15T00:00:00\",\"2022-01-16T00:00:00\",\"2022-01-17T00:00:00\",\"2022-01-17T00:00:00\",\"2022-01-19T00:00:00\",\"2022-01-20T00:00:00\",\"2022-01-21T00:00:00\",\"2022-01-22T00:00:00\",\"2022-01-23T00:00:00\",\"2022-01-24T00:00:00\",\"2022-01-25T00:00:00\",\"2022-01-26T00:00:00\",\"2022-01-27T00:00:00\",\"2022-01-27T00:00:00\",\"2022-01-29T00:00:00\",\"2022-01-30T00:00:00\",\"2022-01-31T00:00:00\",\"2022-02-01T00:00:00\",\"2022-02-02T00:00:00\",\"2022-02-03T00:00:00\",\"2022-02-04T00:00:00\",\"2022-02-05T00:00:00\",\"2022-02-06T00:00:00\",\"2022-02-07T00:00:00\",\"2022-02-08T00:00:00\",\"2022-02-09T00:00:00\",\"2022-02-10T00:00:00\",\"2022-02-11T00:00:00\",\"2022-02-12T00:00:00\",\"2022-02-13T00:00:00\",\"2022-02-14T00:00:00\",\"2022-02-15T00:00:00\",\"2022-02-16T00:00:00\",\"2022-02-17T00:00:00\",\"2022-02-18T00:00:00\",\"2022-02-19T00:00:00\",\"2022-02-20T00:00:00\",\"2022-02-21T00:00:00\",\"2022-02-22T00:00:00\",\"2022-02-23T00:00:00\",\"2022-02-24T00:00:00\",\"2022-02-25T00:00:00\",\"2022-02-26T00:00:00\",\"2022-02-27T00:00:00\",\"2022-03-06T00:00:00\",\"2022-03-07T00:00:00\",\"2022-03-08T00:00:00\",\"2022-03-09T00:00:00\",\"2022-03-10T00:00:00\",\"2022-03-11T00:00:00\",\"2022-03-12T00:00:00\",\"2022-03-13T00:00:00\",\"2022-03-14T00:00:00\",\"2022-03-15T00:00:00\",\"2022-03-16T00:00:00\",\"2022-03-17T00:00:00\",\"2022-03-18T00:00:00\",\"2022-03-19T00:00:00\",\"2022-03-20T00:00:00\",\"2022-03-21T00:00:00\",\"2022-03-22T00:00:00\"],[\"2021-11-01T00:00:00\",\"2021-11-02T00:00:00\",\"2021-11-03T00:00:00\",\"2021-11-04T00:00:00\",\"2021-11-05T00:00:00\",\"2021-11-06T00:00:00\",\"2021-11-07T00:00:00\",\"2021-11-08T00:00:00\",\"2021-11-09T00:00:00\",\"2021-11-10T00:00:00\",\"2021-11-11T00:00:00\",\"2021-11-12T00:00:00\",\"2021-11-13T00:00:00\",\"2021-11-14T00:00:00\",\"2021-11-15T00:00:00\",\"2021-11-16T00:00:00\",\"2021-11-17T00:00:00\",\"2021-11-18T00:00:00\",\"2021-11-19T00:00:00\",\"2021-11-20T00:00:00\",\"2021-11-21T00:00:00\",\"2021-11-22T00:00:00\",\"2021-11-23T00:00:00\",\"2021-11-24T00:00:00\",\"2021-11-25T00:00:00\",\"2021-11-26T00:00:00\",\"2021-11-27T00:00:00\",\"2021-11-28T00:00:00\",\"2021-11-29T00:00:00\",\"2021-11-30T00:00:00\",\"2021-12-01T00:00:00\",\"2021-12-02T00:00:00\",\"2021-12-03T00:00:00\",\"2021-12-04T00:00:00\",\"2021-12-05T00:00:00\",\"2021-12-06T00:00:00\",\"2021-12-07T00:00:00\",\"2021-12-08T00:00:00\",\"2021-12-09T00:00:00\",\"2021-12-10T00:00:00\",\"2021-12-11T00:00:00\",\"2021-12-12T00:00:00\",\"2021-12-13T00:00:00\",\"2021-12-14T00:00:00\",\"2021-12-15T00:00:00\",\"2021-12-16T00:00:00\",\"2021-12-17T00:00:00\",\"2021-12-18T00:00:00\",\"2021-12-18T00:00:00\",\"2021-12-19T00:00:00\",\"2021-12-19T00:00:00\",\"2021-12-20T00:00:00\",\"2021-12-20T00:00:00\",\"2021-12-21T00:00:00\",\"2021-12-21T00:00:00\",\"2021-12-22T00:00:00\",\"2021-12-22T00:00:00\",\"2021-12-23T00:00:00\",\"2021-12-24T00:00:00\",\"2021-12-25T00:00:00\",\"2021-12-26T00:00:00\",\"2021-12-27T00:00:00\",\"2021-12-28T00:00:00\",\"2021-12-29T00:00:00\",\"2021-12-30T00:00:00\",\"2021-12-31T00:00:00\",\"2022-01-01T00:00:00\",\"2022-01-02T00:00:00\",\"2022-01-03T00:00:00\",\"2022-01-04T00:00:00\",\"2022-01-05T00:00:00\",\"2022-01-06T00:00:00\",\"2022-01-07T00:00:00\",\"2022-01-08T00:00:00\",\"2022-01-09T00:00:00\",\"2022-01-10T00:00:00\",\"2022-01-11T00:00:00\",\"2022-01-12T00:00:00\",\"2022-01-13T00:00:00\",\"2022-01-14T00:00:00\",\"2022-01-15T00:00:00\",\"2022-01-16T00:00:00\",\"2022-01-17T00:00:00\",\"2022-01-18T00:00:00\",\"2022-01-19T00:00:00\",\"2022-01-20T00:00:00\",\"2022-01-21T00:00:00\",\"2022-01-22T00:00:00\",\"2022-01-23T00:00:00\",\"2022-01-24T00:00:00\",\"2022-01-25T00:00:00\",\"2022-01-26T00:00:00\",\"2022-01-27T00:00:00\",\"2022-01-28T00:00:00\",\"2022-01-29T00:00:00\",\"2022-01-30T00:00:00\",\"2022-01-31T00:00:00\",\"2022-02-01T00:00:00\",\"2022-02-02T00:00:00\",\"2022-02-03T00:00:00\",\"2022-02-04T00:00:00\",\"2022-02-05T00:00:00\",\"2022-02-06T00:00:00\",\"2022-02-07T00:00:00\",\"2022-02-08T00:00:00\",\"2022-02-09T00:00:00\",\"2022-02-10T00:00:00\",\"2022-02-11T00:00:00\",\"2022-02-12T00:00:00\",\"2022-02-13T00:00:00\",\"2022-02-14T00:00:00\",\"2022-02-16T00:00:00\",\"2022-02-17T00:00:00\",\"2022-02-18T00:00:00\",\"2022-02-19T00:00:00\",\"2022-02-20T00:00:00\",\"2022-02-21T00:00:00\",\"2022-02-22T00:00:00\",\"2022-02-23T00:00:00\",\"2022-02-24T00:00:00\",\"2022-02-25T00:00:00\",\"2022-02-26T00:00:00\",\"2022-02-27T00:00:00\",\"2022-02-28T00:00:00\",\"2022-03-01T00:00:00\",\"2022-03-02T00:00:00\",\"2022-03-03T00:00:00\",\"2022-03-04T00:00:00\",\"2022-03-05T00:00:00\",\"2022-03-06T00:00:00\",\"2022-03-07T00:00:00\",\"2022-03-08T00:00:00\",\"2022-03-09T00:00:00\",\"2022-03-10T00:00:00\",\"2022-03-11T00:00:00\",\"2022-03-12T00:00:00\",\"2022-03-13T00:00:00\",\"2022-03-14T00:00:00\",\"2022-03-15T00:00:00\",\"2022-03-16T00:00:00\",\"2022-03-17T00:00:00\",\"2022-03-18T00:00:00\",\"2022-03-19T00:00:00\",\"2022-03-20T00:00:00\",\"2022-03-21T00:00:00\",\"2022-03-22T00:00:00\",\"2022-03-23T00:00:00\",\"2022-03-24T00:00:00\",\"2022-03-25T00:00:00\",\"2022-03-26T00:00:00\",\"2022-03-27T00:00:00\",\"2022-03-28T00:00:00\",\"2022-03-29T00:00:00\",\"2022-03-30T00:00:00\",\"2022-03-31T00:00:00\"]],\"type\":\"scatter\",\"title\":[\"Predication\",\"Real price\"]}],\"label\":\"SOL\",\"method\":\"restyle\",\"visible\":true},{\"args\":[{\"y\":[[2.2165,2.2138,2.2118,2.21,2.21,2.2095,2.2031,2.2016,2.2,2.2,2.2,2.1993,2.1958,2.1905,2.19,2.19,2.1881,2.1874,2.181,2.18,2.1799,2.093539908953868,2.117229210346597,2.267798279648508,2.187516593330796,2.264978769045134,2.1932366818819897,2.1278842876932544,2.2708667963001146,2.197358497943428,2.1679644566344285,2.15,2.1397,2.1346,2.1346,2.1513239370719863,2.235089629984126,2.1321401462916927,2.061650756081656,2.13,2.1237,2.12,2.1149,2.11,2.1069,2.1,2.08,2.08,2.07,2.0409649643453345,2.166262584178285,2.07,2.06,2.0531,2.05,2.05,2.120084274419376,2.0436,1.966742156703064,2.04,2.0352,2.03,2.0414097263624056,2.02,2.0174,2.01,2.0,2.0,1.9041707888098287,2.0,1.9997,1.944801459897282,1.99,1.9754,1.99850923817542,1.912552602446846,1.9730196803242304,1.898565991178484,1.9723530654475767,1.9994993432678425,1.9443674452532689,1.9359863198838467,1.91991333526368,1.9346632859265127,1.916142247792928,2.073563640752316,2.051140580104335,1.9217439984621136,1.9382963680091083,2.0650003575573885,2.023305767335452,1.972580592808626,2.019506988885836,1.9556870503331336,1.974433414219516,1.9061741283196243,2.022689902068911,1.8898348066906976,2.073731084330844,1.55,1.44,1.3841402057887031,1.507900687024888,1.438344985551147,1.3722652821488452,1.4550910646939057,1.4634459067634755,1.392338255768067,1.3829054652371722,1.3773728926833768,1.384854845653042,1.4983118605985988,1.4225888639806117,1.4197514684905452,1.4516738970861454,1.4681146088207404,1.8836],[1.95,1.97,2.06,1.98,1.99,2.01,2.02,2.12,2.27,2.1,2.09,2.05,2.05,2.04,2.02,1.88,1.88,1.79,1.86,1.92,1.84,1.78,1.75,1.67,1.68,1.53,1.55,1.59,1.6,1.55,1.55,1.72,1.56,1.42,1.38,1.43,1.38,1.4,1.29,1.21,1.35,1.35,1.23,1.27,1.31,1.24,1.22,1.24,1.24,1.24,1.24,1.24,1.24,1.28,1.28,1.33,1.33,1.47,1.39,1.45,1.46,1.51,1.4,1.33,1.36,1.31,1.38,1.38,1.32,1.31,1.24,1.28,1.21,1.19,1.17,1.13,1.19,1.3,1.23,1.29,1.3,1.41,1.59,1.47,1.34,1.26,1.12,1.07,1.12,1.07,1.04,1.08,1.04,1.05,1.06,1.04,1.05,1.09,1.03,1.06,1.14,1.13,1.14,1.2,1.18,1.19,1.15,1.08,1.06,1.05,1.05,1.08,1.02,0.9971,0.9977,0.9329,0.8582,0.889,0.8692,0.8534,0.898,0.8879,0.8583,0.9598,0.9623,0.9387,0.9027,0.8429,0.8657,0.8238,0.7974,0.8012,0.8493,0.8063,0.7901,0.7907,0.791,0.8039,0.8,0.8384,0.8368,0.8534,0.9011,0.8771,0.9168,0.9764,1.11,1.13,1.1,1.15,1.18,1.17,1.19,1.19,1.14]],\"x\":[[\"2021-11-19T00:00:00\",\"2021-11-20T00:00:00\",\"2021-11-21T00:00:00\",\"2021-11-22T00:00:00\",\"2021-11-23T00:00:00\",\"2021-11-24T00:00:00\",\"2021-11-25T00:00:00\",\"2021-11-26T00:00:00\",\"2021-11-27T00:00:00\",\"2021-11-28T00:00:00\",\"2021-11-29T00:00:00\",\"2021-11-30T00:00:00\",\"2021-12-01T00:00:00\",\"2021-12-02T00:00:00\",\"2021-12-03T00:00:00\",\"2021-12-04T00:00:00\",\"2021-12-05T00:00:00\",\"2021-12-06T00:00:00\",\"2021-12-07T00:00:00\",\"2021-12-08T00:00:00\",\"2021-12-09T00:00:00\",\"2021-12-10T00:00:00\",\"2021-12-11T00:00:00\",\"2021-12-12T00:00:00\",\"2021-12-13T00:00:00\",\"2021-12-14T00:00:00\",\"2021-12-15T00:00:00\",\"2021-12-16T00:00:00\",\"2021-12-17T00:00:00\",\"2021-12-18T00:00:00\",\"2021-12-19T00:00:00\",\"2021-12-20T00:00:00\",\"2021-12-21T00:00:00\",\"2021-12-22T00:00:00\",\"2021-12-22T00:00:00\",\"2021-12-24T00:00:00\",\"2021-12-25T00:00:00\",\"2021-12-26T00:00:00\",\"2021-12-27T00:00:00\",\"2021-12-28T00:00:00\",\"2021-12-29T00:00:00\",\"2021-12-31T00:00:00\",\"2022-01-01T00:00:00\",\"2022-01-02T00:00:00\",\"2022-01-03T00:00:00\",\"2022-01-04T00:00:00\",\"2022-01-05T00:00:00\",\"2022-01-06T00:00:00\",\"2022-01-07T00:00:00\",\"2022-01-08T00:00:00\",\"2022-01-09T00:00:00\",\"2022-01-10T00:00:00\",\"2022-01-11T00:00:00\",\"2022-01-12T00:00:00\",\"2022-01-13T00:00:00\",\"2022-01-14T00:00:00\",\"2022-01-15T00:00:00\",\"2022-01-16T00:00:00\",\"2022-01-17T00:00:00\",\"2022-01-17T00:00:00\",\"2022-01-19T00:00:00\",\"2022-01-20T00:00:00\",\"2022-01-21T00:00:00\",\"2022-01-22T00:00:00\",\"2022-01-23T00:00:00\",\"2022-01-24T00:00:00\",\"2022-01-25T00:00:00\",\"2022-01-26T00:00:00\",\"2022-01-27T00:00:00\",\"2022-01-27T00:00:00\",\"2022-01-29T00:00:00\",\"2022-01-30T00:00:00\",\"2022-01-31T00:00:00\",\"2022-02-01T00:00:00\",\"2022-02-02T00:00:00\",\"2022-02-03T00:00:00\",\"2022-02-04T00:00:00\",\"2022-02-05T00:00:00\",\"2022-02-06T00:00:00\",\"2022-02-07T00:00:00\",\"2022-02-08T00:00:00\",\"2022-02-09T00:00:00\",\"2022-02-10T00:00:00\",\"2022-02-11T00:00:00\",\"2022-02-12T00:00:00\",\"2022-02-13T00:00:00\",\"2022-02-14T00:00:00\",\"2022-02-15T00:00:00\",\"2022-02-16T00:00:00\",\"2022-02-17T00:00:00\",\"2022-02-18T00:00:00\",\"2022-02-19T00:00:00\",\"2022-02-20T00:00:00\",\"2022-02-21T00:00:00\",\"2022-02-22T00:00:00\",\"2022-02-23T00:00:00\",\"2022-02-24T00:00:00\",\"2022-02-25T00:00:00\",\"2022-02-26T00:00:00\",\"2022-02-27T00:00:00\",\"2022-03-06T00:00:00\",\"2022-03-07T00:00:00\",\"2022-03-08T00:00:00\",\"2022-03-09T00:00:00\",\"2022-03-10T00:00:00\",\"2022-03-11T00:00:00\",\"2022-03-12T00:00:00\",\"2022-03-13T00:00:00\",\"2022-03-14T00:00:00\",\"2022-03-15T00:00:00\",\"2022-03-16T00:00:00\",\"2022-03-17T00:00:00\",\"2022-03-18T00:00:00\",\"2022-03-19T00:00:00\",\"2022-03-20T00:00:00\",\"2022-03-21T00:00:00\",\"2022-03-22T00:00:00\"],[\"2021-11-01T00:00:00\",\"2021-11-02T00:00:00\",\"2021-11-03T00:00:00\",\"2021-11-04T00:00:00\",\"2021-11-05T00:00:00\",\"2021-11-06T00:00:00\",\"2021-11-07T00:00:00\",\"2021-11-08T00:00:00\",\"2021-11-09T00:00:00\",\"2021-11-10T00:00:00\",\"2021-11-11T00:00:00\",\"2021-11-12T00:00:00\",\"2021-11-13T00:00:00\",\"2021-11-14T00:00:00\",\"2021-11-15T00:00:00\",\"2021-11-16T00:00:00\",\"2021-11-17T00:00:00\",\"2021-11-18T00:00:00\",\"2021-11-19T00:00:00\",\"2021-11-20T00:00:00\",\"2021-11-21T00:00:00\",\"2021-11-22T00:00:00\",\"2021-11-23T00:00:00\",\"2021-11-24T00:00:00\",\"2021-11-25T00:00:00\",\"2021-11-26T00:00:00\",\"2021-11-27T00:00:00\",\"2021-11-28T00:00:00\",\"2021-11-29T00:00:00\",\"2021-11-30T00:00:00\",\"2021-12-01T00:00:00\",\"2021-12-02T00:00:00\",\"2021-12-03T00:00:00\",\"2021-12-04T00:00:00\",\"2021-12-05T00:00:00\",\"2021-12-06T00:00:00\",\"2021-12-07T00:00:00\",\"2021-12-08T00:00:00\",\"2021-12-09T00:00:00\",\"2021-12-10T00:00:00\",\"2021-12-11T00:00:00\",\"2021-12-12T00:00:00\",\"2021-12-13T00:00:00\",\"2021-12-14T00:00:00\",\"2021-12-15T00:00:00\",\"2021-12-16T00:00:00\",\"2021-12-17T00:00:00\",\"2021-12-18T00:00:00\",\"2021-12-18T00:00:00\",\"2021-12-19T00:00:00\",\"2021-12-19T00:00:00\",\"2021-12-20T00:00:00\",\"2021-12-20T00:00:00\",\"2021-12-21T00:00:00\",\"2021-12-21T00:00:00\",\"2021-12-22T00:00:00\",\"2021-12-22T00:00:00\",\"2021-12-23T00:00:00\",\"2021-12-24T00:00:00\",\"2021-12-25T00:00:00\",\"2021-12-26T00:00:00\",\"2021-12-27T00:00:00\",\"2021-12-28T00:00:00\",\"2021-12-29T00:00:00\",\"2021-12-30T00:00:00\",\"2021-12-31T00:00:00\",\"2022-01-01T00:00:00\",\"2022-01-02T00:00:00\",\"2022-01-03T00:00:00\",\"2022-01-04T00:00:00\",\"2022-01-05T00:00:00\",\"2022-01-06T00:00:00\",\"2022-01-07T00:00:00\",\"2022-01-08T00:00:00\",\"2022-01-09T00:00:00\",\"2022-01-10T00:00:00\",\"2022-01-11T00:00:00\",\"2022-01-12T00:00:00\",\"2022-01-13T00:00:00\",\"2022-01-14T00:00:00\",\"2022-01-15T00:00:00\",\"2022-01-16T00:00:00\",\"2022-01-17T00:00:00\",\"2022-01-18T00:00:00\",\"2022-01-19T00:00:00\",\"2022-01-20T00:00:00\",\"2022-01-21T00:00:00\",\"2022-01-22T00:00:00\",\"2022-01-23T00:00:00\",\"2022-01-24T00:00:00\",\"2022-01-25T00:00:00\",\"2022-01-26T00:00:00\",\"2022-01-27T00:00:00\",\"2022-01-28T00:00:00\",\"2022-01-29T00:00:00\",\"2022-01-30T00:00:00\",\"2022-01-31T00:00:00\",\"2022-02-01T00:00:00\",\"2022-02-02T00:00:00\",\"2022-02-03T00:00:00\",\"2022-02-04T00:00:00\",\"2022-02-05T00:00:00\",\"2022-02-06T00:00:00\",\"2022-02-07T00:00:00\",\"2022-02-08T00:00:00\",\"2022-02-09T00:00:00\",\"2022-02-10T00:00:00\",\"2022-02-11T00:00:00\",\"2022-02-12T00:00:00\",\"2022-02-13T00:00:00\",\"2022-02-14T00:00:00\",\"2022-02-16T00:00:00\",\"2022-02-17T00:00:00\",\"2022-02-18T00:00:00\",\"2022-02-19T00:00:00\",\"2022-02-20T00:00:00\",\"2022-02-21T00:00:00\",\"2022-02-22T00:00:00\",\"2022-02-23T00:00:00\",\"2022-02-24T00:00:00\",\"2022-02-25T00:00:00\",\"2022-02-26T00:00:00\",\"2022-02-27T00:00:00\",\"2022-02-28T00:00:00\",\"2022-03-01T00:00:00\",\"2022-03-02T00:00:00\",\"2022-03-03T00:00:00\",\"2022-03-04T00:00:00\",\"2022-03-05T00:00:00\",\"2022-03-06T00:00:00\",\"2022-03-07T00:00:00\",\"2022-03-08T00:00:00\",\"2022-03-09T00:00:00\",\"2022-03-10T00:00:00\",\"2022-03-11T00:00:00\",\"2022-03-12T00:00:00\",\"2022-03-13T00:00:00\",\"2022-03-14T00:00:00\",\"2022-03-15T00:00:00\",\"2022-03-16T00:00:00\",\"2022-03-17T00:00:00\",\"2022-03-18T00:00:00\",\"2022-03-19T00:00:00\",\"2022-03-20T00:00:00\",\"2022-03-21T00:00:00\",\"2022-03-22T00:00:00\",\"2022-03-23T00:00:00\",\"2022-03-24T00:00:00\",\"2022-03-25T00:00:00\",\"2022-03-26T00:00:00\",\"2022-03-27T00:00:00\",\"2022-03-28T00:00:00\",\"2022-03-29T00:00:00\",\"2022-03-30T00:00:00\",\"2022-03-31T00:00:00\"]],\"type\":\"scatter\",\"title\":[\"Predication\",\"Real price\"]}],\"label\":\"ADA\",\"method\":\"restyle\",\"visible\":true}],\"direction\":\"down\",\"showactive\":true}]},                        {\"responsive\": true}                    ).then(function(){\n",
       "                            \n",
       "var gd = document.getElementById('41707b30-3478-413a-a869-9797f9697e17');\n",
       "var x = new MutationObserver(function (mutations, observer) {{\n",
       "        var display = window.getComputedStyle(gd).display;\n",
       "        if (!display || display === 'none') {{\n",
       "            console.log([gd, 'removed!']);\n",
       "            Plotly.purge(gd);\n",
       "            observer.disconnect();\n",
       "        }}\n",
       "}});\n",
       "\n",
       "// Listen for the removal of the full notebook cells\n",
       "var notebookContainer = gd.closest('#notebook-container');\n",
       "if (notebookContainer) {{\n",
       "    x.observe(notebookContainer, {childList: true});\n",
       "}}\n",
       "\n",
       "// Listen for the clearing of the current output cell\n",
       "var outputEl = gd.closest('.output');\n",
       "if (outputEl) {{\n",
       "    x.observe(outputEl, {childList: true});\n",
       "}}\n",
       "\n",
       "                        })                };                });            </script>        </div>"
      ]
     },
     "metadata": {},
     "output_type": "display_data"
    }
   ],
   "source": [
    "def dropdown():\n",
    "    buttons = []\n",
    "    fig = go.Figure()\n",
    "    df_merged = get_predication('BTC',\"2022-03-31\")\n",
    "    df_btc_daily = get_real_price('BTC','2021-11-01',\"2022-03-31\")\n",
    "    fig.add_trace(go.Scatter(x = df_merged['Predication_date'], y = df_merged['Values_median'],\n",
    "                            name='Predication'))\n",
    "    fig.add_trace(go.Scatter(x = df_btc_daily['Date'], y = df_btc_daily['Price'],\n",
    "                            name = 'Real price'))\n",
    "    for symbol in symbol_list[:5]:\n",
    "        for month in ['2022-03-31']:\n",
    "            df_merged = get_predication(symbol,month)\n",
    "            df_btc_daily = get_real_price(symbol,'2021-11-01',month)\n",
    "            buttons.append(dict(method='restyle',\n",
    "                            label=symbol,\n",
    "                            visible=True,\n",
    "                            args=[{'y':[df_merged['Values_median'],df_btc_daily['Price']],\n",
    "                                   'x':[df_merged['Predication_date'],df_btc_daily['Date']],\n",
    "                                   'type':'scatter',\n",
    "                                  'title': ['Predication','Real price']}\n",
    "                                 \n",
    "                                 ]))\n",
    "                            \n",
    "\n",
    "\n",
    "    updatemenu = []\n",
    "    your_menu = dict()\n",
    "    updatemenu.append(your_menu)\n",
    "    updatemenu[0]['buttons'] = buttons\n",
    "    updatemenu[0]['direction'] = 'down'\n",
    "    updatemenu[0]['showactive'] = True\n",
    "\n",
    "    fig.update_layout(showlegend=False, updatemenus=updatemenu)\n",
    "    fig.show()\n",
    "dropdown()"
   ]
  }
 ],
 "metadata": {
  "kernelspec": {
   "display_name": "Python 3",
   "language": "python",
   "name": "python3"
  },
  "language_info": {
   "codemirror_mode": {
    "name": "ipython",
    "version": 3
   },
   "file_extension": ".py",
   "mimetype": "text/x-python",
   "name": "python",
   "nbconvert_exporter": "python",
   "pygments_lexer": "ipython3",
   "version": "3.8.8"
  }
 },
 "nbformat": 4,
 "nbformat_minor": 5
}
